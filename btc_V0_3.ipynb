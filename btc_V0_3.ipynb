{
 "cells": [
  {
   "cell_type": "markdown",
   "id": "H1F56lS_93TS",
   "metadata": {
    "id": "H1F56lS_93TS"
   },
   "source": [
    "# lib"
   ]
  },
  {
   "cell_type": "code",
   "execution_count": 1,
   "id": "94bd2b0c",
   "metadata": {
    "execution": {
     "iopub.execute_input": "2021-11-09T08:22:29.385315Z",
     "iopub.status.busy": "2021-11-09T08:22:29.384708Z",
     "iopub.status.idle": "2021-11-09T08:22:37.325011Z",
     "shell.execute_reply": "2021-11-09T08:22:37.325524Z",
     "shell.execute_reply.started": "2021-11-09T08:11:07.476205Z"
    },
    "id": "94bd2b0c",
    "papermill": {
     "duration": 7.986193,
     "end_time": "2021-11-09T08:22:37.325835",
     "exception": false,
     "start_time": "2021-11-09T08:22:29.339642",
     "status": "completed"
    },
    "tags": []
   },
   "outputs": [],
   "source": [
    "import pickle\n",
    "import warnings\n",
    "warnings.filterwarnings('ignore')\n",
    "import os\n",
    "import pandas as pd\n",
    "import numpy as np\n",
    "import math\n",
    "import datetime as dt\n",
    "import matplotlib.pyplot as plt\n",
    "\n",
    "from sklearn.metrics import mean_squared_error, mean_absolute_error, explained_variance_score, r2_score \n",
    "from sklearn.metrics import mean_poisson_deviance, mean_gamma_deviance, accuracy_score\n",
    "from sklearn.preprocessing import MinMaxScaler , StandardScaler\n",
    "\n",
    "from itertools import product\n",
    "import statsmodels.api as sm\n",
    "\n",
    "import tensorflow as tf\n",
    "\n",
    "from tensorflow.keras.models import Sequential\n",
    "from tensorflow.keras.layers import Dense, Dropout\n",
    "from tensorflow.keras.layers import LSTM\n",
    "\n",
    "from itertools import cycle\n",
    "import plotly.offline as py\n",
    "import plotly.graph_objects as go\n",
    "import plotly.express as px\n",
    "from plotly.subplots import make_subplots\n",
    "\n",
    "plt.style.use('seaborn-darkgrid')"
   ]
  },
  {
   "cell_type": "code",
   "execution_count": 2,
   "id": "kn5e0-PMA-sa",
   "metadata": {
    "colab": {
     "base_uri": "https://localhost:8080/"
    },
    "id": "kn5e0-PMA-sa",
    "outputId": "8c9a400b-4225-46d8-8887-de92f71ec739"
   },
   "outputs": [
    {
     "name": "stdout",
     "output_type": "stream",
     "text": [
      "Collecting pandas_ta\n",
      "  Downloading pandas_ta-0.3.14b.tar.gz (115 kB)\n",
      "\u001b[?25l\r",
      "\u001b[K     |██▉                             | 10 kB 31.1 MB/s eta 0:00:01\r",
      "\u001b[K     |█████▊                          | 20 kB 14.4 MB/s eta 0:00:01\r",
      "\u001b[K     |████████▌                       | 30 kB 8.3 MB/s eta 0:00:01\r",
      "\u001b[K     |███████████▍                    | 40 kB 4.6 MB/s eta 0:00:01\r",
      "\u001b[K     |██████████████▎                 | 51 kB 4.3 MB/s eta 0:00:01\r",
      "\u001b[K     |█████████████████               | 61 kB 5.1 MB/s eta 0:00:01\r",
      "\u001b[K     |████████████████████            | 71 kB 5.6 MB/s eta 0:00:01\r",
      "\u001b[K     |██████████████████████▊         | 81 kB 6.3 MB/s eta 0:00:01\r",
      "\u001b[K     |█████████████████████████▋      | 92 kB 5.9 MB/s eta 0:00:01\r",
      "\u001b[K     |████████████████████████████▌   | 102 kB 5.3 MB/s eta 0:00:01\r",
      "\u001b[K     |███████████████████████████████▎| 112 kB 5.3 MB/s eta 0:00:01\r",
      "\u001b[K     |████████████████████████████████| 115 kB 5.3 MB/s \n",
      "\u001b[?25hRequirement already satisfied: pandas in /usr/local/lib/python3.7/dist-packages (from pandas_ta) (1.3.5)\n",
      "Requirement already satisfied: numpy>=1.17.3 in /usr/local/lib/python3.7/dist-packages (from pandas->pandas_ta) (1.21.6)\n",
      "Requirement already satisfied: python-dateutil>=2.7.3 in /usr/local/lib/python3.7/dist-packages (from pandas->pandas_ta) (2.8.2)\n",
      "Requirement already satisfied: pytz>=2017.3 in /usr/local/lib/python3.7/dist-packages (from pandas->pandas_ta) (2022.1)\n",
      "Requirement already satisfied: six>=1.5 in /usr/local/lib/python3.7/dist-packages (from python-dateutil>=2.7.3->pandas->pandas_ta) (1.15.0)\n",
      "Building wheels for collected packages: pandas-ta\n",
      "  Building wheel for pandas-ta (setup.py) ... \u001b[?25l\u001b[?25hdone\n",
      "  Created wheel for pandas-ta: filename=pandas_ta-0.3.14b0-py3-none-any.whl size=218923 sha256=84eb2078858d78d23cf7090852e9d78f553de8b75faf34de6d32911406b351c7\n",
      "  Stored in directory: /root/.cache/pip/wheels/0b/81/f0/cca85757840e4616a2c6b9fe12569d97d324c27cac60724c58\n",
      "Successfully built pandas-ta\n",
      "Installing collected packages: pandas-ta\n",
      "Successfully installed pandas-ta-0.3.14b0\n"
     ]
    }
   ],
   "source": [
    "!pip install pandas_ta\n",
    "import pandas_ta as ta"
   ]
  },
  {
   "cell_type": "markdown",
   "id": "HfXgO1eM90Iq",
   "metadata": {
    "id": "HfXgO1eM90Iq"
   },
   "source": [
    "# preprocessing data"
   ]
  },
  {
   "cell_type": "code",
   "execution_count": 229,
   "id": "xGYj63_oMPEu",
   "metadata": {
    "colab": {
     "base_uri": "https://localhost:8080/"
    },
    "id": "xGYj63_oMPEu",
    "outputId": "8b4de82f-92bc-428e-ab55-19bcf29bf9e6"
   },
   "outputs": [
    {
     "name": "stdout",
     "output_type": "stream",
     "text": [
      "Drive already mounted at /content/drive; to attempt to forcibly remount, call drive.mount(\"/content/drive\", force_remount=True).\n"
     ]
    }
   ],
   "source": [
    "# https://www.kaggle.com/datasets/paulrohan2020/bitcoin-historic-prices-from-oct2015-to-oct2021?select=btc_ohlc_Oct_2015_to_Oct_2021.csv\n",
    "from google.colab import drive\n",
    "drive.mount('/content/drive')\n",
    "path_to_file = \"./drive/MyDrive/btc_ohlc_Oct_2015_to_Oct_2021.csv\""
   ]
  },
  {
   "cell_type": "code",
   "execution_count": 230,
   "id": "300b773c",
   "metadata": {
    "colab": {
     "base_uri": "https://localhost:8080/",
     "height": 206
    },
    "execution": {
     "iopub.execute_input": "2021-11-09T08:22:37.474046Z",
     "iopub.status.busy": "2021-11-09T08:22:37.473162Z",
     "iopub.status.idle": "2021-11-09T08:22:43.282686Z",
     "shell.execute_reply": "2021-11-09T08:22:43.283134Z",
     "shell.execute_reply.started": "2021-11-09T07:52:07.794604Z"
    },
    "id": "300b773c",
    "outputId": "ccfd67ec-2186-464a-ad16-967afbe9e5ff",
    "papermill": {
     "duration": 5.849088,
     "end_time": "2021-11-09T08:22:43.283293",
     "exception": false,
     "start_time": "2021-11-09T08:22:37.434205",
     "status": "completed"
    },
    "tags": []
   },
   "outputs": [
    {
     "data": {
      "text/html": [
       "\n",
       "  <div id=\"df-4b894747-1fc3-4608-90fc-6b6ff7d9aab7\">\n",
       "    <div class=\"colab-df-container\">\n",
       "      <div>\n",
       "<style scoped>\n",
       "    .dataframe tbody tr th:only-of-type {\n",
       "        vertical-align: middle;\n",
       "    }\n",
       "\n",
       "    .dataframe tbody tr th {\n",
       "        vertical-align: top;\n",
       "    }\n",
       "\n",
       "    .dataframe thead th {\n",
       "        text-align: right;\n",
       "    }\n",
       "</style>\n",
       "<table border=\"1\" class=\"dataframe\">\n",
       "  <thead>\n",
       "    <tr style=\"text-align: right;\">\n",
       "      <th></th>\n",
       "      <th>time</th>\n",
       "      <th>low</th>\n",
       "      <th>high</th>\n",
       "      <th>open</th>\n",
       "      <th>close</th>\n",
       "      <th>volume</th>\n",
       "    </tr>\n",
       "  </thead>\n",
       "  <tbody>\n",
       "    <tr>\n",
       "      <th>3113271</th>\n",
       "      <td>2015-10-27 00:04:00</td>\n",
       "      <td>287.07</td>\n",
       "      <td>287.07</td>\n",
       "      <td>287.07</td>\n",
       "      <td>287.07</td>\n",
       "      <td>0.08610</td>\n",
       "    </tr>\n",
       "    <tr>\n",
       "      <th>3113272</th>\n",
       "      <td>2015-10-27 00:03:00</td>\n",
       "      <td>287.08</td>\n",
       "      <td>287.09</td>\n",
       "      <td>287.08</td>\n",
       "      <td>287.09</td>\n",
       "      <td>0.55440</td>\n",
       "    </tr>\n",
       "    <tr>\n",
       "      <th>3113273</th>\n",
       "      <td>2015-10-27 00:02:00</td>\n",
       "      <td>286.89</td>\n",
       "      <td>287.10</td>\n",
       "      <td>287.10</td>\n",
       "      <td>286.89</td>\n",
       "      <td>72.40320</td>\n",
       "    </tr>\n",
       "    <tr>\n",
       "      <th>3113274</th>\n",
       "      <td>2015-10-27 00:01:00</td>\n",
       "      <td>287.09</td>\n",
       "      <td>287.09</td>\n",
       "      <td>287.09</td>\n",
       "      <td>287.09</td>\n",
       "      <td>0.82276</td>\n",
       "    </tr>\n",
       "    <tr>\n",
       "      <th>3113275</th>\n",
       "      <td>2015-10-27 00:00:00</td>\n",
       "      <td>287.10</td>\n",
       "      <td>287.10</td>\n",
       "      <td>287.10</td>\n",
       "      <td>287.10</td>\n",
       "      <td>0.53620</td>\n",
       "    </tr>\n",
       "  </tbody>\n",
       "</table>\n",
       "</div>\n",
       "      <button class=\"colab-df-convert\" onclick=\"convertToInteractive('df-4b894747-1fc3-4608-90fc-6b6ff7d9aab7')\"\n",
       "              title=\"Convert this dataframe to an interactive table.\"\n",
       "              style=\"display:none;\">\n",
       "        \n",
       "  <svg xmlns=\"http://www.w3.org/2000/svg\" height=\"24px\"viewBox=\"0 0 24 24\"\n",
       "       width=\"24px\">\n",
       "    <path d=\"M0 0h24v24H0V0z\" fill=\"none\"/>\n",
       "    <path d=\"M18.56 5.44l.94 2.06.94-2.06 2.06-.94-2.06-.94-.94-2.06-.94 2.06-2.06.94zm-11 1L8.5 8.5l.94-2.06 2.06-.94-2.06-.94L8.5 2.5l-.94 2.06-2.06.94zm10 10l.94 2.06.94-2.06 2.06-.94-2.06-.94-.94-2.06-.94 2.06-2.06.94z\"/><path d=\"M17.41 7.96l-1.37-1.37c-.4-.4-.92-.59-1.43-.59-.52 0-1.04.2-1.43.59L10.3 9.45l-7.72 7.72c-.78.78-.78 2.05 0 2.83L4 21.41c.39.39.9.59 1.41.59.51 0 1.02-.2 1.41-.59l7.78-7.78 2.81-2.81c.8-.78.8-2.07 0-2.86zM5.41 20L4 18.59l7.72-7.72 1.47 1.35L5.41 20z\"/>\n",
       "  </svg>\n",
       "      </button>\n",
       "      \n",
       "  <style>\n",
       "    .colab-df-container {\n",
       "      display:flex;\n",
       "      flex-wrap:wrap;\n",
       "      gap: 12px;\n",
       "    }\n",
       "\n",
       "    .colab-df-convert {\n",
       "      background-color: #E8F0FE;\n",
       "      border: none;\n",
       "      border-radius: 50%;\n",
       "      cursor: pointer;\n",
       "      display: none;\n",
       "      fill: #1967D2;\n",
       "      height: 32px;\n",
       "      padding: 0 0 0 0;\n",
       "      width: 32px;\n",
       "    }\n",
       "\n",
       "    .colab-df-convert:hover {\n",
       "      background-color: #E2EBFA;\n",
       "      box-shadow: 0px 1px 2px rgba(60, 64, 67, 0.3), 0px 1px 3px 1px rgba(60, 64, 67, 0.15);\n",
       "      fill: #174EA6;\n",
       "    }\n",
       "\n",
       "    [theme=dark] .colab-df-convert {\n",
       "      background-color: #3B4455;\n",
       "      fill: #D2E3FC;\n",
       "    }\n",
       "\n",
       "    [theme=dark] .colab-df-convert:hover {\n",
       "      background-color: #434B5C;\n",
       "      box-shadow: 0px 1px 3px 1px rgba(0, 0, 0, 0.15);\n",
       "      filter: drop-shadow(0px 1px 2px rgba(0, 0, 0, 0.3));\n",
       "      fill: #FFFFFF;\n",
       "    }\n",
       "  </style>\n",
       "\n",
       "      <script>\n",
       "        const buttonEl =\n",
       "          document.querySelector('#df-4b894747-1fc3-4608-90fc-6b6ff7d9aab7 button.colab-df-convert');\n",
       "        buttonEl.style.display =\n",
       "          google.colab.kernel.accessAllowed ? 'block' : 'none';\n",
       "\n",
       "        async function convertToInteractive(key) {\n",
       "          const element = document.querySelector('#df-4b894747-1fc3-4608-90fc-6b6ff7d9aab7');\n",
       "          const dataTable =\n",
       "            await google.colab.kernel.invokeFunction('convertToInteractive',\n",
       "                                                     [key], {});\n",
       "          if (!dataTable) return;\n",
       "\n",
       "          const docLinkHtml = 'Like what you see? Visit the ' +\n",
       "            '<a target=\"_blank\" href=https://colab.research.google.com/notebooks/data_table.ipynb>data table notebook</a>'\n",
       "            + ' to learn more about interactive tables.';\n",
       "          element.innerHTML = '';\n",
       "          dataTable['output_type'] = 'display_data';\n",
       "          await google.colab.output.renderOutput(dataTable, element);\n",
       "          const docLink = document.createElement('div');\n",
       "          docLink.innerHTML = docLinkHtml;\n",
       "          element.appendChild(docLink);\n",
       "        }\n",
       "      </script>\n",
       "    </div>\n",
       "  </div>\n",
       "  "
      ],
      "text/plain": [
       "                        time     low    high    open   close    volume\n",
       "3113271  2015-10-27 00:04:00  287.07  287.07  287.07  287.07   0.08610\n",
       "3113272  2015-10-27 00:03:00  287.08  287.09  287.08  287.09   0.55440\n",
       "3113273  2015-10-27 00:02:00  286.89  287.10  287.10  286.89  72.40320\n",
       "3113274  2015-10-27 00:01:00  287.09  287.09  287.09  287.09   0.82276\n",
       "3113275  2015-10-27 00:00:00  287.10  287.10  287.10  287.10   0.53620"
      ]
     },
     "execution_count": 230,
     "metadata": {},
     "output_type": "execute_result"
    }
   ],
   "source": [
    "btc_input_df = pd.read_csv(path_to_file)\n",
    "btc_input_df.tail()"
   ]
  },
  {
   "cell_type": "code",
   "execution_count": 231,
   "id": "e67a49cb",
   "metadata": {
    "execution": {
     "iopub.execute_input": "2021-11-09T08:22:45.211367Z",
     "iopub.status.busy": "2021-11-09T08:22:45.209919Z",
     "iopub.status.idle": "2021-11-09T08:22:45.259856Z",
     "shell.execute_reply": "2021-11-09T08:22:45.260322Z",
     "shell.execute_reply.started": "2021-11-09T07:52:14.385146Z"
    },
    "id": "e67a49cb",
    "papermill": {
     "duration": 1.099083,
     "end_time": "2021-11-09T08:22:45.260495",
     "exception": false,
     "start_time": "2021-11-09T08:22:44.161412",
     "status": "completed"
    },
    "tags": []
   },
   "outputs": [],
   "source": [
    "btc_input_df_datetype = btc_input_df.astype({'time': 'datetime64'})\n",
    "btc_input_df_datetype['close_log'] = np.log(btc_input_df_datetype['close'])"
   ]
  },
  {
   "cell_type": "code",
   "execution_count": 232,
   "id": "qhGA5XdENdJ7",
   "metadata": {
    "colab": {
     "base_uri": "https://localhost:8080/"
    },
    "id": "qhGA5XdENdJ7",
    "outputId": "670053b9-d842-44fe-8a22-4915d906dbd1"
   },
   "outputs": [
    {
     "data": {
      "text/plain": [
       "Series([], Name: close_log, dtype: float64)"
      ]
     },
     "execution_count": 232,
     "metadata": {},
     "output_type": "execute_result"
    }
   ],
   "source": [
    "btc_input_df_datetype.drop(2381238,axis=0,inplace=True)\n",
    "btc_input_df_datetype['close_log'][btc_input_df_datetype['close']<4]"
   ]
  },
  {
   "cell_type": "code",
   "execution_count": 233,
   "id": "369485c9",
   "metadata": {
    "colab": {
     "base_uri": "https://localhost:8080/",
     "height": 444
    },
    "execution": {
     "iopub.execute_input": "2021-11-09T08:22:45.855884Z",
     "iopub.status.busy": "2021-11-09T08:22:45.855251Z",
     "iopub.status.idle": "2021-11-09T08:23:07.129023Z",
     "shell.execute_reply": "2021-11-09T08:23:07.129522Z",
     "shell.execute_reply.started": "2021-11-09T07:52:15.654405Z"
    },
    "id": "369485c9",
    "outputId": "b259bb83-597d-479b-daf7-5b42492c4275",
    "papermill": {
     "duration": 21.316539,
     "end_time": "2021-11-09T08:23:07.129743",
     "exception": false,
     "start_time": "2021-11-09T08:22:45.813204",
     "status": "completed"
    },
    "tags": []
   },
   "outputs": [
    {
     "data": {
      "text/plain": [
       "<matplotlib.axes._subplots.AxesSubplot at 0x7fea2a207490>"
      ]
     },
     "execution_count": 233,
     "metadata": {},
     "output_type": "execute_result"
    },
    {
     "data": {
      "image/png": "[encoded data removed]",
      "text/plain": [
       "<Figure size 1728x504 with 1 Axes>"
      ]
     },
     "metadata": {
      "needs_background": "light"
     },
     "output_type": "display_data"
    }
   ],
   "source": [
    "# btc_input_df_datetype.set_index(\"time\").close.plot(figsize=(24,7), title=\"Bitcoin Weighted Price\")\n",
    "btc_input_df_datetype.set_index(\"time\").close_log.plot(figsize=(24,7), title=\"Bitcoin Weighted Price\")"
   ]
  },
  {
   "cell_type": "code",
   "execution_count": 234,
   "id": "29c9064d",
   "metadata": {
    "colab": {
     "base_uri": "https://localhost:8080/",
     "height": 427
    },
    "execution": {
     "iopub.execute_input": "2021-11-09T08:23:56.639356Z",
     "iopub.status.busy": "2021-11-09T08:23:56.638765Z",
     "iopub.status.idle": "2021-11-09T08:23:58.943697Z",
     "shell.execute_reply": "2021-11-09T08:23:58.942755Z",
     "shell.execute_reply.started": "2021-11-09T07:53:25.811071Z"
    },
    "id": "29c9064d",
    "outputId": "0e87d26f-4dfe-4fb3-f171-f5424c87f88f",
    "papermill": {
     "duration": 2.351959,
     "end_time": "2021-11-09T08:23:58.943895",
     "exception": false,
     "start_time": "2021-11-09T08:23:56.591936",
     "status": "completed"
    },
    "tags": []
   },
   "outputs": [
    {
     "data": {
      "text/html": [
       "\n",
       "  <div id=\"df-29a0dec8-40c7-4793-840d-d3c00210fb37\">\n",
       "    <div class=\"colab-df-container\">\n",
       "      <div>\n",
       "<style scoped>\n",
       "    .dataframe tbody tr th:only-of-type {\n",
       "        vertical-align: middle;\n",
       "    }\n",
       "\n",
       "    .dataframe tbody tr th {\n",
       "        vertical-align: top;\n",
       "    }\n",
       "\n",
       "    .dataframe thead th {\n",
       "        text-align: right;\n",
       "    }\n",
       "</style>\n",
       "<table border=\"1\" class=\"dataframe\">\n",
       "  <thead>\n",
       "    <tr style=\"text-align: right;\">\n",
       "      <th></th>\n",
       "      <th>time</th>\n",
       "      <th>low</th>\n",
       "      <th>high</th>\n",
       "      <th>open</th>\n",
       "      <th>close</th>\n",
       "      <th>volume</th>\n",
       "      <th>close_log</th>\n",
       "      <th>date</th>\n",
       "    </tr>\n",
       "  </thead>\n",
       "  <tbody>\n",
       "    <tr>\n",
       "      <th>0</th>\n",
       "      <td>2021-10-30 03:00:00</td>\n",
       "      <td>61868.81</td>\n",
       "      <td>61920.00</td>\n",
       "      <td>61888.18</td>\n",
       "      <td>61919.98</td>\n",
       "      <td>2.946079</td>\n",
       "      <td>11.033598</td>\n",
       "      <td>2021-10-30</td>\n",
       "    </tr>\n",
       "    <tr>\n",
       "      <th>1</th>\n",
       "      <td>2021-10-30 02:59:00</td>\n",
       "      <td>61882.74</td>\n",
       "      <td>61912.67</td>\n",
       "      <td>61903.16</td>\n",
       "      <td>61882.74</td>\n",
       "      <td>2.942357</td>\n",
       "      <td>11.032997</td>\n",
       "      <td>2021-10-30</td>\n",
       "    </tr>\n",
       "    <tr>\n",
       "      <th>2</th>\n",
       "      <td>2021-10-30 02:58:00</td>\n",
       "      <td>61854.82</td>\n",
       "      <td>61907.96</td>\n",
       "      <td>61854.82</td>\n",
       "      <td>61903.15</td>\n",
       "      <td>3.047848</td>\n",
       "      <td>11.033326</td>\n",
       "      <td>2021-10-30</td>\n",
       "    </tr>\n",
       "    <tr>\n",
       "      <th>3</th>\n",
       "      <td>2021-10-30 02:57:00</td>\n",
       "      <td>61848.04</td>\n",
       "      <td>61883.02</td>\n",
       "      <td>61883.01</td>\n",
       "      <td>61851.39</td>\n",
       "      <td>3.381070</td>\n",
       "      <td>11.032490</td>\n",
       "      <td>2021-10-30</td>\n",
       "    </tr>\n",
       "    <tr>\n",
       "      <th>4</th>\n",
       "      <td>2021-10-30 02:56:00</td>\n",
       "      <td>61879.33</td>\n",
       "      <td>61925.42</td>\n",
       "      <td>61907.47</td>\n",
       "      <td>61882.28</td>\n",
       "      <td>5.663128</td>\n",
       "      <td>11.032989</td>\n",
       "      <td>2021-10-30</td>\n",
       "    </tr>\n",
       "  </tbody>\n",
       "</table>\n",
       "</div>\n",
       "      <button class=\"colab-df-convert\" onclick=\"convertToInteractive('df-29a0dec8-40c7-4793-840d-d3c00210fb37')\"\n",
       "              title=\"Convert this dataframe to an interactive table.\"\n",
       "              style=\"display:none;\">\n",
       "        \n",
       "  <svg xmlns=\"http://www.w3.org/2000/svg\" height=\"24px\"viewBox=\"0 0 24 24\"\n",
       "       width=\"24px\">\n",
       "    <path d=\"M0 0h24v24H0V0z\" fill=\"none\"/>\n",
       "    <path d=\"M18.56 5.44l.94 2.06.94-2.06 2.06-.94-2.06-.94-.94-2.06-.94 2.06-2.06.94zm-11 1L8.5 8.5l.94-2.06 2.06-.94-2.06-.94L8.5 2.5l-.94 2.06-2.06.94zm10 10l.94 2.06.94-2.06 2.06-.94-2.06-.94-.94-2.06-.94 2.06-2.06.94z\"/><path d=\"M17.41 7.96l-1.37-1.37c-.4-.4-.92-.59-1.43-.59-.52 0-1.04.2-1.43.59L10.3 9.45l-7.72 7.72c-.78.78-.78 2.05 0 2.83L4 21.41c.39.39.9.59 1.41.59.51 0 1.02-.2 1.41-.59l7.78-7.78 2.81-2.81c.8-.78.8-2.07 0-2.86zM5.41 20L4 18.59l7.72-7.72 1.47 1.35L5.41 20z\"/>\n",
       "  </svg>\n",
       "      </button>\n",
       "      \n",
       "  <style>\n",
       "    .colab-df-container {\n",
       "      display:flex;\n",
       "      flex-wrap:wrap;\n",
       "      gap: 12px;\n",
       "    }\n",
       "\n",
       "    .colab-df-convert {\n",
       "      background-color: #E8F0FE;\n",
       "      border: none;\n",
       "      border-radius: 50%;\n",
       "      cursor: pointer;\n",
       "      display: none;\n",
       "      fill: #1967D2;\n",
       "      height: 32px;\n",
       "      padding: 0 0 0 0;\n",
       "      width: 32px;\n",
       "    }\n",
       "\n",
       "    .colab-df-convert:hover {\n",
       "      background-color: #E2EBFA;\n",
       "      box-shadow: 0px 1px 2px rgba(60, 64, 67, 0.3), 0px 1px 3px 1px rgba(60, 64, 67, 0.15);\n",
       "      fill: #174EA6;\n",
       "    }\n",
       "\n",
       "    [theme=dark] .colab-df-convert {\n",
       "      background-color: #3B4455;\n",
       "      fill: #D2E3FC;\n",
       "    }\n",
       "\n",
       "    [theme=dark] .colab-df-convert:hover {\n",
       "      background-color: #434B5C;\n",
       "      box-shadow: 0px 1px 3px 1px rgba(0, 0, 0, 0.15);\n",
       "      filter: drop-shadow(0px 1px 2px rgba(0, 0, 0, 0.3));\n",
       "      fill: #FFFFFF;\n",
       "    }\n",
       "  </style>\n",
       "\n",
       "      <script>\n",
       "        const buttonEl =\n",
       "          document.querySelector('#df-29a0dec8-40c7-4793-840d-d3c00210fb37 button.colab-df-convert');\n",
       "        buttonEl.style.display =\n",
       "          google.colab.kernel.accessAllowed ? 'block' : 'none';\n",
       "\n",
       "        async function convertToInteractive(key) {\n",
       "          const element = document.querySelector('#df-29a0dec8-40c7-4793-840d-d3c00210fb37');\n",
       "          const dataTable =\n",
       "            await google.colab.kernel.invokeFunction('convertToInteractive',\n",
       "                                                     [key], {});\n",
       "          if (!dataTable) return;\n",
       "\n",
       "          const docLinkHtml = 'Like what you see? Visit the ' +\n",
       "            '<a target=\"_blank\" href=https://colab.research.google.com/notebooks/data_table.ipynb>data table notebook</a>'\n",
       "            + ' to learn more about interactive tables.';\n",
       "          element.innerHTML = '';\n",
       "          dataTable['output_type'] = 'display_data';\n",
       "          await google.colab.output.renderOutput(dataTable, element);\n",
       "          const docLink = document.createElement('div');\n",
       "          docLink.innerHTML = docLinkHtml;\n",
       "          element.appendChild(docLink);\n",
       "        }\n",
       "      </script>\n",
       "    </div>\n",
       "  </div>\n",
       "  "
      ],
      "text/plain": [
       "                 time       low      high      open     close    volume  \\\n",
       "0 2021-10-30 03:00:00  61868.81  61920.00  61888.18  61919.98  2.946079   \n",
       "1 2021-10-30 02:59:00  61882.74  61912.67  61903.16  61882.74  2.942357   \n",
       "2 2021-10-30 02:58:00  61854.82  61907.96  61854.82  61903.15  3.047848   \n",
       "3 2021-10-30 02:57:00  61848.04  61883.02  61883.01  61851.39  3.381070   \n",
       "4 2021-10-30 02:56:00  61879.33  61925.42  61907.47  61882.28  5.663128   \n",
       "\n",
       "   close_log        date  \n",
       "0  11.033598  2021-10-30  \n",
       "1  11.032997  2021-10-30  \n",
       "2  11.033326  2021-10-30  \n",
       "3  11.032490  2021-10-30  \n",
       "4  11.032989  2021-10-30  "
      ]
     },
     "metadata": {},
     "output_type": "display_data"
    },
    {
     "data": {
      "text/plain": [
       "date\n",
       "2015-10-27    5.679741\n",
       "2015-10-28    5.710364\n",
       "2015-10-29    5.738202\n",
       "2015-10-30    5.788838\n",
       "2015-10-31    5.780111\n",
       "2015-11-01    5.766747\n",
       "2015-11-02    5.826106\n",
       "2015-11-03    5.957086\n",
       "2015-11-04    6.107486\n",
       "2015-11-05    5.991228\n",
       "Name: close_log, dtype: float64"
      ]
     },
     "metadata": {},
     "output_type": "display_data"
    }
   ],
   "source": [
    "btc_input_df_datetype['date'] = pd.to_datetime(btc_input_df_datetype['time'],unit='s').dt.date\n",
    "\n",
    "display(btc_input_df_datetype.head())\n",
    "\n",
    "group = btc_input_df_datetype.groupby('date')\n",
    "\n",
    "btc_closing_price_groupby_date = group['close_log'].mean()\n",
    "\n",
    "display(btc_closing_price_groupby_date.head(10))"
   ]
  },
  {
   "cell_type": "code",
   "execution_count": 237,
   "id": "uXX2Q2TSwnve",
   "metadata": {
    "id": "uXX2Q2TSwnve"
   },
   "outputs": [],
   "source": [
    "btc = pd.DataFrame()\n",
    "btc['close_log'] =  group['close_log'].mean()\n",
    "# btc['diff1_log'] = btc['close_log'].diff(1)\n",
    "# btc['diff7_log'] = btc['close_log'].diff(7)\n",
    "# btc['diff30_log'] = btc['close_log'].diff(30)\n",
    "# btc['high'] =  group['high'].mean()\n",
    "# btc['low'] =  group['low'].mean()\n",
    "btc['close'] =  group['close'].mean()\n",
    "# btc['diff1'] = btc['close'].diff(1)\n",
    "# btc['diff7'] = btc['close'].diff(7)\n",
    "btc['diff30'] = btc['close'].diff(30)\n",
    "# btc['diff60'] = btc['close'].diff(60)\n",
    "# btc['diff90'] = btc['close'].diff(90)\n",
    "# btc['reverse_diff'] = btc['close'].shift(1) + btc['diff']\n",
    "\n",
    "\n",
    "btc['mom10'] = ta.mom(btc['close'],length=10)\n",
    "# btc['mom30'] = ta.mom(btc['close'],length=30)\n",
    "# btc['mom60'] = ta.mom(btc['close'],length=60)\n",
    "# btc['mom90'] = ta.mom(btc['close'],length=90)\n",
    "\n",
    "# btc['atr10'] = ta.atr(btc.high, btc.low, btc.close, length=10)\n",
    "# btc['atr30'] = ta.atr(btc.high, btc.low, btc.close, length=30)\n",
    "# btc['atr60'] = ta.atr(btc.high, btc.low, btc.close, length=60)\n",
    "# btc['atr90'] = ta.atr(btc.high, btc.low, btc.close, length=90)\n",
    "\n",
    "# btc['rsi14'] = ta.rsi(btc['close'],length=14)\n",
    "# btc['rsi30'] = ta.rsi(btc['close'],length=30)\n",
    "# btc['rsi60'] = ta.rsi(btc['close'],length=60)\n",
    "# btc['rsi90'] = ta.rsi(btc['close'],length=90)\n",
    "\n",
    "\n",
    "# stoch =ta.stoch(btc.high, btc.low, btc.close)\n",
    "# stoch = stoch['STOCHd_14_3_3']-stoch['STOCHk_14_3_3']\n",
    "# btc['stoch'] = stoch\n",
    "\n",
    "# btc['adx'] = ta.adx(btc.high, btc.low, btc.close, length=30)['ADX_30']\n",
    "\n",
    "\n",
    "btc['target_log'] = btc['close_log'].shift(-1)\n",
    "# btc['target'] = btc['close'].shift(-1)\n",
    "btc = btc.dropna()"
   ]
  },
  {
   "cell_type": "code",
   "execution_count": 238,
   "id": "zxoHysCJaoGz",
   "metadata": {
    "colab": {
     "base_uri": "https://localhost:8080/",
     "height": 237
    },
    "id": "zxoHysCJaoGz",
    "outputId": "d90a1780-5ca0-49ac-995b-20a7fe2920ba"
   },
   "outputs": [
    {
     "data": {
      "text/html": [
       "\n",
       "  <div id=\"df-a9387e34-be95-4be0-8ebf-120eb10eb487\">\n",
       "    <div class=\"colab-df-container\">\n",
       "      <div>\n",
       "<style scoped>\n",
       "    .dataframe tbody tr th:only-of-type {\n",
       "        vertical-align: middle;\n",
       "    }\n",
       "\n",
       "    .dataframe tbody tr th {\n",
       "        vertical-align: top;\n",
       "    }\n",
       "\n",
       "    .dataframe thead th {\n",
       "        text-align: right;\n",
       "    }\n",
       "</style>\n",
       "<table border=\"1\" class=\"dataframe\">\n",
       "  <thead>\n",
       "    <tr style=\"text-align: right;\">\n",
       "      <th></th>\n",
       "      <th>close_log</th>\n",
       "      <th>close</th>\n",
       "      <th>diff30</th>\n",
       "      <th>mom10</th>\n",
       "      <th>target_log</th>\n",
       "    </tr>\n",
       "    <tr>\n",
       "      <th>date</th>\n",
       "      <th></th>\n",
       "      <th></th>\n",
       "      <th></th>\n",
       "      <th></th>\n",
       "      <th></th>\n",
       "    </tr>\n",
       "  </thead>\n",
       "  <tbody>\n",
       "    <tr>\n",
       "      <th>2021-10-25</th>\n",
       "      <td>11.044651</td>\n",
       "      <td>62611.015403</td>\n",
       "      <td>20017.460771</td>\n",
       "      <td>2725.561507</td>\n",
       "      <td>11.039727</td>\n",
       "    </tr>\n",
       "    <tr>\n",
       "      <th>2021-10-26</th>\n",
       "      <td>11.039727</td>\n",
       "      <td>62304.201403</td>\n",
       "      <td>19503.145444</td>\n",
       "      <td>1028.473299</td>\n",
       "      <td>10.993767</td>\n",
       "    </tr>\n",
       "    <tr>\n",
       "      <th>2021-10-27</th>\n",
       "      <td>10.993767</td>\n",
       "      <td>59508.951285</td>\n",
       "      <td>15986.450388</td>\n",
       "      <td>-1337.288333</td>\n",
       "      <td>11.006138</td>\n",
       "    </tr>\n",
       "    <tr>\n",
       "      <th>2021-10-28</th>\n",
       "      <td>11.006138</td>\n",
       "      <td>60252.358194</td>\n",
       "      <td>18317.494924</td>\n",
       "      <td>-1541.874306</td>\n",
       "      <td>11.028101</td>\n",
       "    </tr>\n",
       "    <tr>\n",
       "      <th>2021-10-29</th>\n",
       "      <td>11.028101</td>\n",
       "      <td>61584.211944</td>\n",
       "      <td>19759.308028</td>\n",
       "      <td>-1153.172500</td>\n",
       "      <td>11.035381</td>\n",
       "    </tr>\n",
       "  </tbody>\n",
       "</table>\n",
       "</div>\n",
       "      <button class=\"colab-df-convert\" onclick=\"convertToInteractive('df-a9387e34-be95-4be0-8ebf-120eb10eb487')\"\n",
       "              title=\"Convert this dataframe to an interactive table.\"\n",
       "              style=\"display:none;\">\n",
       "        \n",
       "  <svg xmlns=\"http://www.w3.org/2000/svg\" height=\"24px\"viewBox=\"0 0 24 24\"\n",
       "       width=\"24px\">\n",
       "    <path d=\"M0 0h24v24H0V0z\" fill=\"none\"/>\n",
       "    <path d=\"M18.56 5.44l.94 2.06.94-2.06 2.06-.94-2.06-.94-.94-2.06-.94 2.06-2.06.94zm-11 1L8.5 8.5l.94-2.06 2.06-.94-2.06-.94L8.5 2.5l-.94 2.06-2.06.94zm10 10l.94 2.06.94-2.06 2.06-.94-2.06-.94-.94-2.06-.94 2.06-2.06.94z\"/><path d=\"M17.41 7.96l-1.37-1.37c-.4-.4-.92-.59-1.43-.59-.52 0-1.04.2-1.43.59L10.3 9.45l-7.72 7.72c-.78.78-.78 2.05 0 2.83L4 21.41c.39.39.9.59 1.41.59.51 0 1.02-.2 1.41-.59l7.78-7.78 2.81-2.81c.8-.78.8-2.07 0-2.86zM5.41 20L4 18.59l7.72-7.72 1.47 1.35L5.41 20z\"/>\n",
       "  </svg>\n",
       "      </button>\n",
       "      \n",
       "  <style>\n",
       "    .colab-df-container {\n",
       "      display:flex;\n",
       "      flex-wrap:wrap;\n",
       "      gap: 12px;\n",
       "    }\n",
       "\n",
       "    .colab-df-convert {\n",
       "      background-color: #E8F0FE;\n",
       "      border: none;\n",
       "      border-radius: 50%;\n",
       "      cursor: pointer;\n",
       "      display: none;\n",
       "      fill: #1967D2;\n",
       "      height: 32px;\n",
       "      padding: 0 0 0 0;\n",
       "      width: 32px;\n",
       "    }\n",
       "\n",
       "    .colab-df-convert:hover {\n",
       "      background-color: #E2EBFA;\n",
       "      box-shadow: 0px 1px 2px rgba(60, 64, 67, 0.3), 0px 1px 3px 1px rgba(60, 64, 67, 0.15);\n",
       "      fill: #174EA6;\n",
       "    }\n",
       "\n",
       "    [theme=dark] .colab-df-convert {\n",
       "      background-color: #3B4455;\n",
       "      fill: #D2E3FC;\n",
       "    }\n",
       "\n",
       "    [theme=dark] .colab-df-convert:hover {\n",
       "      background-color: #434B5C;\n",
       "      box-shadow: 0px 1px 3px 1px rgba(0, 0, 0, 0.15);\n",
       "      filter: drop-shadow(0px 1px 2px rgba(0, 0, 0, 0.3));\n",
       "      fill: #FFFFFF;\n",
       "    }\n",
       "  </style>\n",
       "\n",
       "      <script>\n",
       "        const buttonEl =\n",
       "          document.querySelector('#df-a9387e34-be95-4be0-8ebf-120eb10eb487 button.colab-df-convert');\n",
       "        buttonEl.style.display =\n",
       "          google.colab.kernel.accessAllowed ? 'block' : 'none';\n",
       "\n",
       "        async function convertToInteractive(key) {\n",
       "          const element = document.querySelector('#df-a9387e34-be95-4be0-8ebf-120eb10eb487');\n",
       "          const dataTable =\n",
       "            await google.colab.kernel.invokeFunction('convertToInteractive',\n",
       "                                                     [key], {});\n",
       "          if (!dataTable) return;\n",
       "\n",
       "          const docLinkHtml = 'Like what you see? Visit the ' +\n",
       "            '<a target=\"_blank\" href=https://colab.research.google.com/notebooks/data_table.ipynb>data table notebook</a>'\n",
       "            + ' to learn more about interactive tables.';\n",
       "          element.innerHTML = '';\n",
       "          dataTable['output_type'] = 'display_data';\n",
       "          await google.colab.output.renderOutput(dataTable, element);\n",
       "          const docLink = document.createElement('div');\n",
       "          docLink.innerHTML = docLinkHtml;\n",
       "          element.appendChild(docLink);\n",
       "        }\n",
       "      </script>\n",
       "    </div>\n",
       "  </div>\n",
       "  "
      ],
      "text/plain": [
       "            close_log         close        diff30        mom10  target_log\n",
       "date                                                                      \n",
       "2021-10-25  11.044651  62611.015403  20017.460771  2725.561507   11.039727\n",
       "2021-10-26  11.039727  62304.201403  19503.145444  1028.473299   10.993767\n",
       "2021-10-27  10.993767  59508.951285  15986.450388 -1337.288333   11.006138\n",
       "2021-10-28  11.006138  60252.358194  18317.494924 -1541.874306   11.028101\n",
       "2021-10-29  11.028101  61584.211944  19759.308028 -1153.172500   11.035381"
      ]
     },
     "execution_count": 238,
     "metadata": {},
     "output_type": "execute_result"
    }
   ],
   "source": [
    "btc.tail()"
   ]
  },
  {
   "cell_type": "code",
   "execution_count": 239,
   "id": "ir7h6k4saWXJ",
   "metadata": {
    "colab": {
     "base_uri": "https://localhost:8080/",
     "height": 206
    },
    "id": "ir7h6k4saWXJ",
    "outputId": "d75934be-66e3-41d9-f836-7846a0ec31d1"
   },
   "outputs": [
    {
     "data": {
      "text/html": [
       "\n",
       "  <div id=\"df-66c4163d-d564-4dc4-9ddd-197187b008c7\">\n",
       "    <div class=\"colab-df-container\">\n",
       "      <div>\n",
       "<style scoped>\n",
       "    .dataframe tbody tr th:only-of-type {\n",
       "        vertical-align: middle;\n",
       "    }\n",
       "\n",
       "    .dataframe tbody tr th {\n",
       "        vertical-align: top;\n",
       "    }\n",
       "\n",
       "    .dataframe thead th {\n",
       "        text-align: right;\n",
       "    }\n",
       "</style>\n",
       "<table border=\"1\" class=\"dataframe\">\n",
       "  <thead>\n",
       "    <tr style=\"text-align: right;\">\n",
       "      <th></th>\n",
       "      <th>close_log</th>\n",
       "      <th>close</th>\n",
       "      <th>diff30</th>\n",
       "      <th>mom10</th>\n",
       "      <th>target_log</th>\n",
       "    </tr>\n",
       "  </thead>\n",
       "  <tbody>\n",
       "    <tr>\n",
       "      <th>close_log</th>\n",
       "      <td>1.000000</td>\n",
       "      <td>0.791186</td>\n",
       "      <td>0.240545</td>\n",
       "      <td>0.153894</td>\n",
       "      <td>0.999733</td>\n",
       "    </tr>\n",
       "    <tr>\n",
       "      <th>close</th>\n",
       "      <td>0.791186</td>\n",
       "      <td>1.000000</td>\n",
       "      <td>0.360324</td>\n",
       "      <td>0.235202</td>\n",
       "      <td>0.790985</td>\n",
       "    </tr>\n",
       "    <tr>\n",
       "      <th>diff30</th>\n",
       "      <td>0.240545</td>\n",
       "      <td>0.360324</td>\n",
       "      <td>1.000000</td>\n",
       "      <td>0.597927</td>\n",
       "      <td>0.241470</td>\n",
       "    </tr>\n",
       "    <tr>\n",
       "      <th>mom10</th>\n",
       "      <td>0.153894</td>\n",
       "      <td>0.235202</td>\n",
       "      <td>0.597927</td>\n",
       "      <td>1.000000</td>\n",
       "      <td>0.155367</td>\n",
       "    </tr>\n",
       "    <tr>\n",
       "      <th>target_log</th>\n",
       "      <td>0.999733</td>\n",
       "      <td>0.790985</td>\n",
       "      <td>0.241470</td>\n",
       "      <td>0.155367</td>\n",
       "      <td>1.000000</td>\n",
       "    </tr>\n",
       "  </tbody>\n",
       "</table>\n",
       "</div>\n",
       "      <button class=\"colab-df-convert\" onclick=\"convertToInteractive('df-66c4163d-d564-4dc4-9ddd-197187b008c7')\"\n",
       "              title=\"Convert this dataframe to an interactive table.\"\n",
       "              style=\"display:none;\">\n",
       "        \n",
       "  <svg xmlns=\"http://www.w3.org/2000/svg\" height=\"24px\"viewBox=\"0 0 24 24\"\n",
       "       width=\"24px\">\n",
       "    <path d=\"M0 0h24v24H0V0z\" fill=\"none\"/>\n",
       "    <path d=\"M18.56 5.44l.94 2.06.94-2.06 2.06-.94-2.06-.94-.94-2.06-.94 2.06-2.06.94zm-11 1L8.5 8.5l.94-2.06 2.06-.94-2.06-.94L8.5 2.5l-.94 2.06-2.06.94zm10 10l.94 2.06.94-2.06 2.06-.94-2.06-.94-.94-2.06-.94 2.06-2.06.94z\"/><path d=\"M17.41 7.96l-1.37-1.37c-.4-.4-.92-.59-1.43-.59-.52 0-1.04.2-1.43.59L10.3 9.45l-7.72 7.72c-.78.78-.78 2.05 0 2.83L4 21.41c.39.39.9.59 1.41.59.51 0 1.02-.2 1.41-.59l7.78-7.78 2.81-2.81c.8-.78.8-2.07 0-2.86zM5.41 20L4 18.59l7.72-7.72 1.47 1.35L5.41 20z\"/>\n",
       "  </svg>\n",
       "      </button>\n",
       "      \n",
       "  <style>\n",
       "    .colab-df-container {\n",
       "      display:flex;\n",
       "      flex-wrap:wrap;\n",
       "      gap: 12px;\n",
       "    }\n",
       "\n",
       "    .colab-df-convert {\n",
       "      background-color: #E8F0FE;\n",
       "      border: none;\n",
       "      border-radius: 50%;\n",
       "      cursor: pointer;\n",
       "      display: none;\n",
       "      fill: #1967D2;\n",
       "      height: 32px;\n",
       "      padding: 0 0 0 0;\n",
       "      width: 32px;\n",
       "    }\n",
       "\n",
       "    .colab-df-convert:hover {\n",
       "      background-color: #E2EBFA;\n",
       "      box-shadow: 0px 1px 2px rgba(60, 64, 67, 0.3), 0px 1px 3px 1px rgba(60, 64, 67, 0.15);\n",
       "      fill: #174EA6;\n",
       "    }\n",
       "\n",
       "    [theme=dark] .colab-df-convert {\n",
       "      background-color: #3B4455;\n",
       "      fill: #D2E3FC;\n",
       "    }\n",
       "\n",
       "    [theme=dark] .colab-df-convert:hover {\n",
       "      background-color: #434B5C;\n",
       "      box-shadow: 0px 1px 3px 1px rgba(0, 0, 0, 0.15);\n",
       "      filter: drop-shadow(0px 1px 2px rgba(0, 0, 0, 0.3));\n",
       "      fill: #FFFFFF;\n",
       "    }\n",
       "  </style>\n",
       "\n",
       "      <script>\n",
       "        const buttonEl =\n",
       "          document.querySelector('#df-66c4163d-d564-4dc4-9ddd-197187b008c7 button.colab-df-convert');\n",
       "        buttonEl.style.display =\n",
       "          google.colab.kernel.accessAllowed ? 'block' : 'none';\n",
       "\n",
       "        async function convertToInteractive(key) {\n",
       "          const element = document.querySelector('#df-66c4163d-d564-4dc4-9ddd-197187b008c7');\n",
       "          const dataTable =\n",
       "            await google.colab.kernel.invokeFunction('convertToInteractive',\n",
       "                                                     [key], {});\n",
       "          if (!dataTable) return;\n",
       "\n",
       "          const docLinkHtml = 'Like what you see? Visit the ' +\n",
       "            '<a target=\"_blank\" href=https://colab.research.google.com/notebooks/data_table.ipynb>data table notebook</a>'\n",
       "            + ' to learn more about interactive tables.';\n",
       "          element.innerHTML = '';\n",
       "          dataTable['output_type'] = 'display_data';\n",
       "          await google.colab.output.renderOutput(dataTable, element);\n",
       "          const docLink = document.createElement('div');\n",
       "          docLink.innerHTML = docLinkHtml;\n",
       "          element.appendChild(docLink);\n",
       "        }\n",
       "      </script>\n",
       "    </div>\n",
       "  </div>\n",
       "  "
      ],
      "text/plain": [
       "            close_log     close    diff30     mom10  target_log\n",
       "close_log    1.000000  0.791186  0.240545  0.153894    0.999733\n",
       "close        0.791186  1.000000  0.360324  0.235202    0.790985\n",
       "diff30       0.240545  0.360324  1.000000  0.597927    0.241470\n",
       "mom10        0.153894  0.235202  0.597927  1.000000    0.155367\n",
       "target_log   0.999733  0.790985  0.241470  0.155367    1.000000"
      ]
     },
     "execution_count": 239,
     "metadata": {},
     "output_type": "execute_result"
    }
   ],
   "source": [
    "df_corr = btc.corr()\n",
    "df_corr"
   ]
  },
  {
   "cell_type": "code",
   "execution_count": 240,
   "id": "ALNBdKKTgrJ4",
   "metadata": {
    "id": "ALNBdKKTgrJ4"
   },
   "outputs": [],
   "source": [
    "with open('./drive/MyDrive/btc.moh','wb') as f :\n",
    "    pickle.dump(btc,f)"
   ]
  },
  {
   "cell_type": "markdown",
   "id": "rqK_xrJWVuck",
   "metadata": {
    "id": "rqK_xrJWVuck"
   },
   "source": [
    "# Load data"
   ]
  },
  {
   "cell_type": "code",
   "execution_count": 249,
   "id": "myUuBS_gWAmT",
   "metadata": {
    "colab": {
     "base_uri": "https://localhost:8080/"
    },
    "id": "myUuBS_gWAmT",
    "outputId": "4b177b20-49a3-42a9-d6eb-e02cbfef9c9b"
   },
   "outputs": [
    {
     "name": "stdout",
     "output_type": "stream",
     "text": [
      "Drive already mounted at /content/drive; to attempt to forcibly remount, call drive.mount(\"/content/drive\", force_remount=True).\n"
     ]
    }
   ],
   "source": [
    "from google.colab import drive\n",
    "drive.mount('/content/drive')\n",
    "with open('./drive/MyDrive/btc.moh','rb') as f :\n",
    "    btc = pickle.load(f)"
   ]
  },
  {
   "cell_type": "code",
   "execution_count": 242,
   "id": "ggfUkZWvnuXz",
   "metadata": {
    "colab": {
     "base_uri": "https://localhost:8080/",
     "height": 143
    },
    "id": "ggfUkZWvnuXz",
    "outputId": "7d18ab02-318e-49e5-fcd0-cb1e2cb91ed1"
   },
   "outputs": [
    {
     "data": {
      "text/html": [
       "\n",
       "  <div id=\"df-35ba6439-78c8-4de5-bdde-155cc62f7cbc\">\n",
       "    <div class=\"colab-df-container\">\n",
       "      <div>\n",
       "<style scoped>\n",
       "    .dataframe tbody tr th:only-of-type {\n",
       "        vertical-align: middle;\n",
       "    }\n",
       "\n",
       "    .dataframe tbody tr th {\n",
       "        vertical-align: top;\n",
       "    }\n",
       "\n",
       "    .dataframe thead th {\n",
       "        text-align: right;\n",
       "    }\n",
       "</style>\n",
       "<table border=\"1\" class=\"dataframe\">\n",
       "  <thead>\n",
       "    <tr style=\"text-align: right;\">\n",
       "      <th></th>\n",
       "      <th>close_log</th>\n",
       "      <th>close</th>\n",
       "      <th>diff30</th>\n",
       "      <th>mom10</th>\n",
       "      <th>target_log</th>\n",
       "    </tr>\n",
       "    <tr>\n",
       "      <th>date</th>\n",
       "      <th></th>\n",
       "      <th></th>\n",
       "      <th></th>\n",
       "      <th></th>\n",
       "      <th></th>\n",
       "    </tr>\n",
       "  </thead>\n",
       "  <tbody>\n",
       "    <tr>\n",
       "      <th>2015-11-26</th>\n",
       "      <td>5.837801</td>\n",
       "      <td>343.137357</td>\n",
       "      <td>50.249874</td>\n",
       "      <td>19.125267</td>\n",
       "      <td>5.875546</td>\n",
       "    </tr>\n",
       "    <tr>\n",
       "      <th>2015-11-27</th>\n",
       "      <td>5.875546</td>\n",
       "      <td>356.238255</td>\n",
       "      <td>54.246421</td>\n",
       "      <td>20.416975</td>\n",
       "      <td>5.872915</td>\n",
       "    </tr>\n",
       "  </tbody>\n",
       "</table>\n",
       "</div>\n",
       "      <button class=\"colab-df-convert\" onclick=\"convertToInteractive('df-35ba6439-78c8-4de5-bdde-155cc62f7cbc')\"\n",
       "              title=\"Convert this dataframe to an interactive table.\"\n",
       "              style=\"display:none;\">\n",
       "        \n",
       "  <svg xmlns=\"http://www.w3.org/2000/svg\" height=\"24px\"viewBox=\"0 0 24 24\"\n",
       "       width=\"24px\">\n",
       "    <path d=\"M0 0h24v24H0V0z\" fill=\"none\"/>\n",
       "    <path d=\"M18.56 5.44l.94 2.06.94-2.06 2.06-.94-2.06-.94-.94-2.06-.94 2.06-2.06.94zm-11 1L8.5 8.5l.94-2.06 2.06-.94-2.06-.94L8.5 2.5l-.94 2.06-2.06.94zm10 10l.94 2.06.94-2.06 2.06-.94-2.06-.94-.94-2.06-.94 2.06-2.06.94z\"/><path d=\"M17.41 7.96l-1.37-1.37c-.4-.4-.92-.59-1.43-.59-.52 0-1.04.2-1.43.59L10.3 9.45l-7.72 7.72c-.78.78-.78 2.05 0 2.83L4 21.41c.39.39.9.59 1.41.59.51 0 1.02-.2 1.41-.59l7.78-7.78 2.81-2.81c.8-.78.8-2.07 0-2.86zM5.41 20L4 18.59l7.72-7.72 1.47 1.35L5.41 20z\"/>\n",
       "  </svg>\n",
       "      </button>\n",
       "      \n",
       "  <style>\n",
       "    .colab-df-container {\n",
       "      display:flex;\n",
       "      flex-wrap:wrap;\n",
       "      gap: 12px;\n",
       "    }\n",
       "\n",
       "    .colab-df-convert {\n",
       "      background-color: #E8F0FE;\n",
       "      border: none;\n",
       "      border-radius: 50%;\n",
       "      cursor: pointer;\n",
       "      display: none;\n",
       "      fill: #1967D2;\n",
       "      height: 32px;\n",
       "      padding: 0 0 0 0;\n",
       "      width: 32px;\n",
       "    }\n",
       "\n",
       "    .colab-df-convert:hover {\n",
       "      background-color: #E2EBFA;\n",
       "      box-shadow: 0px 1px 2px rgba(60, 64, 67, 0.3), 0px 1px 3px 1px rgba(60, 64, 67, 0.15);\n",
       "      fill: #174EA6;\n",
       "    }\n",
       "\n",
       "    [theme=dark] .colab-df-convert {\n",
       "      background-color: #3B4455;\n",
       "      fill: #D2E3FC;\n",
       "    }\n",
       "\n",
       "    [theme=dark] .colab-df-convert:hover {\n",
       "      background-color: #434B5C;\n",
       "      box-shadow: 0px 1px 3px 1px rgba(0, 0, 0, 0.15);\n",
       "      filter: drop-shadow(0px 1px 2px rgba(0, 0, 0, 0.3));\n",
       "      fill: #FFFFFF;\n",
       "    }\n",
       "  </style>\n",
       "\n",
       "      <script>\n",
       "        const buttonEl =\n",
       "          document.querySelector('#df-35ba6439-78c8-4de5-bdde-155cc62f7cbc button.colab-df-convert');\n",
       "        buttonEl.style.display =\n",
       "          google.colab.kernel.accessAllowed ? 'block' : 'none';\n",
       "\n",
       "        async function convertToInteractive(key) {\n",
       "          const element = document.querySelector('#df-35ba6439-78c8-4de5-bdde-155cc62f7cbc');\n",
       "          const dataTable =\n",
       "            await google.colab.kernel.invokeFunction('convertToInteractive',\n",
       "                                                     [key], {});\n",
       "          if (!dataTable) return;\n",
       "\n",
       "          const docLinkHtml = 'Like what you see? Visit the ' +\n",
       "            '<a target=\"_blank\" href=https://colab.research.google.com/notebooks/data_table.ipynb>data table notebook</a>'\n",
       "            + ' to learn more about interactive tables.';\n",
       "          element.innerHTML = '';\n",
       "          dataTable['output_type'] = 'display_data';\n",
       "          await google.colab.output.renderOutput(dataTable, element);\n",
       "          const docLink = document.createElement('div');\n",
       "          docLink.innerHTML = docLinkHtml;\n",
       "          element.appendChild(docLink);\n",
       "        }\n",
       "      </script>\n",
       "    </div>\n",
       "  </div>\n",
       "  "
      ],
      "text/plain": [
       "            close_log       close     diff30      mom10  target_log\n",
       "date                                                               \n",
       "2015-11-26   5.837801  343.137357  50.249874  19.125267    5.875546\n",
       "2015-11-27   5.875546  356.238255  54.246421  20.416975    5.872915"
      ]
     },
     "execution_count": 242,
     "metadata": {},
     "output_type": "execute_result"
    }
   ],
   "source": [
    "btc.head(2)"
   ]
  },
  {
   "cell_type": "code",
   "execution_count": 243,
   "id": "JfV-DAnZn1H0",
   "metadata": {
    "colab": {
     "base_uri": "https://localhost:8080/"
    },
    "id": "JfV-DAnZn1H0",
    "outputId": "65300253-9b9b-4b34-a821-be881f393260"
   },
   "outputs": [
    {
     "data": {
      "text/plain": [
       "Index(['close_log', 'close', 'diff30', 'mom10', 'target_log'], dtype='object')"
      ]
     },
     "execution_count": 243,
     "metadata": {},
     "output_type": "execute_result"
    }
   ],
   "source": [
    "btc.columns "
   ]
  },
  {
   "cell_type": "code",
   "execution_count": 250,
   "id": "B-SsmXeHLbYG",
   "metadata": {
    "id": "B-SsmXeHLbYG"
   },
   "outputs": [],
   "source": [
    "# scaler = MinMaxScaler(feature_range=(0, 1))\n",
    "# StandardScaler\n",
    "scaler = StandardScaler()\n",
    "\n",
    "# scaler_diff1_log = StandardScaler()\n",
    "# btc.diff1_log = scaler_diff1_log.fit_transform(btc.diff1_log.values.reshape(-1,1))\n",
    "\n",
    "# scaler_diff7_log = StandardScaler()\n",
    "# btc.diff7_log = scaler_diff7_log.fit_transform(btc.diff7_log.values.reshape(-1,1))\n",
    "\n",
    "# scaler_diff30_log = StandardScaler()\n",
    "# btc.diff30_log = scaler_diff30_log.fit_transform(btc.diff30_log.values.reshape(-1,1))\n",
    "\n",
    "# scaler_diff1 = StandardScaler()\n",
    "# btc.diff1 = scaler_diff1.fit_transform(btc.diff1.values.reshape(-1,1))\n",
    "\n",
    "# scaler_diff7 = StandardScaler()\n",
    "# btc.diff7 = scaler_diff7.fit_transform(btc.diff7.values.reshape(-1,1))\n",
    "\n",
    "# scaler_high = StandardScaler()\n",
    "# btc.high = scaler_high.fit_transform(btc.high.values.reshape(-1,1))\n",
    "\n",
    "# scaler_low = StandardScaler()\n",
    "# btc.low = scaler_low.fit_transform(btc.low.values.reshape(-1,1))\n",
    "\n",
    "scaler_diff30 = StandardScaler()\n",
    "btc.diff60 = scaler_diff30.fit_transform(btc.diff30.values.reshape(-1,1))\n",
    "\n",
    "# scaler_diff60 = StandardScaler()\n",
    "# btc.diff60 = scaler_diff60.fit_transform(btc.diff60.values.reshape(-1,1))\n",
    "\n",
    "# scaler_diff90 = StandardScaler()\n",
    "# btc.diff90 = scaler_diff90.fit_transform(btc.diff90.values.reshape(-1,1))\n",
    "\n",
    "# scaler_rsi = StandardScaler()\n",
    "# btc.rsi = scaler_rsi.fit_transform(btc.rsi.values.reshape(-1,1))\n",
    "\n",
    "scaler_mom10 = StandardScaler()\n",
    "btc.mom10 = scaler_mom10.fit_transform(btc.mom10.values.reshape(-1,1))\n",
    "\n",
    "# scaler_mom30 = StandardScaler()\n",
    "# btc.mom30 = scaler_mom30.fit_transform(btc.mom30.values.reshape(-1,1))\n",
    "\n",
    "# scaler_mom60 = StandardScaler()\n",
    "# btc.mom60 = scaler_mom60.fit_transform(btc.mom60.values.reshape(-1,1))\n",
    "\n",
    "# scaler_mom90 = StandardScaler()\n",
    "# btc.mom90 = scaler_mom90.fit_transform(btc.mom90.values.reshape(-1,1))\n",
    "\n",
    "# scaler_atr10 = StandardScaler()\n",
    "# btc.atr10 = scaler_atr10.fit_transform(btc.atr10.values.reshape(-1,1))\n",
    "\n",
    "# scaler_atr30 = StandardScaler()\n",
    "# btc.atr30 = scaler_atr30.fit_transform(btc.atr30.values.reshape(-1,1))\n",
    "\n",
    "# scaler_atr60 = StandardScaler()\n",
    "# btc.atr60 = scaler_atr60.fit_transform(btc.atr60.values.reshape(-1,1))\n",
    "\n",
    "# scaler_atr90 = StandardScaler()\n",
    "# btc.atr90 = scaler_atr90.fit_transform(btc.atr90.values.reshape(-1,1))\n",
    "\n",
    "# scaler_t = StandardScaler()\n",
    "# btc.close = scaler_t.fit_transform(btc.close.values.reshape(-1,1))\n",
    "# btc.target = scaler_t.transform(btc.target.values.reshape(-1,1))\n",
    "\n",
    "scaler_tlog = StandardScaler()\n",
    "btc.close_log = scaler_tlog.fit_transform(btc.close_log.values.reshape(-1,1))\n",
    "btc.target_log = scaler_tlog.transform(btc.target_log.values.reshape(-1,1))\n"
   ]
  },
  {
   "cell_type": "code",
   "execution_count": 251,
   "id": "EeZw5ijfpnDR",
   "metadata": {
    "colab": {
     "base_uri": "https://localhost:8080/",
     "height": 143
    },
    "id": "EeZw5ijfpnDR",
    "outputId": "c76c4500-ba02-4d13-dd84-4625f4085e9d"
   },
   "outputs": [
    {
     "data": {
      "text/html": [
       "\n",
       "  <div id=\"df-62d97dd4-1885-480f-8d50-253bf3f49fbb\">\n",
       "    <div class=\"colab-df-container\">\n",
       "      <div>\n",
       "<style scoped>\n",
       "    .dataframe tbody tr th:only-of-type {\n",
       "        vertical-align: middle;\n",
       "    }\n",
       "\n",
       "    .dataframe tbody tr th {\n",
       "        vertical-align: top;\n",
       "    }\n",
       "\n",
       "    .dataframe thead th {\n",
       "        text-align: right;\n",
       "    }\n",
       "</style>\n",
       "<table border=\"1\" class=\"dataframe\">\n",
       "  <thead>\n",
       "    <tr style=\"text-align: right;\">\n",
       "      <th></th>\n",
       "      <th>close_log</th>\n",
       "      <th>close</th>\n",
       "      <th>diff30</th>\n",
       "      <th>mom10</th>\n",
       "      <th>target_log</th>\n",
       "    </tr>\n",
       "    <tr>\n",
       "      <th>date</th>\n",
       "      <th></th>\n",
       "      <th></th>\n",
       "      <th></th>\n",
       "      <th></th>\n",
       "      <th></th>\n",
       "    </tr>\n",
       "  </thead>\n",
       "  <tbody>\n",
       "    <tr>\n",
       "      <th>2015-11-26</th>\n",
       "      <td>-1.920075</td>\n",
       "      <td>343.137357</td>\n",
       "      <td>50.249874</td>\n",
       "      <td>-0.106413</td>\n",
       "      <td>-1.893287</td>\n",
       "    </tr>\n",
       "    <tr>\n",
       "      <th>2015-11-27</th>\n",
       "      <td>-1.893287</td>\n",
       "      <td>356.238255</td>\n",
       "      <td>54.246421</td>\n",
       "      <td>-0.105895</td>\n",
       "      <td>-1.895154</td>\n",
       "    </tr>\n",
       "  </tbody>\n",
       "</table>\n",
       "</div>\n",
       "      <button class=\"colab-df-convert\" onclick=\"convertToInteractive('df-62d97dd4-1885-480f-8d50-253bf3f49fbb')\"\n",
       "              title=\"Convert this dataframe to an interactive table.\"\n",
       "              style=\"display:none;\">\n",
       "        \n",
       "  <svg xmlns=\"http://www.w3.org/2000/svg\" height=\"24px\"viewBox=\"0 0 24 24\"\n",
       "       width=\"24px\">\n",
       "    <path d=\"M0 0h24v24H0V0z\" fill=\"none\"/>\n",
       "    <path d=\"M18.56 5.44l.94 2.06.94-2.06 2.06-.94-2.06-.94-.94-2.06-.94 2.06-2.06.94zm-11 1L8.5 8.5l.94-2.06 2.06-.94-2.06-.94L8.5 2.5l-.94 2.06-2.06.94zm10 10l.94 2.06.94-2.06 2.06-.94-2.06-.94-.94-2.06-.94 2.06-2.06.94z\"/><path d=\"M17.41 7.96l-1.37-1.37c-.4-.4-.92-.59-1.43-.59-.52 0-1.04.2-1.43.59L10.3 9.45l-7.72 7.72c-.78.78-.78 2.05 0 2.83L4 21.41c.39.39.9.59 1.41.59.51 0 1.02-.2 1.41-.59l7.78-7.78 2.81-2.81c.8-.78.8-2.07 0-2.86zM5.41 20L4 18.59l7.72-7.72 1.47 1.35L5.41 20z\"/>\n",
       "  </svg>\n",
       "      </button>\n",
       "      \n",
       "  <style>\n",
       "    .colab-df-container {\n",
       "      display:flex;\n",
       "      flex-wrap:wrap;\n",
       "      gap: 12px;\n",
       "    }\n",
       "\n",
       "    .colab-df-convert {\n",
       "      background-color: #E8F0FE;\n",
       "      border: none;\n",
       "      border-radius: 50%;\n",
       "      cursor: pointer;\n",
       "      display: none;\n",
       "      fill: #1967D2;\n",
       "      height: 32px;\n",
       "      padding: 0 0 0 0;\n",
       "      width: 32px;\n",
       "    }\n",
       "\n",
       "    .colab-df-convert:hover {\n",
       "      background-color: #E2EBFA;\n",
       "      box-shadow: 0px 1px 2px rgba(60, 64, 67, 0.3), 0px 1px 3px 1px rgba(60, 64, 67, 0.15);\n",
       "      fill: #174EA6;\n",
       "    }\n",
       "\n",
       "    [theme=dark] .colab-df-convert {\n",
       "      background-color: #3B4455;\n",
       "      fill: #D2E3FC;\n",
       "    }\n",
       "\n",
       "    [theme=dark] .colab-df-convert:hover {\n",
       "      background-color: #434B5C;\n",
       "      box-shadow: 0px 1px 3px 1px rgba(0, 0, 0, 0.15);\n",
       "      filter: drop-shadow(0px 1px 2px rgba(0, 0, 0, 0.3));\n",
       "      fill: #FFFFFF;\n",
       "    }\n",
       "  </style>\n",
       "\n",
       "      <script>\n",
       "        const buttonEl =\n",
       "          document.querySelector('#df-62d97dd4-1885-480f-8d50-253bf3f49fbb button.colab-df-convert');\n",
       "        buttonEl.style.display =\n",
       "          google.colab.kernel.accessAllowed ? 'block' : 'none';\n",
       "\n",
       "        async function convertToInteractive(key) {\n",
       "          const element = document.querySelector('#df-62d97dd4-1885-480f-8d50-253bf3f49fbb');\n",
       "          const dataTable =\n",
       "            await google.colab.kernel.invokeFunction('convertToInteractive',\n",
       "                                                     [key], {});\n",
       "          if (!dataTable) return;\n",
       "\n",
       "          const docLinkHtml = 'Like what you see? Visit the ' +\n",
       "            '<a target=\"_blank\" href=https://colab.research.google.com/notebooks/data_table.ipynb>data table notebook</a>'\n",
       "            + ' to learn more about interactive tables.';\n",
       "          element.innerHTML = '';\n",
       "          dataTable['output_type'] = 'display_data';\n",
       "          await google.colab.output.renderOutput(dataTable, element);\n",
       "          const docLink = document.createElement('div');\n",
       "          docLink.innerHTML = docLinkHtml;\n",
       "          element.appendChild(docLink);\n",
       "        }\n",
       "      </script>\n",
       "    </div>\n",
       "  </div>\n",
       "  "
      ],
      "text/plain": [
       "            close_log       close     diff30     mom10  target_log\n",
       "date                                                              \n",
       "2015-11-26  -1.920075  343.137357  50.249874 -0.106413   -1.893287\n",
       "2015-11-27  -1.893287  356.238255  54.246421 -0.105895   -1.895154"
      ]
     },
     "execution_count": 251,
     "metadata": {},
     "output_type": "execute_result"
    }
   ],
   "source": [
    "btc.head(2)"
   ]
  },
  {
   "cell_type": "markdown",
   "id": "33PDMSjNAD4_",
   "metadata": {
    "id": "33PDMSjNAD4_"
   },
   "source": [
    "### plot"
   ]
  },
  {
   "cell_type": "code",
   "execution_count": 215,
   "id": "a74e9c45",
   "metadata": {
    "colab": {
     "base_uri": "https://localhost:8080/",
     "height": 851
    },
    "execution": {
     "iopub.execute_input": "2021-11-09T08:23:59.443045Z",
     "iopub.status.busy": "2021-11-09T08:23:59.442151Z",
     "iopub.status.idle": "2021-11-09T08:23:59.712867Z",
     "shell.execute_reply": "2021-11-09T08:23:59.713366Z",
     "shell.execute_reply.started": "2021-11-09T07:53:28.211137Z"
    },
    "id": "a74e9c45",
    "outputId": "af6bf77d-faa4-421e-f720-cd15c673c9e3",
    "papermill": {
     "duration": 0.319696,
     "end_time": "2021-11-09T08:23:59.713546",
     "exception": false,
     "start_time": "2021-11-09T08:23:59.393850",
     "status": "completed"
    },
    "tags": []
   },
   "outputs": [
    {
     "data": {
      "text/plain": [
       "<matplotlib.legend.Legend at 0x7fea691a4c90>"
      ]
     },
     "execution_count": 215,
     "metadata": {},
     "output_type": "execute_result"
    },
    {
     "data": {
      "image/png": "[encoded data removed]",
      "text/plain": [
       "<Figure size 1728x504 with 1 Axes>"
      ]
     },
     "metadata": {
      "needs_background": "light"
     },
     "output_type": "display_data"
    },
    {
     "data": {
      "image/png": "[encoded data removed]",
      "text/plain": [
       "<Figure size 1728x504 with 1 Axes>"
      ]
     },
     "metadata": {
      "needs_background": "light"
     },
     "output_type": "display_data"
    }
   ],
   "source": [
    "chosen_col = 'Close'\n",
    "\n",
    "fig, ax = plt.subplots(1, figsize=(24, 7))\n",
    "ax.plot(btc['close_log'], label='Train', linewidth=2)\n",
    "ax.set_ylabel('Price log', fontsize=14)\n",
    "ax.set_title('', fontsize=16)\n",
    "ax.legend(loc='best', fontsize=16)\n",
    "\n",
    "fig, ax = plt.subplots(1, figsize=(24, 7))\n",
    "ax.plot(btc['diff30'], label='Train', linewidth=2)\n",
    "ax.set_ylabel('diff30', fontsize=14)\n",
    "ax.set_title('', fontsize=16)\n",
    "ax.legend(loc='best', fontsize=16)\n",
    "\n",
    "# fig, ax = plt.subplots(1, figsize=(24, 7))\n",
    "# ax.plot(btc['diff60'], label='Train', linewidth=2)\n",
    "# ax.set_ylabel('diff60', fontsize=14)\n",
    "# ax.set_title('', fontsize=16)\n",
    "# ax.legend(loc='best', fontsize=16)\n",
    "\n",
    "# fig, ax = plt.subplots(1, figsize=(24, 7))\n",
    "# ax.plot(btc['diff90'], label='Train', linewidth=2)\n",
    "# ax.set_ylabel('diff90', fontsize=14)\n",
    "# ax.set_title('', fontsize=16)\n",
    "# ax.legend(loc='best', fontsize=16)\n",
    "\n"
   ]
  },
  {
   "cell_type": "markdown",
   "id": "pgHmOgKxDYAo",
   "metadata": {
    "id": "pgHmOgKxDYAo"
   },
   "source": [
    "# creat data lstm"
   ]
  },
  {
   "cell_type": "code",
   "execution_count": 252,
   "id": "5pihpUZtif5G",
   "metadata": {
    "id": "5pihpUZtif5G"
   },
   "outputs": [],
   "source": [
    "look_back_ = 5\n",
    "prediction_days = 30\n",
    "future_ = 30\n",
    "\n",
    "look_b = btc[:][:len(btc)-(future_)]\n",
    "\n",
    "df_train_= btc[:][:len(btc)-(prediction_days+future_)]#values.reshape(-1,1)\n",
    "\n",
    "df_test_= btc[:][len(btc)-(prediction_days+future_+look_back_-1):len(btc)-future_]#.values.reshape(-1,1)\n",
    "\n",
    "future_ = btc[:][len(btc)-(future_+look_back_-1):]\n"
   ]
  },
  {
   "cell_type": "code",
   "execution_count": 253,
   "id": "yoYvHWVXFNJf",
   "metadata": {
    "colab": {
     "base_uri": "https://localhost:8080/"
    },
    "id": "yoYvHWVXFNJf",
    "outputId": "ac1ccc5b-3e18-4da5-e1d3-6cba9926ce9e"
   },
   "outputs": [
    {
     "data": {
      "text/plain": [
       "Index(['close_log', 'close', 'diff30', 'mom10', 'target_log'], dtype='object')"
      ]
     },
     "execution_count": 253,
     "metadata": {},
     "output_type": "execute_result"
    }
   ],
   "source": [
    "df_train_.columns"
   ]
  },
  {
   "cell_type": "code",
   "execution_count": 254,
   "id": "vA-pnvD6EXyv",
   "metadata": {
    "colab": {
     "base_uri": "https://localhost:8080/",
     "height": 143
    },
    "id": "vA-pnvD6EXyv",
    "outputId": "6e9b84e7-756d-4da3-8a92-9d4f0dc29655"
   },
   "outputs": [
    {
     "data": {
      "text/html": [
       "\n",
       "  <div id=\"df-49149666-85e2-427d-8270-a6b793bb2153\">\n",
       "    <div class=\"colab-df-container\">\n",
       "      <div>\n",
       "<style scoped>\n",
       "    .dataframe tbody tr th:only-of-type {\n",
       "        vertical-align: middle;\n",
       "    }\n",
       "\n",
       "    .dataframe tbody tr th {\n",
       "        vertical-align: top;\n",
       "    }\n",
       "\n",
       "    .dataframe thead th {\n",
       "        text-align: right;\n",
       "    }\n",
       "</style>\n",
       "<table border=\"1\" class=\"dataframe\">\n",
       "  <thead>\n",
       "    <tr style=\"text-align: right;\">\n",
       "      <th></th>\n",
       "      <th>close_log</th>\n",
       "      <th>diff30</th>\n",
       "      <th>mom10</th>\n",
       "      <th>target_log</th>\n",
       "    </tr>\n",
       "    <tr>\n",
       "      <th>date</th>\n",
       "      <th></th>\n",
       "      <th></th>\n",
       "      <th></th>\n",
       "      <th></th>\n",
       "    </tr>\n",
       "  </thead>\n",
       "  <tbody>\n",
       "    <tr>\n",
       "      <th>2021-08-27</th>\n",
       "      <td>1.582802</td>\n",
       "      <td>7866.876215</td>\n",
       "      <td>0.597386</td>\n",
       "      <td>1.599881</td>\n",
       "    </tr>\n",
       "    <tr>\n",
       "      <th>2021-08-28</th>\n",
       "      <td>1.599881</td>\n",
       "      <td>9037.006542</td>\n",
       "      <td>1.391593</td>\n",
       "      <td>1.596503</td>\n",
       "    </tr>\n",
       "  </tbody>\n",
       "</table>\n",
       "</div>\n",
       "      <button class=\"colab-df-convert\" onclick=\"convertToInteractive('df-49149666-85e2-427d-8270-a6b793bb2153')\"\n",
       "              title=\"Convert this dataframe to an interactive table.\"\n",
       "              style=\"display:none;\">\n",
       "        \n",
       "  <svg xmlns=\"http://www.w3.org/2000/svg\" height=\"24px\"viewBox=\"0 0 24 24\"\n",
       "       width=\"24px\">\n",
       "    <path d=\"M0 0h24v24H0V0z\" fill=\"none\"/>\n",
       "    <path d=\"M18.56 5.44l.94 2.06.94-2.06 2.06-.94-2.06-.94-.94-2.06-.94 2.06-2.06.94zm-11 1L8.5 8.5l.94-2.06 2.06-.94-2.06-.94L8.5 2.5l-.94 2.06-2.06.94zm10 10l.94 2.06.94-2.06 2.06-.94-2.06-.94-.94-2.06-.94 2.06-2.06.94z\"/><path d=\"M17.41 7.96l-1.37-1.37c-.4-.4-.92-.59-1.43-.59-.52 0-1.04.2-1.43.59L10.3 9.45l-7.72 7.72c-.78.78-.78 2.05 0 2.83L4 21.41c.39.39.9.59 1.41.59.51 0 1.02-.2 1.41-.59l7.78-7.78 2.81-2.81c.8-.78.8-2.07 0-2.86zM5.41 20L4 18.59l7.72-7.72 1.47 1.35L5.41 20z\"/>\n",
       "  </svg>\n",
       "      </button>\n",
       "      \n",
       "  <style>\n",
       "    .colab-df-container {\n",
       "      display:flex;\n",
       "      flex-wrap:wrap;\n",
       "      gap: 12px;\n",
       "    }\n",
       "\n",
       "    .colab-df-convert {\n",
       "      background-color: #E8F0FE;\n",
       "      border: none;\n",
       "      border-radius: 50%;\n",
       "      cursor: pointer;\n",
       "      display: none;\n",
       "      fill: #1967D2;\n",
       "      height: 32px;\n",
       "      padding: 0 0 0 0;\n",
       "      width: 32px;\n",
       "    }\n",
       "\n",
       "    .colab-df-convert:hover {\n",
       "      background-color: #E2EBFA;\n",
       "      box-shadow: 0px 1px 2px rgba(60, 64, 67, 0.3), 0px 1px 3px 1px rgba(60, 64, 67, 0.15);\n",
       "      fill: #174EA6;\n",
       "    }\n",
       "\n",
       "    [theme=dark] .colab-df-convert {\n",
       "      background-color: #3B4455;\n",
       "      fill: #D2E3FC;\n",
       "    }\n",
       "\n",
       "    [theme=dark] .colab-df-convert:hover {\n",
       "      background-color: #434B5C;\n",
       "      box-shadow: 0px 1px 3px 1px rgba(0, 0, 0, 0.15);\n",
       "      filter: drop-shadow(0px 1px 2px rgba(0, 0, 0, 0.3));\n",
       "      fill: #FFFFFF;\n",
       "    }\n",
       "  </style>\n",
       "\n",
       "      <script>\n",
       "        const buttonEl =\n",
       "          document.querySelector('#df-49149666-85e2-427d-8270-a6b793bb2153 button.colab-df-convert');\n",
       "        buttonEl.style.display =\n",
       "          google.colab.kernel.accessAllowed ? 'block' : 'none';\n",
       "\n",
       "        async function convertToInteractive(key) {\n",
       "          const element = document.querySelector('#df-49149666-85e2-427d-8270-a6b793bb2153');\n",
       "          const dataTable =\n",
       "            await google.colab.kernel.invokeFunction('convertToInteractive',\n",
       "                                                     [key], {});\n",
       "          if (!dataTable) return;\n",
       "\n",
       "          const docLinkHtml = 'Like what you see? Visit the ' +\n",
       "            '<a target=\"_blank\" href=https://colab.research.google.com/notebooks/data_table.ipynb>data table notebook</a>'\n",
       "            + ' to learn more about interactive tables.';\n",
       "          element.innerHTML = '';\n",
       "          dataTable['output_type'] = 'display_data';\n",
       "          await google.colab.output.renderOutput(dataTable, element);\n",
       "          const docLink = document.createElement('div');\n",
       "          docLink.innerHTML = docLinkHtml;\n",
       "          element.appendChild(docLink);\n",
       "        }\n",
       "      </script>\n",
       "    </div>\n",
       "  </div>\n",
       "  "
      ],
      "text/plain": [
       "            close_log       diff30     mom10  target_log\n",
       "date                                                    \n",
       "2021-08-27   1.582802  7866.876215  0.597386    1.599881\n",
       "2021-08-28   1.599881  9037.006542  1.391593    1.596503"
      ]
     },
     "execution_count": 254,
     "metadata": {},
     "output_type": "execute_result"
    }
   ],
   "source": [
    "col = ['close_log', 'diff30', 'mom10', 'target_log']\n",
    "df_train = df_train_[:][col]\n",
    "df_test = df_test_[:][col]\n",
    "future = future_[:][col]\n",
    "df_test.head(2)"
   ]
  },
  {
   "cell_type": "code",
   "execution_count": 255,
   "id": "f3e1e5fa",
   "metadata": {
    "colab": {
     "base_uri": "https://localhost:8080/"
    },
    "execution": {
     "iopub.execute_input": "2021-11-09T08:24:00.120271Z",
     "iopub.status.busy": "2021-11-09T08:24:00.119252Z",
     "iopub.status.idle": "2021-11-09T08:24:00.134344Z",
     "shell.execute_reply": "2021-11-09T08:24:00.133732Z",
     "shell.execute_reply.started": "2021-11-09T07:53:28.462429Z"
    },
    "id": "f3e1e5fa",
    "outputId": "3a20f93d-3347-494c-ed3a-df79c5fc7012",
    "papermill": {
     "duration": 0.066879,
     "end_time": "2021-11-09T08:24:00.134486",
     "exception": false,
     "start_time": "2021-11-09T08:24:00.067607",
     "status": "completed"
    },
    "tags": []
   },
   "outputs": [
    {
     "name": "stdout",
     "output_type": "stream",
     "text": [
      "trainX:  (2101, 5, 3)\n",
      "trainY:  (2101,)\n",
      "testX:  (30, 5, 3)\n",
      "testY (30,)\n",
      "futureX:  (30, 5, 3)\n",
      "futureY (30,)\n"
     ]
    }
   ],
   "source": [
    "# many to one\n",
    "\n",
    "from collections import deque\n",
    "def dataset_generator_lstm(dataset, look_back=look_back_):\n",
    "  sequential_data = [] \n",
    "  prev_days = deque(maxlen=look_back)\n",
    "  for i in dataset.values:\n",
    "    prev_days.append([n for n in i[:-1]])\n",
    "    if len(prev_days) == look_back:  \n",
    "      sequential_data.append([np.array(prev_days), i[-1]])\n",
    "  dataX=[]\n",
    "  dataY=[]\n",
    "  for seq, target in sequential_data: \n",
    "    dataX.append(seq) \n",
    "    dataY.append(target) \n",
    "  return np.array(dataX), np.array(dataY)\n",
    "\n",
    "trainX, trainY = dataset_generator_lstm(df_train)\n",
    "\n",
    "testX, testY = dataset_generator_lstm(df_test)\n",
    "\n",
    "futureX, futureY = dataset_generator_lstm(future)\n",
    "\n",
    "print(\"trainX: \", trainX.shape)\n",
    "print(\"trainY: \", trainY.shape)\n",
    "print(\"testX: \", testX.shape)\n",
    "print(\"testY\", testY.shape)\n",
    "print(\"futureX: \", futureX.shape)\n",
    "print(\"futureY\", futureY.shape)"
   ]
  },
  {
   "cell_type": "markdown",
   "id": "lLbwlWzN8P6-",
   "metadata": {
    "id": "lLbwlWzN8P6-"
   },
   "source": [
    "# train"
   ]
  },
  {
   "cell_type": "code",
   "execution_count": 256,
   "id": "0c247041",
   "metadata": {
    "colab": {
     "base_uri": "https://localhost:8080/"
    },
    "execution": {
     "iopub.execute_input": "2021-11-09T08:24:01.286885Z",
     "iopub.status.busy": "2021-11-09T08:24:01.285918Z",
     "iopub.status.idle": "2021-11-09T08:24:01.746820Z",
     "shell.execute_reply": "2021-11-09T08:24:01.747339Z",
     "shell.execute_reply.started": "2021-11-09T07:53:28.553350Z"
    },
    "id": "0c247041",
    "outputId": "94f21c35-d595-4e07-d3b9-5e07f691c152",
    "papermill": {
     "duration": 0.51592,
     "end_time": "2021-11-09T08:24:01.747513",
     "exception": false,
     "start_time": "2021-11-09T08:24:01.231593",
     "status": "completed"
    },
    "tags": []
   },
   "outputs": [
    {
     "name": "stdout",
     "output_type": "stream",
     "text": [
      "Model: \"sequential_9\"\n",
      "_________________________________________________________________\n",
      " Layer (type)                Output Shape              Param #   \n",
      "=================================================================\n",
      " lstm_27 (LSTM)              (None, 5, 512)            1056768   \n",
      "                                                                 \n",
      " dropout_27 (Dropout)        (None, 5, 512)            0         \n",
      "                                                                 \n",
      " lstm_28 (LSTM)              (None, 5, 265)            824680    \n",
      "                                                                 \n",
      " dropout_28 (Dropout)        (None, 5, 265)            0         \n",
      "                                                                 \n",
      " lstm_29 (LSTM)              (None, 128)               201728    \n",
      "                                                                 \n",
      " dropout_29 (Dropout)        (None, 128)               0         \n",
      "                                                                 \n",
      " dense_18 (Dense)            (None, 5)                 645       \n",
      "                                                                 \n",
      " dense_19 (Dense)            (None, 1)                 6         \n",
      "                                                                 \n",
      "=================================================================\n",
      "Total params: 2,083,827\n",
      "Trainable params: 2,083,827\n",
      "Non-trainable params: 0\n",
      "_________________________________________________________________\n"
     ]
    }
   ],
   "source": [
    "regressor = Sequential()\n",
    "\n",
    "regressor.add(LSTM(units = 512, activation = 'relu',return_sequences=True, input_shape = (trainX.shape[1], trainX.shape[2])))\n",
    "regressor.add(Dropout(0.2))\n",
    "\n",
    "regressor.add(LSTM(units = 265, activation = 'relu',return_sequences=True, input_shape = (trainX.shape[1], trainX.shape[2])))\n",
    "regressor.add(Dropout(0.2))\n",
    "\n",
    "regressor.add(LSTM(units = 128, activation = 'relu', input_shape = (trainX.shape[1], trainX.shape[2])))\n",
    "regressor.add(Dropout(0.2))\n",
    "\n",
    "regressor.add(Dense(units = look_back_, activation = 'relu'))\n",
    "\n",
    "regressor.add(Dense(units = 1))\n",
    "\n",
    "regressor.summary()\n"
   ]
  },
  {
   "cell_type": "code",
   "execution_count": null,
   "id": "737a2ede",
   "metadata": {
    "execution": {
     "iopub.execute_input": "2021-11-09T08:24:01.859939Z",
     "iopub.status.busy": "2021-11-09T08:24:01.859233Z",
     "iopub.status.idle": "2021-11-09T08:24:34.491023Z",
     "shell.execute_reply": "2021-11-09T08:24:34.491550Z",
     "shell.execute_reply.started": "2021-11-09T07:53:29.074954Z"
    },
    "id": "737a2ede",
    "papermill": {
     "duration": 32.69245,
     "end_time": "2021-11-09T08:24:34.491782",
     "exception": false,
     "start_time": "2021-11-09T08:24:01.799332",
     "status": "completed"
    },
    "tags": []
   },
   "outputs": [],
   "source": [
    "from tensorflow.keras.callbacks import ModelCheckpoint, EarlyStopping\n",
    "\n",
    "\n",
    "regressor.compile(optimizer = 'adam', loss = 'mean_squared_error')\n",
    "\n",
    "checkpoint_path = 'my_best_model.hdf5'\n",
    "\n",
    "checkpoint = ModelCheckpoint(filepath=checkpoint_path, \n",
    "                             monitor='val_loss',\n",
    "                             verbose=1, \n",
    "                             save_best_only=True,\n",
    "                             mode='min')\n",
    "\n",
    "\n",
    "earlystopping = EarlyStopping(monitor='val_loss', patience=5, restore_best_weights=True)\n",
    "\n",
    "callbacks = [checkpoint, earlystopping]\n",
    "\n",
    "\n",
    "# history = regressor.fit(trainX[(len(trainY)-370):], trainY[(len(trainY)-370):], batch_size = 128, epochs = 300, verbose=1, shuffle=False, validation_data=(testX, testY), callbacks=callbacks)\n",
    "history = regressor.fit(trainX, trainY, batch_size = 128, epochs = 300, verbose=1, shuffle=False, validation_data=(testX, testY), callbacks=callbacks)"
   ]
  },
  {
   "cell_type": "code",
   "execution_count": null,
   "id": "75ef7aa9",
   "metadata": {
    "execution": {
     "iopub.execute_input": "2021-11-09T08:24:46.325426Z",
     "iopub.status.busy": "2021-11-09T08:24:46.324389Z",
     "iopub.status.idle": "2021-11-09T08:24:46.568908Z",
     "shell.execute_reply": "2021-11-09T08:24:46.569365Z",
     "shell.execute_reply.started": "2021-11-09T07:54:23.288972Z"
    },
    "id": "75ef7aa9",
    "papermill": {
     "duration": 0.46139,
     "end_time": "2021-11-09T08:24:46.569557",
     "exception": false,
     "start_time": "2021-11-09T08:24:46.108167",
     "status": "completed"
    },
    "tags": []
   },
   "outputs": [],
   "source": [
    "plt.figure(figsize=(16,7))\n",
    "plt.plot(history.history['loss'], label='train')\n",
    "\n",
    "plt.plot(history.history['val_loss'], label='test')\n",
    "plt.legend()\n",
    "plt.show()"
   ]
  },
  {
   "cell_type": "code",
   "execution_count": 222,
   "id": "7b511a52",
   "metadata": {
    "execution": {
     "iopub.execute_input": "2021-11-09T08:24:35.370435Z",
     "iopub.status.busy": "2021-11-09T08:24:35.369774Z",
     "iopub.status.idle": "2021-11-09T08:24:45.892279Z",
     "shell.execute_reply": "2021-11-09T08:24:45.892858Z",
     "shell.execute_reply.started": "2021-11-09T07:54:22.907318Z"
    },
    "id": "7b511a52",
    "papermill": {
     "duration": 10.74732,
     "end_time": "2021-11-09T08:24:45.893042",
     "exception": false,
     "start_time": "2021-11-09T08:24:35.145722",
     "status": "completed"
    },
    "tags": []
   },
   "outputs": [],
   "source": [
    "from tensorflow.keras.models import load_model\n",
    "\n",
    "model_from_saved_checkpoint = load_model(checkpoint_path)"
   ]
  },
  {
   "cell_type": "markdown",
   "id": "2JHDgEvC8Jzr",
   "metadata": {
    "id": "2JHDgEvC8Jzr"
   },
   "source": [
    "# test test"
   ]
  },
  {
   "cell_type": "code",
   "execution_count": null,
   "id": "P4gWaI6hzex-",
   "metadata": {
    "id": "P4gWaI6hzex-"
   },
   "outputs": [],
   "source": [
    "plt.figure(figsize=(16,7))\n",
    "\n",
    "# log\n",
    "predicted_btc_price_test_data = model_from_saved_checkpoint.predict(testX)\n",
    "predicted_btc_price_test_data = scaler_tlog.inverse_transform(predicted_btc_price_test_data.reshape(-1, 1))\n",
    "test_actual = scaler_tlog.inverse_transform(testY.reshape(-1, 1))\n",
    "\n",
    "plt.plot(np.exp(predicted_btc_price_test_data), 'r', marker='.', label='Predicted Test')\n",
    "plt.plot(np.exp(test_actual), marker='.', label='Actual Test')\n",
    "\n",
    "# # manoal\n",
    "# predicted_btc_price_test_data = model_from_saved_checkpoint.predict(testX)\n",
    "# predicted_btc_price_test_data = scaler_t.inverse_transform(predicted_btc_price_test_data.reshape(-1, 1))\n",
    "# test_actual = scaler_t.inverse_transform(testY.reshape(-1, 1))\n",
    "\n",
    "# plt.plot(predicted_btc_price_test_data, 'r', marker='.', label='Predicted Test')\n",
    "# plt.plot(test_actual, marker='.', label='Actual Test')\n",
    "\n",
    "\n",
    "plt.legend()\n",
    "plt.show()"
   ]
  },
  {
   "cell_type": "markdown",
   "id": "t0-jxnhq79Rz",
   "metadata": {
    "id": "t0-jxnhq79Rz"
   },
   "source": [
    "#test train"
   ]
  },
  {
   "cell_type": "code",
   "execution_count": 32,
   "id": "IfHVjwzz6Eqw",
   "metadata": {
    "colab": {
     "base_uri": "https://localhost:8080/",
     "height": 0
    },
    "id": "IfHVjwzz6Eqw",
    "outputId": "89d464f8-4015-4a8a-f543-a8e70c22808b"
   },
   "outputs": [
    {
     "data": {
      "image/png": "[encoded data removed]",
      "text/plain": [
       "<Figure size 1728x504 with 1 Axes>"
      ]
     },
     "metadata": {
      "needs_background": "light"
     },
     "output_type": "display_data"
    }
   ],
   "source": [
    "plt.figure(figsize=(24,7))\n",
    "\n",
    "# log\n",
    "predicted_btc_price_train_data = model_from_saved_checkpoint.predict(trainX)\n",
    "predicted_btc_price_train_data = scaler_tlog.inverse_transform(predicted_btc_price_train_data.reshape(-1, 1))\n",
    "train_actual = scaler_tlog.inverse_transform(trainY.reshape(-1, 1))\n",
    "\n",
    "plt.plot(np.exp(predicted_btc_price_train_data), 'r', marker='.', label='Predicted Test')\n",
    "plt.plot(np.exp(train_actual), marker='.', label='Actual Test')\n",
    "\n",
    "# # manoal\n",
    "# predicted_btc_price_train_data = model_from_saved_checkpoint.predict(trainX)\n",
    "# predicted_btc_price_train_data = scaler_t.inverse_transform(predicted_btc_price_train_data.reshape(-1, 1))\n",
    "# train_actual = scaler_t.inverse_transform(trainY.reshape(-1, 1))\n",
    "\n",
    "# plt.plot(predicted_btc_price_train_data, 'r', marker='.', label='Predicted Test')\n",
    "# plt.plot(train_actual, marker='.', label='Actual Test')\n",
    "\n",
    "\n",
    "plt.legend()\n",
    "plt.show()"
   ]
  },
  {
   "cell_type": "markdown",
   "id": "RbESQNif7sFE",
   "metadata": {
    "id": "RbESQNif7sFE"
   },
   "source": [
    "# score"
   ]
  },
  {
   "cell_type": "markdown",
   "id": "VfWzmxzRmWj9",
   "metadata": {
    "id": "VfWzmxzRmWj9"
   },
   "source": [
    "## log"
   ]
  },
  {
   "cell_type": "code",
   "execution_count": 223,
   "id": "f528eac3",
   "metadata": {
    "colab": {
     "base_uri": "https://localhost:8080/"
    },
    "execution": {
     "iopub.execute_input": "2021-11-09T08:24:51.673734Z",
     "iopub.status.busy": "2021-11-09T08:24:51.672794Z",
     "iopub.status.idle": "2021-11-09T08:24:51.678780Z",
     "shell.execute_reply": "2021-11-09T08:24:51.679241Z",
     "shell.execute_reply.started": "2021-11-09T07:54:24.941735Z"
    },
    "id": "f528eac3",
    "outputId": "ea16fc7d-5559-49fb-95d2-2f9eec715f74",
    "papermill": {
     "duration": 0.229983,
     "end_time": "2021-11-09T08:24:51.679408",
     "exception": false,
     "start_time": "2021-11-09T08:24:51.449425",
     "status": "completed"
    },
    "tags": []
   },
   "outputs": [
    {
     "name": "stdout",
     "output_type": "stream",
     "text": [
      "Test RMSE: 6276.525\n"
     ]
    }
   ],
   "source": [
    "rmse_lstm_test = math.sqrt(mean_squared_error(np.exp(test_actual), np.exp(predicted_btc_price_test_data)))\n",
    "\n",
    "print('Test RMSE: %.3f' % rmse_lstm_test)\n"
   ]
  },
  {
   "cell_type": "code",
   "execution_count": 224,
   "id": "4694569c",
   "metadata": {
    "colab": {
     "base_uri": "https://localhost:8080/"
    },
    "execution": {
     "iopub.execute_input": "2021-11-09T08:24:52.578248Z",
     "iopub.status.busy": "2021-11-09T08:24:52.577170Z",
     "iopub.status.idle": "2021-11-09T08:24:52.583165Z",
     "shell.execute_reply": "2021-11-09T08:24:52.583695Z",
     "shell.execute_reply.started": "2021-11-09T07:54:24.950091Z"
    },
    "id": "4694569c",
    "outputId": "b12b8b42-53de-4830-d5c3-0e6848a6eacb",
    "papermill": {
     "duration": 0.235012,
     "end_time": "2021-11-09T08:24:52.583860",
     "exception": false,
     "start_time": "2021-11-09T08:24:52.348848",
     "status": "completed"
    },
    "tags": []
   },
   "outputs": [
    {
     "name": "stdout",
     "output_type": "stream",
     "text": [
      "Test RMSE: 2010.802\n"
     ]
    }
   ],
   "source": [
    "rmse_lstm_train = math.sqrt(mean_squared_error(np.exp(train_actual), np.exp(predicted_btc_price_train_data)))\n",
    "\n",
    "print('Test RMSE: %.3f' % rmse_lstm_train)\n"
   ]
  },
  {
   "cell_type": "markdown",
   "id": "EQivOH7Hmdym",
   "metadata": {
    "id": "EQivOH7Hmdym"
   },
   "source": [
    "## manoal"
   ]
  },
  {
   "cell_type": "code",
   "execution_count": 152,
   "id": "GwD32lLQmj9V",
   "metadata": {
    "colab": {
     "base_uri": "https://localhost:8080/"
    },
    "execution": {
     "iopub.execute_input": "2021-11-09T08:24:51.673734Z",
     "iopub.status.busy": "2021-11-09T08:24:51.672794Z",
     "iopub.status.idle": "2021-11-09T08:24:51.678780Z",
     "shell.execute_reply": "2021-11-09T08:24:51.679241Z",
     "shell.execute_reply.started": "2021-11-09T07:54:24.941735Z"
    },
    "id": "GwD32lLQmj9V",
    "outputId": "ba8e84ee-d45f-492f-f6ad-45a3cff9dd99",
    "papermill": {
     "duration": 0.229983,
     "end_time": "2021-11-09T08:24:51.679408",
     "exception": false,
     "start_time": "2021-11-09T08:24:51.449425",
     "status": "completed"
    },
    "tags": []
   },
   "outputs": [
    {
     "name": "stdout",
     "output_type": "stream",
     "text": [
      "Test RMSE: 2951.213\n"
     ]
    }
   ],
   "source": [
    "rmse_lstm_test = math.sqrt(mean_squared_error(test_actual, predicted_btc_price_test_data))\n",
    "\n",
    "print('Test RMSE: %.3f' % rmse_lstm_test)\n"
   ]
  },
  {
   "cell_type": "code",
   "execution_count": 153,
   "id": "SM8YFgpmmj9W",
   "metadata": {
    "colab": {
     "base_uri": "https://localhost:8080/"
    },
    "execution": {
     "iopub.execute_input": "2021-11-09T08:24:52.578248Z",
     "iopub.status.busy": "2021-11-09T08:24:52.577170Z",
     "iopub.status.idle": "2021-11-09T08:24:52.583165Z",
     "shell.execute_reply": "2021-11-09T08:24:52.583695Z",
     "shell.execute_reply.started": "2021-11-09T07:54:24.950091Z"
    },
    "id": "SM8YFgpmmj9W",
    "outputId": "3a19fa3a-8351-4cb7-87de-b1194fa1544b",
    "papermill": {
     "duration": 0.235012,
     "end_time": "2021-11-09T08:24:52.583860",
     "exception": false,
     "start_time": "2021-11-09T08:24:52.348848",
     "status": "completed"
    },
    "tags": []
   },
   "outputs": [
    {
     "name": "stdout",
     "output_type": "stream",
     "text": [
      "Test RMSE: 1503.741\n"
     ]
    }
   ],
   "source": [
    "rmse_lstm_train = math.sqrt(mean_squared_error(train_actual, predicted_btc_price_train_data))\n",
    "\n",
    "print('Test RMSE: %.3f' % rmse_lstm_train)\n"
   ]
  },
  {
   "cell_type": "markdown",
   "id": "4XLVI0GT8Ccb",
   "metadata": {
    "id": "4XLVI0GT8Ccb"
   },
   "source": [
    "# future"
   ]
  },
  {
   "cell_type": "markdown",
   "id": "0Ff93g4Ab3Xi",
   "metadata": {
    "id": "0Ff93g4Ab3Xi"
   },
   "source": [
    "###### genertor"
   ]
  },
  {
   "cell_type": "code",
   "execution_count": 35,
   "id": "w9m_-mGktogC",
   "metadata": {
    "colab": {
     "base_uri": "https://localhost:8080/",
     "height": 300
    },
    "id": "w9m_-mGktogC",
    "outputId": "e7199a20-4c74-4b9a-b929-95bcc6eac617"
   },
   "outputs": [
    {
     "data": {
      "text/html": [
       "\n",
       "  <div id=\"df-05296bc3-6da6-409a-9abd-77e7695e5cea\">\n",
       "    <div class=\"colab-df-container\">\n",
       "      <div>\n",
       "<style scoped>\n",
       "    .dataframe tbody tr th:only-of-type {\n",
       "        vertical-align: middle;\n",
       "    }\n",
       "\n",
       "    .dataframe tbody tr th {\n",
       "        vertical-align: top;\n",
       "    }\n",
       "\n",
       "    .dataframe thead th {\n",
       "        text-align: right;\n",
       "    }\n",
       "</style>\n",
       "<table border=\"1\" class=\"dataframe\">\n",
       "  <thead>\n",
       "    <tr style=\"text-align: right;\">\n",
       "      <th></th>\n",
       "      <th>close_log</th>\n",
       "      <th>diff1_log</th>\n",
       "      <th>diff7_log</th>\n",
       "      <th>diff30_log</th>\n",
       "      <th>close</th>\n",
       "      <th>diff1</th>\n",
       "      <th>diff7</th>\n",
       "      <th>diff30</th>\n",
       "      <th>rsi</th>\n",
       "      <th>mom</th>\n",
       "      <th>target_log</th>\n",
       "      <th>target</th>\n",
       "    </tr>\n",
       "    <tr>\n",
       "      <th>date</th>\n",
       "      <th></th>\n",
       "      <th></th>\n",
       "      <th></th>\n",
       "      <th></th>\n",
       "      <th></th>\n",
       "      <th></th>\n",
       "      <th></th>\n",
       "      <th></th>\n",
       "      <th></th>\n",
       "      <th></th>\n",
       "      <th></th>\n",
       "      <th></th>\n",
       "    </tr>\n",
       "  </thead>\n",
       "  <tbody>\n",
       "    <tr>\n",
       "      <th>2021-09-23</th>\n",
       "      <td>1.526519</td>\n",
       "      <td>1.010844</td>\n",
       "      <td>-0.955004</td>\n",
       "      <td>-0.735054</td>\n",
       "      <td>2.186577</td>\n",
       "      <td>2.306546</td>\n",
       "      <td>-1.949076</td>\n",
       "      <td>-1.264034</td>\n",
       "      <td>-0.825745</td>\n",
       "      <td>-0.395953</td>\n",
       "      <td>1.510573</td>\n",
       "      <td>2.121737</td>\n",
       "    </tr>\n",
       "    <tr>\n",
       "      <th>2021-09-24</th>\n",
       "      <td>1.510573</td>\n",
       "      <td>-0.763371</td>\n",
       "      <td>-1.106411</td>\n",
       "      <td>-0.773862</td>\n",
       "      <td>2.121737</td>\n",
       "      <td>-1.526758</td>\n",
       "      <td>-2.264716</td>\n",
       "      <td>-1.336361</td>\n",
       "      <td>-0.994597</td>\n",
       "      <td>-1.283523</td>\n",
       "      <td>1.501905</td>\n",
       "      <td>2.085508</td>\n",
       "    </tr>\n",
       "    <tr>\n",
       "      <th>2021-09-25</th>\n",
       "      <td>1.501905</td>\n",
       "      <td>-0.448938</td>\n",
       "      <td>-1.354658</td>\n",
       "      <td>-0.744568</td>\n",
       "      <td>2.085508</td>\n",
       "      <td>-0.872251</td>\n",
       "      <td>-2.847778</td>\n",
       "      <td>-1.251775</td>\n",
       "      <td>-1.085844</td>\n",
       "      <td>-2.115735</td>\n",
       "      <td>1.505278</td>\n",
       "      <td>2.099442</td>\n",
       "    </tr>\n",
       "    <tr>\n",
       "      <th>2021-09-26</th>\n",
       "      <td>1.505278</td>\n",
       "      <td>0.071371</td>\n",
       "      <td>-1.208299</td>\n",
       "      <td>-0.759213</td>\n",
       "      <td>2.099442</td>\n",
       "      <td>0.275288</td>\n",
       "      <td>-2.500280</td>\n",
       "      <td>-1.293334</td>\n",
       "      <td>-1.027562</td>\n",
       "      <td>-2.157325</td>\n",
       "      <td>1.517183</td>\n",
       "      <td>2.147888</td>\n",
       "    </tr>\n",
       "    <tr>\n",
       "      <th>2021-09-27</th>\n",
       "      <td>1.517183</td>\n",
       "      <td>0.440074</td>\n",
       "      <td>-0.398834</td>\n",
       "      <td>-0.789938</td>\n",
       "      <td>2.147888</td>\n",
       "      <td>1.064788</td>\n",
       "      <td>-0.632671</td>\n",
       "      <td>-1.391859</td>\n",
       "      <td>-0.824609</td>\n",
       "      <td>-1.740665</td>\n",
       "      <td>1.490817</td>\n",
       "      <td>2.041276</td>\n",
       "    </tr>\n",
       "    <tr>\n",
       "      <th>2021-09-28</th>\n",
       "      <td>1.490817</td>\n",
       "      <td>-1.213665</td>\n",
       "      <td>-0.276198</td>\n",
       "      <td>-0.926464</td>\n",
       "      <td>2.041276</td>\n",
       "      <td>-2.482334</td>\n",
       "      <td>-0.342978</td>\n",
       "      <td>-1.698312</td>\n",
       "      <td>-1.120085</td>\n",
       "      <td>-2.639959</td>\n",
       "      <td>1.488943</td>\n",
       "      <td>2.033892</td>\n",
       "    </tr>\n",
       "    <tr>\n",
       "      <th>2021-09-29</th>\n",
       "      <td>1.488943</td>\n",
       "      <td>-0.155329</td>\n",
       "      <td>-0.330620</td>\n",
       "      <td>-0.886788</td>\n",
       "      <td>2.033892</td>\n",
       "      <td>-0.212383</td>\n",
       "      <td>-0.458628</td>\n",
       "      <td>-1.591450</td>\n",
       "      <td>-1.139407</td>\n",
       "      <td>-2.481561</td>\n",
       "      <td>1.512942</td>\n",
       "      <td>2.130458</td>\n",
       "    </tr>\n",
       "  </tbody>\n",
       "</table>\n",
       "</div>\n",
       "      <button class=\"colab-df-convert\" onclick=\"convertToInteractive('df-05296bc3-6da6-409a-9abd-77e7695e5cea')\"\n",
       "              title=\"Convert this dataframe to an interactive table.\"\n",
       "              style=\"display:none;\">\n",
       "        \n",
       "  <svg xmlns=\"http://www.w3.org/2000/svg\" height=\"24px\"viewBox=\"0 0 24 24\"\n",
       "       width=\"24px\">\n",
       "    <path d=\"M0 0h24v24H0V0z\" fill=\"none\"/>\n",
       "    <path d=\"M18.56 5.44l.94 2.06.94-2.06 2.06-.94-2.06-.94-.94-2.06-.94 2.06-2.06.94zm-11 1L8.5 8.5l.94-2.06 2.06-.94-2.06-.94L8.5 2.5l-.94 2.06-2.06.94zm10 10l.94 2.06.94-2.06 2.06-.94-2.06-.94-.94-2.06-.94 2.06-2.06.94z\"/><path d=\"M17.41 7.96l-1.37-1.37c-.4-.4-.92-.59-1.43-.59-.52 0-1.04.2-1.43.59L10.3 9.45l-7.72 7.72c-.78.78-.78 2.05 0 2.83L4 21.41c.39.39.9.59 1.41.59.51 0 1.02-.2 1.41-.59l7.78-7.78 2.81-2.81c.8-.78.8-2.07 0-2.86zM5.41 20L4 18.59l7.72-7.72 1.47 1.35L5.41 20z\"/>\n",
       "  </svg>\n",
       "      </button>\n",
       "      \n",
       "  <style>\n",
       "    .colab-df-container {\n",
       "      display:flex;\n",
       "      flex-wrap:wrap;\n",
       "      gap: 12px;\n",
       "    }\n",
       "\n",
       "    .colab-df-convert {\n",
       "      background-color: #E8F0FE;\n",
       "      border: none;\n",
       "      border-radius: 50%;\n",
       "      cursor: pointer;\n",
       "      display: none;\n",
       "      fill: #1967D2;\n",
       "      height: 32px;\n",
       "      padding: 0 0 0 0;\n",
       "      width: 32px;\n",
       "    }\n",
       "\n",
       "    .colab-df-convert:hover {\n",
       "      background-color: #E2EBFA;\n",
       "      box-shadow: 0px 1px 2px rgba(60, 64, 67, 0.3), 0px 1px 3px 1px rgba(60, 64, 67, 0.15);\n",
       "      fill: #174EA6;\n",
       "    }\n",
       "\n",
       "    [theme=dark] .colab-df-convert {\n",
       "      background-color: #3B4455;\n",
       "      fill: #D2E3FC;\n",
       "    }\n",
       "\n",
       "    [theme=dark] .colab-df-convert:hover {\n",
       "      background-color: #434B5C;\n",
       "      box-shadow: 0px 1px 3px 1px rgba(0, 0, 0, 0.15);\n",
       "      filter: drop-shadow(0px 1px 2px rgba(0, 0, 0, 0.3));\n",
       "      fill: #FFFFFF;\n",
       "    }\n",
       "  </style>\n",
       "\n",
       "      <script>\n",
       "        const buttonEl =\n",
       "          document.querySelector('#df-05296bc3-6da6-409a-9abd-77e7695e5cea button.colab-df-convert');\n",
       "        buttonEl.style.display =\n",
       "          google.colab.kernel.accessAllowed ? 'block' : 'none';\n",
       "\n",
       "        async function convertToInteractive(key) {\n",
       "          const element = document.querySelector('#df-05296bc3-6da6-409a-9abd-77e7695e5cea');\n",
       "          const dataTable =\n",
       "            await google.colab.kernel.invokeFunction('convertToInteractive',\n",
       "                                                     [key], {});\n",
       "          if (!dataTable) return;\n",
       "\n",
       "          const docLinkHtml = 'Like what you see? Visit the ' +\n",
       "            '<a target=\"_blank\" href=https://colab.research.google.com/notebooks/data_table.ipynb>data table notebook</a>'\n",
       "            + ' to learn more about interactive tables.';\n",
       "          element.innerHTML = '';\n",
       "          dataTable['output_type'] = 'display_data';\n",
       "          await google.colab.output.renderOutput(dataTable, element);\n",
       "          const docLink = document.createElement('div');\n",
       "          docLink.innerHTML = docLinkHtml;\n",
       "          element.appendChild(docLink);\n",
       "        }\n",
       "      </script>\n",
       "    </div>\n",
       "  </div>\n",
       "  "
      ],
      "text/plain": [
       "            close_log  diff1_log  diff7_log  diff30_log     close     diff1  \\\n",
       "date                                                                          \n",
       "2021-09-23   1.526519   1.010844  -0.955004   -0.735054  2.186577  2.306546   \n",
       "2021-09-24   1.510573  -0.763371  -1.106411   -0.773862  2.121737 -1.526758   \n",
       "2021-09-25   1.501905  -0.448938  -1.354658   -0.744568  2.085508 -0.872251   \n",
       "2021-09-26   1.505278   0.071371  -1.208299   -0.759213  2.099442  0.275288   \n",
       "2021-09-27   1.517183   0.440074  -0.398834   -0.789938  2.147888  1.064788   \n",
       "2021-09-28   1.490817  -1.213665  -0.276198   -0.926464  2.041276 -2.482334   \n",
       "2021-09-29   1.488943  -0.155329  -0.330620   -0.886788  2.033892 -0.212383   \n",
       "\n",
       "               diff7    diff30       rsi       mom  target_log    target  \n",
       "date                                                                      \n",
       "2021-09-23 -1.949076 -1.264034 -0.825745 -0.395953    1.510573  2.121737  \n",
       "2021-09-24 -2.264716 -1.336361 -0.994597 -1.283523    1.501905  2.085508  \n",
       "2021-09-25 -2.847778 -1.251775 -1.085844 -2.115735    1.505278  2.099442  \n",
       "2021-09-26 -2.500280 -1.293334 -1.027562 -2.157325    1.517183  2.147888  \n",
       "2021-09-27 -0.632671 -1.391859 -0.824609 -1.740665    1.490817  2.041276  \n",
       "2021-09-28 -0.342978 -1.698312 -1.120085 -2.639959    1.488943  2.033892  \n",
       "2021-09-29 -0.458628 -1.591450 -1.139407 -2.481561    1.512942  2.130458  "
      ]
     },
     "execution_count": 35,
     "metadata": {},
     "output_type": "execute_result"
    }
   ],
   "source": [
    "look_b.tail(7)"
   ]
  },
  {
   "cell_type": "code",
   "execution_count": 168,
   "id": "nSQ-YaQi12eP",
   "metadata": {
    "colab": {
     "base_uri": "https://localhost:8080/",
     "height": 135
    },
    "id": "nSQ-YaQi12eP",
    "outputId": "dd0cb187-518d-4d7f-99c3-5e79ac071bc0"
   },
   "outputs": [
    {
     "ename": "IndentationError",
     "evalue": "ignored",
     "output_type": "error",
     "traceback": [
      "\u001b[0;36m  File \u001b[0;32m\"<ipython-input-168-5c8454c2ab90>\"\u001b[0;36m, line \u001b[0;32m51\u001b[0m\n\u001b[0;31m    d_old = np.exp(scaler_tlog.inverse_transform(np.array(c_log)[-61].reshape(-1,1)))\u001b[0m\n\u001b[0m        ^\u001b[0m\n\u001b[0;31mIndentationError\u001b[0m\u001b[0;31m:\u001b[0m expected an indented block\n"
     ]
    }
   ],
   "source": [
    "# def rsi():\n",
    "#   return scaler_rsi.transform(np.array(ta.rsi(pd.Series(data=np.exp(scaler_tlog.inverse_transform(np.array(c_log).reshape(-1,1))).reshape(-1)),length=14))[-1].reshape(-1,1)).reshape(-1,1)\n",
    "\n",
    "def mom30():\n",
    "  return scaler_mom30.transform(np.array(np.array(ta.mom(pd.Series(data=np.exp(scaler_tlog.inverse_transform(np.array(c_log).reshape(-1,1))).reshape(-1)),length=30))[-1].reshape(-1,1))).reshape(-1,1)\n",
    "\n",
    "def mom60():\n",
    "  return scaler_mom60.transform(np.array(np.array(ta.mom(pd.Series(data=np.exp(scaler_tlog.inverse_transform(np.array(c_log).reshape(-1,1))).reshape(-1)),length=60))[-1].reshape(-1,1))).reshape(-1,1)\n",
    "\n",
    "def mom90():\n",
    "  return scaler_mom90.transform(np.array(np.array(ta.mom(pd.Series(data=np.exp(scaler_tlog.inverse_transform(np.array(c_log).reshape(-1,1))).reshape(-1)),length=90))[-1].reshape(-1,1))).reshape(-1,1)\n",
    "\n",
    "  \n",
    "# def diff1_log(): # target log\n",
    "#   d_old = scaler_tlog.inverse_transform(np.array(c_log)[-1].reshape(-1,1))\n",
    "#   d_new = scaler_tlog.inverse_transform(np.array(per).reshape(-1,1)).reshape(-1,1)\n",
    "#   d = scaler_diff1_log.transform(np.array(d_new - d_old).reshape(-1,1))\n",
    "#   return d\n",
    "\n",
    "# def diff7_log(): # target log\n",
    "#   d_old = scaler_tlog.inverse_transform(np.array(c_log)[-7].reshape(-1,1))\n",
    "#   d_new = scaler_tlog.inverse_transform(np.array(per).reshape(-1,1)).reshape(-1,1)\n",
    "#   d = scaler_diff7_log.transform(np.array(d_new - d_old).reshape(-1,1))\n",
    "#   return d\n",
    "\n",
    "# def diff30_log(): # target log\n",
    "#   d_old = scaler_tlog.inverse_transform(np.array(c_log)[-30].reshape(-1,1))\n",
    "#   d_new = scaler_tlog.inverse_transform(np.array(per).reshape(-1,1)).reshape(-1,1)\n",
    "#   d = scaler_diff30_log.transform(np.array(d_new - d_old).reshape(-1,1))\n",
    "#   return d\n",
    "\n",
    "# def diff1(): # target log\n",
    "#   d_old = np.exp(scaler_tlog.inverse_transform(np.array(c_log)[-1].reshape(-1,1)))\n",
    "#   d_new = np.exp(scaler_tlog.inverse_transform(np.array(per).reshape(-1,1))).reshape(-1,1)\n",
    "#   d = scaler_diff1.transform(np.array(d_new - d_old).reshape(-1,1))\n",
    "#   return d\n",
    "\n",
    "# def diff7(): # target log\n",
    "#   d_old = np.exp(scaler_tlog.inverse_transform(np.array(c_log)[-8].reshape(-1,1)))\n",
    "#   d_new = np.exp(scaler_tlog.inverse_transform(np.array(per).reshape(-1,1))).reshape(-1,1)\n",
    "#   d = scaler_diff7.transform(np.array(d_new - d_old).reshape(-1,1))\n",
    "#   return d\n",
    "\n",
    "def diff30(): # target log\n",
    "  d_old = np.exp(scaler_tlog.inverse_transform(np.array(c_log)[-31].reshape(-1,1)))\n",
    "  d_new = np.exp(scaler_tlog.inverse_transform(np.array(per).reshape(-1,1))).reshape(-1,1)\n",
    "  d = scaler_diff30.transform(np.array(d_new - d_old).reshape(-1,1))\n",
    "  return d\n",
    "\n",
    "  def diff60(): # target log\n",
    "  d_old = np.exp(scaler_tlog.inverse_transform(np.array(c_log)[-61].reshape(-1,1)))\n",
    "  d_new = np.exp(scaler_tlog.inverse_transform(np.array(per).reshape(-1,1))).reshape(-1,1)\n",
    "  d = scaler_diff30.transform(np.array(d_new - d_old).reshape(-1,1))\n",
    "  return d\n",
    "\n",
    "  def diff90(): # target log\n",
    "  d_old = np.exp(scaler_tlog.inverse_transform(np.array(c_log)[-91].reshape(-1,1)))\n",
    "  d_new = np.exp(scaler_tlog.inverse_transform(np.array(per).reshape(-1,1))).reshape(-1,1)\n",
    "  d = scaler_diff30.transform(np.array(d_new - d_old).reshape(-1,1))\n",
    "  return d\n"
   ]
  },
  {
   "cell_type": "markdown",
   "id": "HvDqw9rEvlp1",
   "metadata": {
    "id": "HvDqw9rEvlp1"
   },
   "source": [
    "###### many to one"
   ]
  },
  {
   "cell_type": "code",
   "execution_count": 44,
   "id": "tSdGaneS3zms",
   "metadata": {
    "id": "tSdGaneS3zms"
   },
   "outputs": [],
   "source": [
    "from collections import deque\n",
    "\n",
    "maxlen = 60\n",
    "c_log = deque(maxlen=maxlen)\n",
    "\n",
    "for i in range(-maxlen,0,1):\n",
    "  # prev_days.append(scaler.transform(test_actual[i].reshape(-1,1)))\n",
    "  c_log.append(look_b['close_log'].values[i])\n",
    "\n",
    "  \n",
    "SEQ_LEN=len(testX[-1])\n",
    "prev_days = deque(maxlen=SEQ_LEN)\n",
    "\n",
    "for i in range(-len(testX[-1]),0,1):\n",
    "  # prev_days.append(scaler.transform(test_actual[i].reshape(-1,1)))\n",
    "  prev_days.append(testX[-1][i])"
   ]
  },
  {
   "cell_type": "code",
   "execution_count": null,
   "id": "0Ji-xZQod81s",
   "metadata": {
    "id": "0Ji-xZQod81s"
   },
   "outputs": [],
   "source": [
    "# ['close_log', 'diff30', 'mom', 'target_log'] len 5 \n",
    "col"
   ]
  },
  {
   "cell_type": "code",
   "execution_count": 45,
   "id": "mZjpKhwh1qI6",
   "metadata": {
    "id": "mZjpKhwh1qI6"
   },
   "outputs": [],
   "source": [
    "y_p_ = []\n",
    "future_len = 30\n",
    "for i in range(future_len):\n",
    "  x__ = np.array(prev_days).reshape(-1,len(np.array(prev_days)[-1])).astype(np.float32)\n",
    "\n",
    "  per = model_from_saved_checkpoint.predict(np.array([x__,x__]))[0].reshape(-1,1)\n",
    "\n",
    "  # Rsi = rsi()\n",
    "  Mom30 = mom30()\n",
    "  Mom60 = mom60()\n",
    "  Mom90 = mom90()\n",
    "  # Diff1_log = diff1_log()\n",
    "  # Diff7_log = diff7_log()\n",
    "  # Diff30_log = diff30_log()\n",
    "  # Diff1 = diff1()\n",
    "  # Diff7 = diff7()\n",
    "  Diff30 = diff30()\n",
    "  Diff60 = diff60()\n",
    "  Diff90 = diff90()\n",
    "\n",
    "  prev_days.append([per.reshape(-1,1), Diff30, Diff60, Diff90, Mom30, Mom60, Mom90]) # , Diff1_log, Diff7_log, Diff30_log, Diff1, Diff7, Rsi,\n",
    "  c_log.append(np.array(per).reshape(-1,1))\n",
    "  y_p_.append(per.reshape(-1,1))\n"
   ]
  },
  {
   "cell_type": "code",
   "execution_count": 46,
   "id": "wd_Ho0eV1_G8",
   "metadata": {
    "id": "wd_Ho0eV1_G8"
   },
   "outputs": [],
   "source": [
    "# log\n",
    "y_p_ = scaler_tlog.inverse_transform(np.array(y_p_).reshape(-1, 1))\n",
    "# manoal\n",
    "# y_p_ = scaler_t.inverse_transform(np.array(y_p_).reshape(-1, 1))"
   ]
  },
  {
   "cell_type": "markdown",
   "id": "zCLDjXpAZq08",
   "metadata": {
    "id": "zCLDjXpAZq08"
   },
   "source": [
    "###### plot future"
   ]
  },
  {
   "cell_type": "code",
   "execution_count": 47,
   "id": "RcXNZ_OckkuZ",
   "metadata": {
    "id": "RcXNZ_OckkuZ"
   },
   "outputs": [],
   "source": [
    "future_actual = scaler_tlog.inverse_transform(futureY.reshape(-1, 1))\n",
    "actual = np.concatenate((train_actual,test_actual,future_actual))\n",
    "predicted_btc_price = np.concatenate((predicted_btc_price_train_data, predicted_btc_price_test_data, np.array(y_p_).reshape(-1,1)), axis=0)"
   ]
  },
  {
   "cell_type": "code",
   "execution_count": 48,
   "id": "68fe8243",
   "metadata": {
    "colab": {
     "base_uri": "https://localhost:8080/",
     "height": 224
    },
    "execution": {
     "iopub.execute_input": "2021-11-09T08:24:50.553036Z",
     "iopub.status.busy": "2021-11-09T08:24:50.548756Z",
     "iopub.status.idle": "2021-11-09T08:24:50.791501Z",
     "shell.execute_reply": "2021-11-09T08:24:50.791940Z",
     "shell.execute_reply.started": "2021-11-09T07:54:24.729679Z"
    },
    "id": "68fe8243",
    "outputId": "39f08e52-c172-417e-ed6a-255500f0e063",
    "papermill": {
     "duration": 0.481274,
     "end_time": "2021-11-09T08:24:50.792100",
     "exception": false,
     "start_time": "2021-11-09T08:24:50.310826",
     "status": "completed"
    },
    "tags": []
   },
   "outputs": [
    {
     "data": {
      "image/png": "[encoded data removed]",
      "text/plain": [
       "<Figure size 1728x504 with 1 Axes>"
      ]
     },
     "metadata": {
      "needs_background": "light"
     },
     "output_type": "display_data"
    }
   ],
   "source": [
    "plt.figure(figsize=(24,7))\n",
    "\n",
    "# log\n",
    "plt.plot(np.exp(actual),'y', marker='.', label='Actual Train')\n",
    "plt.plot(np.exp(predicted_btc_price), 'g', marker='.', label='Predicted Train')\n",
    "# manoal\n",
    "# plt.plot(actual,'y', marker='.', label='Actual Train')\n",
    "# plt.plot(predicted_btc_price, 'g', marker='.', label='Predicted Train')\n",
    "\n",
    "\n",
    "plt.legend()\n",
    "plt.show()"
   ]
  }
 ],
 "metadata": {
  "colab": {
   "collapsed_sections": [
    "H1F56lS_93TS",
    "HfXgO1eM90Iq",
    "33PDMSjNAD4_",
    "t0-jxnhq79Rz",
    "RbESQNif7sFE",
    "VfWzmxzRmWj9",
    "0Ff93g4Ab3Xi"
   ],
   "name": "btc V0.3.ipynb",
   "provenance": []
  },
  "kernelspec": {
   "display_name": "Python 3 (ipykernel)",
   "language": "python",
   "name": "python3"
  },
  "language_info": {
   "codemirror_mode": {
    "name": "ipython",
    "version": 3
   },
   "file_extension": ".py",
   "mimetype": "text/x-python",
   "name": "python",
   "nbconvert_exporter": "python",
   "pygments_lexer": "ipython3",
   "version": "3.9.7"
  },
  "papermill": {
   "default_parameters": {},
   "duration": 155.774638,
   "end_time": "2021-11-09T08:24:56.343239",
   "environment_variables": {},
   "exception": null,
   "input_path": "__notebook__.ipynb",
   "output_path": "__notebook__.ipynb",
   "parameters": {},
   "start_time": "2021-11-09T08:22:20.568601",
   "version": "2.3.3"
  }
 },
 "nbformat": 4,
 "nbformat_minor": 5
}
