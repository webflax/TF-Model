{
 "cells": [
  {
   "cell_type": "markdown",
   "id": "H1F56lS_93TS",
   "metadata": {
    "id": "H1F56lS_93TS"
   },
   "source": [
    "# lib"
   ]
  },
  {
   "cell_type": "code",
   "execution_count": 30,
   "id": "94bd2b0c",
   "metadata": {
    "execution": {
     "iopub.execute_input": "2021-11-09T08:22:29.385315Z",
     "iopub.status.busy": "2021-11-09T08:22:29.384708Z",
     "iopub.status.idle": "2021-11-09T08:22:37.325011Z",
     "shell.execute_reply": "2021-11-09T08:22:37.325524Z",
     "shell.execute_reply.started": "2021-11-09T08:11:07.476205Z"
    },
    "id": "94bd2b0c",
    "papermill": {
     "duration": 7.986193,
     "end_time": "2021-11-09T08:22:37.325835",
     "exception": false,
     "start_time": "2021-11-09T08:22:29.339642",
     "status": "completed"
    },
    "tags": []
   },
   "outputs": [],
   "source": [
    "import pickle\n",
    "import warnings\n",
    "warnings.filterwarnings('ignore')\n",
    "import os\n",
    "import pandas as pd\n",
    "import numpy as np\n",
    "import math\n",
    "import datetime as dt\n",
    "import matplotlib.pyplot as plt\n",
    "\n",
    "from sklearn.metrics import mean_squared_error, mean_absolute_error, explained_variance_score, r2_score \n",
    "from sklearn.metrics import mean_poisson_deviance, mean_gamma_deviance, accuracy_score\n",
    "from sklearn.preprocessing import MinMaxScaler , StandardScaler\n",
    "\n",
    "from itertools import product\n",
    "import statsmodels.api as sm\n",
    "\n",
    "import tensorflow as tf\n",
    "\n",
    "from tensorflow.keras.models import Sequential\n",
    "from tensorflow.keras.layers import Dense, Dropout\n",
    "from tensorflow.keras.layers import LSTM, Activation\n",
    "\n",
    "from itertools import cycle\n",
    "import plotly.offline as py\n",
    "import plotly.graph_objects as go\n",
    "import plotly.express as px\n",
    "from plotly.subplots import make_subplots\n",
    "\n",
    "plt.style.use('seaborn-darkgrid')"
   ]
  },
  {
   "cell_type": "markdown",
   "id": "HfXgO1eM90Iq",
   "metadata": {
    "id": "HfXgO1eM90Iq"
   },
   "source": [
    "# preprocessing data"
   ]
  },
  {
   "cell_type": "code",
   "execution_count": 31,
   "id": "gaAHbz6gBbAe",
   "metadata": {
    "id": "gaAHbz6gBbAe"
   },
   "outputs": [],
   "source": [
    "import pandas_ta as ta"
   ]
  },
  {
   "cell_type": "code",
   "execution_count": 3,
   "id": "xGYj63_oMPEu",
   "metadata": {
    "colab": {
     "base_uri": "https://localhost:8080/"
    },
    "id": "xGYj63_oMPEu",
    "outputId": "7ae5ac4d-1389-40c3-acd4-3f0c84c71ac6"
   },
   "outputs": [],
   "source": [
    "path_to_file = \"btc.csv\""
   ]
  },
  {
   "cell_type": "code",
   "execution_count": 4,
   "id": "300b773c",
   "metadata": {
    "colab": {
     "base_uri": "https://localhost:8080/",
     "height": 206
    },
    "execution": {
     "iopub.execute_input": "2021-11-09T08:22:37.474046Z",
     "iopub.status.busy": "2021-11-09T08:22:37.473162Z",
     "iopub.status.idle": "2021-11-09T08:22:43.282686Z",
     "shell.execute_reply": "2021-11-09T08:22:43.283134Z",
     "shell.execute_reply.started": "2021-11-09T07:52:07.794604Z"
    },
    "id": "300b773c",
    "outputId": "4829e8f0-e8c8-4a23-e490-22902d79535b",
    "papermill": {
     "duration": 5.849088,
     "end_time": "2021-11-09T08:22:43.283293",
     "exception": false,
     "start_time": "2021-11-09T08:22:37.434205",
     "status": "completed"
    },
    "tags": []
   },
   "outputs": [
    {
     "data": {
      "text/html": [
       "<div>\n",
       "<style scoped>\n",
       "    .dataframe tbody tr th:only-of-type {\n",
       "        vertical-align: middle;\n",
       "    }\n",
       "\n",
       "    .dataframe tbody tr th {\n",
       "        vertical-align: top;\n",
       "    }\n",
       "\n",
       "    .dataframe thead th {\n",
       "        text-align: right;\n",
       "    }\n",
       "</style>\n",
       "<table border=\"1\" class=\"dataframe\">\n",
       "  <thead>\n",
       "    <tr style=\"text-align: right;\">\n",
       "      <th></th>\n",
       "      <th>open</th>\n",
       "      <th>high</th>\n",
       "      <th>low</th>\n",
       "      <th>close</th>\n",
       "      <th>Volume BTC</th>\n",
       "    </tr>\n",
       "    <tr>\n",
       "      <th>date</th>\n",
       "      <th></th>\n",
       "      <th></th>\n",
       "      <th></th>\n",
       "      <th></th>\n",
       "      <th></th>\n",
       "    </tr>\n",
       "  </thead>\n",
       "  <tbody>\n",
       "    <tr>\n",
       "      <th>2014-11-28</th>\n",
       "      <td>363.59</td>\n",
       "      <td>381.34</td>\n",
       "      <td>360.57</td>\n",
       "      <td>376.28</td>\n",
       "      <td>3220878.18</td>\n",
       "    </tr>\n",
       "    <tr>\n",
       "      <th>2014-11-29</th>\n",
       "      <td>376.42</td>\n",
       "      <td>386.60</td>\n",
       "      <td>372.25</td>\n",
       "      <td>376.72</td>\n",
       "      <td>2746157.05</td>\n",
       "    </tr>\n",
       "    <tr>\n",
       "      <th>2014-11-30</th>\n",
       "      <td>376.57</td>\n",
       "      <td>381.99</td>\n",
       "      <td>373.32</td>\n",
       "      <td>373.34</td>\n",
       "      <td>1145566.61</td>\n",
       "    </tr>\n",
       "    <tr>\n",
       "      <th>2014-12-01</th>\n",
       "      <td>376.40</td>\n",
       "      <td>382.31</td>\n",
       "      <td>373.03</td>\n",
       "      <td>378.39</td>\n",
       "      <td>2520662.37</td>\n",
       "    </tr>\n",
       "    <tr>\n",
       "      <th>2014-12-02</th>\n",
       "      <td>378.39</td>\n",
       "      <td>382.86</td>\n",
       "      <td>375.23</td>\n",
       "      <td>379.25</td>\n",
       "      <td>2593576.46</td>\n",
       "    </tr>\n",
       "  </tbody>\n",
       "</table>\n",
       "</div>"
      ],
      "text/plain": [
       "              open    high     low   close  Volume BTC\n",
       "date                                                  \n",
       "2014-11-28  363.59  381.34  360.57  376.28  3220878.18\n",
       "2014-11-29  376.42  386.60  372.25  376.72  2746157.05\n",
       "2014-11-30  376.57  381.99  373.32  373.34  1145566.61\n",
       "2014-12-01  376.40  382.31  373.03  378.39  2520662.37\n",
       "2014-12-02  378.39  382.86  375.23  379.25  2593576.46"
      ]
     },
     "execution_count": 4,
     "metadata": {},
     "output_type": "execute_result"
    }
   ],
   "source": [
    "btc = pd.read_csv(path_to_file, skiprows=1)\n",
    "btc = btc[::-1]\n",
    "# btc = btc[2100:]\n",
    "btc = btc.astype({'date': 'datetime64'}).set_index('date')\n",
    "btc = btc.drop(['unix', 'symbol','Volume USD'], axis=1)\n",
    "\n",
    "btc.head()"
   ]
  },
  {
   "cell_type": "code",
   "execution_count": 5,
   "id": "369485c9",
   "metadata": {
    "colab": {
     "base_uri": "https://localhost:8080/",
     "height": 444
    },
    "execution": {
     "iopub.execute_input": "2021-11-09T08:22:45.855884Z",
     "iopub.status.busy": "2021-11-09T08:22:45.855251Z",
     "iopub.status.idle": "2021-11-09T08:23:07.129023Z",
     "shell.execute_reply": "2021-11-09T08:23:07.129522Z",
     "shell.execute_reply.started": "2021-11-09T07:52:15.654405Z"
    },
    "id": "369485c9",
    "outputId": "b5eeb2e9-3df7-4bc0-9c8b-ea85bb8dff72",
    "papermill": {
     "duration": 21.316539,
     "end_time": "2021-11-09T08:23:07.129743",
     "exception": false,
     "start_time": "2021-11-09T08:22:45.813204",
     "status": "completed"
    },
    "tags": []
   },
   "outputs": [
    {
     "data": {
      "text/plain": [
       "<AxesSubplot:title={'center':'Bitcoin Weighted Price'}, xlabel='date'>"
      ]
     },
     "execution_count": 5,
     "metadata": {},
     "output_type": "execute_result"
    },
    {
     "data": {
      "image/png": "[encoded data removed]",
      "text/plain": [
       "<Figure size 1728x504 with 1 Axes>"
      ]
     },
     "metadata": {},
     "output_type": "display_data"
    }
   ],
   "source": [
    "# btc_input_df_datetype.set_index(\"time\").close.plot(figsize=(24,7), title=\"Bitcoin Weighted Price\")\n",
    "btc.close.plot(figsize=(24,7), title=\"Bitcoin Weighted Price\")"
   ]
  },
  {
   "cell_type": "code",
   "execution_count": 6,
   "id": "uXX2Q2TSwnve",
   "metadata": {
    "id": "uXX2Q2TSwnve"
   },
   "outputs": [],
   "source": [
    "\n",
    "btc['close_log'] =  np.log(btc['close'])\n",
    "btc['diff1_log'] = btc['close_log'].diff()\n",
    "btc['diff7_log'] = btc['close_log'].diff(7)\n",
    "btc['diff30_log'] = btc['close_log'].diff(30)\n",
    "btc['diff1'] = btc['close'].diff()\n",
    "btc['diff7'] = btc['close'].diff(7)\n",
    "btc['diff30'] = btc['close'].diff(30)\n",
    "# btc['reverse_diff'] = btc['close'].shift(1) + btc['diff']\n",
    "btc['rsi'] = ta.rsi(btc['close'],length=14)\n",
    "btc['mom'] = ta.mom(btc['close'],length=10)\n",
    "btc['target_log'] = btc['close_log'].shift(-1)\n",
    "btc['target'] = btc['close'].shift(-1)\n",
    "btc = btc.dropna()"
   ]
  },
  {
   "cell_type": "code",
   "execution_count": 7,
   "id": "zxoHysCJaoGz",
   "metadata": {
    "colab": {
     "base_uri": "https://localhost:8080/",
     "height": 237
    },
    "id": "zxoHysCJaoGz",
    "outputId": "742cd6ae-3def-4bc4-c742-13375cf0f620"
   },
   "outputs": [
    {
     "data": {
      "text/html": [
       "<div>\n",
       "<style scoped>\n",
       "    .dataframe tbody tr th:only-of-type {\n",
       "        vertical-align: middle;\n",
       "    }\n",
       "\n",
       "    .dataframe tbody tr th {\n",
       "        vertical-align: top;\n",
       "    }\n",
       "\n",
       "    .dataframe thead th {\n",
       "        text-align: right;\n",
       "    }\n",
       "</style>\n",
       "<table border=\"1\" class=\"dataframe\">\n",
       "  <thead>\n",
       "    <tr style=\"text-align: right;\">\n",
       "      <th></th>\n",
       "      <th>open</th>\n",
       "      <th>high</th>\n",
       "      <th>low</th>\n",
       "      <th>close</th>\n",
       "      <th>Volume BTC</th>\n",
       "      <th>close_log</th>\n",
       "      <th>diff1_log</th>\n",
       "      <th>diff7_log</th>\n",
       "      <th>diff30_log</th>\n",
       "      <th>diff1</th>\n",
       "      <th>diff7</th>\n",
       "      <th>diff30</th>\n",
       "      <th>rsi</th>\n",
       "      <th>mom</th>\n",
       "      <th>target_log</th>\n",
       "      <th>target</th>\n",
       "    </tr>\n",
       "    <tr>\n",
       "      <th>date</th>\n",
       "      <th></th>\n",
       "      <th></th>\n",
       "      <th></th>\n",
       "      <th></th>\n",
       "      <th></th>\n",
       "      <th></th>\n",
       "      <th></th>\n",
       "      <th></th>\n",
       "      <th></th>\n",
       "      <th></th>\n",
       "      <th></th>\n",
       "      <th></th>\n",
       "      <th></th>\n",
       "      <th></th>\n",
       "      <th></th>\n",
       "      <th></th>\n",
       "    </tr>\n",
       "  </thead>\n",
       "  <tbody>\n",
       "    <tr>\n",
       "      <th>2022-05-09</th>\n",
       "      <td>34051.20</td>\n",
       "      <td>34224.35</td>\n",
       "      <td>30015.00</td>\n",
       "      <td>30082.00</td>\n",
       "      <td>7631.121662</td>\n",
       "      <td>10.311682</td>\n",
       "      <td>-0.123183</td>\n",
       "      <td>-0.247277</td>\n",
       "      <td>-0.351861</td>\n",
       "      <td>-3943.50</td>\n",
       "      <td>-8439.01</td>\n",
       "      <td>-12685.89</td>\n",
       "      <td>24.506606</td>\n",
       "      <td>-8511.42</td>\n",
       "      <td>10.341742</td>\n",
       "      <td>30999.97</td>\n",
       "    </tr>\n",
       "    <tr>\n",
       "      <th>2022-05-10</th>\n",
       "      <td>30066.48</td>\n",
       "      <td>32650.00</td>\n",
       "      <td>29731.03</td>\n",
       "      <td>30999.97</td>\n",
       "      <td>7402.302313</td>\n",
       "      <td>10.341742</td>\n",
       "      <td>0.030059</td>\n",
       "      <td>-0.196468</td>\n",
       "      <td>-0.306865</td>\n",
       "      <td>917.97</td>\n",
       "      <td>-6729.98</td>\n",
       "      <td>-11133.88</td>\n",
       "      <td>28.604810</td>\n",
       "      <td>-6639.83</td>\n",
       "      <td>10.275051</td>\n",
       "      <td>29000.00</td>\n",
       "    </tr>\n",
       "    <tr>\n",
       "      <th>2022-05-11</th>\n",
       "      <td>31002.27</td>\n",
       "      <td>32148.15</td>\n",
       "      <td>27757.77</td>\n",
       "      <td>29000.00</td>\n",
       "      <td>11180.848836</td>\n",
       "      <td>10.275051</td>\n",
       "      <td>-0.066690</td>\n",
       "      <td>-0.313683</td>\n",
       "      <td>-0.309634</td>\n",
       "      <td>-1999.97</td>\n",
       "      <td>-10685.23</td>\n",
       "      <td>-10524.86</td>\n",
       "      <td>25.373064</td>\n",
       "      <td>-9488.34</td>\n",
       "      <td>10.271465</td>\n",
       "      <td>28896.19</td>\n",
       "    </tr>\n",
       "    <tr>\n",
       "      <th>2022-05-12</th>\n",
       "      <td>28999.99</td>\n",
       "      <td>30090.70</td>\n",
       "      <td>25401.05</td>\n",
       "      <td>28896.19</td>\n",
       "      <td>16578.810599</td>\n",
       "      <td>10.271465</td>\n",
       "      <td>-0.003586</td>\n",
       "      <td>-0.234532</td>\n",
       "      <td>-0.327603</td>\n",
       "      <td>-103.81</td>\n",
       "      <td>-7637.74</td>\n",
       "      <td>-11201.27</td>\n",
       "      <td>25.213830</td>\n",
       "      <td>-9624.82</td>\n",
       "      <td>10.283252</td>\n",
       "      <td>29238.81</td>\n",
       "    </tr>\n",
       "    <tr>\n",
       "      <th>2022-05-13</th>\n",
       "      <td>28932.69</td>\n",
       "      <td>30974.60</td>\n",
       "      <td>28686.37</td>\n",
       "      <td>29238.81</td>\n",
       "      <td>6010.273639</td>\n",
       "      <td>10.283252</td>\n",
       "      <td>0.011787</td>\n",
       "      <td>-0.208556</td>\n",
       "      <td>-0.341672</td>\n",
       "      <td>342.62</td>\n",
       "      <td>-6780.41</td>\n",
       "      <td>-11908.93</td>\n",
       "      <td>26.845615</td>\n",
       "      <td>-8491.14</td>\n",
       "      <td>10.288993</td>\n",
       "      <td>29407.14</td>\n",
       "    </tr>\n",
       "  </tbody>\n",
       "</table>\n",
       "</div>"
      ],
      "text/plain": [
       "                open      high       low     close    Volume BTC  close_log  \\\n",
       "date                                                                          \n",
       "2022-05-09  34051.20  34224.35  30015.00  30082.00   7631.121662  10.311682   \n",
       "2022-05-10  30066.48  32650.00  29731.03  30999.97   7402.302313  10.341742   \n",
       "2022-05-11  31002.27  32148.15  27757.77  29000.00  11180.848836  10.275051   \n",
       "2022-05-12  28999.99  30090.70  25401.05  28896.19  16578.810599  10.271465   \n",
       "2022-05-13  28932.69  30974.60  28686.37  29238.81   6010.273639  10.283252   \n",
       "\n",
       "            diff1_log  diff7_log  diff30_log    diff1     diff7    diff30  \\\n",
       "date                                                                        \n",
       "2022-05-09  -0.123183  -0.247277   -0.351861 -3943.50  -8439.01 -12685.89   \n",
       "2022-05-10   0.030059  -0.196468   -0.306865   917.97  -6729.98 -11133.88   \n",
       "2022-05-11  -0.066690  -0.313683   -0.309634 -1999.97 -10685.23 -10524.86   \n",
       "2022-05-12  -0.003586  -0.234532   -0.327603  -103.81  -7637.74 -11201.27   \n",
       "2022-05-13   0.011787  -0.208556   -0.341672   342.62  -6780.41 -11908.93   \n",
       "\n",
       "                  rsi      mom  target_log    target  \n",
       "date                                                  \n",
       "2022-05-09  24.506606 -8511.42   10.341742  30999.97  \n",
       "2022-05-10  28.604810 -6639.83   10.275051  29000.00  \n",
       "2022-05-11  25.373064 -9488.34   10.271465  28896.19  \n",
       "2022-05-12  25.213830 -9624.82   10.283252  29238.81  \n",
       "2022-05-13  26.845615 -8491.14   10.288993  29407.14  "
      ]
     },
     "execution_count": 7,
     "metadata": {},
     "output_type": "execute_result"
    }
   ],
   "source": [
    "btc.tail()"
   ]
  },
  {
   "cell_type": "code",
   "execution_count": 8,
   "id": "B-SsmXeHLbYG",
   "metadata": {
    "id": "B-SsmXeHLbYG"
   },
   "outputs": [],
   "source": [
    "# scaler = MinMaxScaler(feature_range=(0, 1))\n",
    "# scaler_t = MinMaxScaler(feature_range=(0, 1))\n",
    "# scaler_tlog = MinMaxScaler(feature_range=(0, 1))\n",
    "# # # StandardScaler\n",
    "# # scaler = StandardScaler()\n",
    "# # scaler_t = StandardScaler()\n",
    "# # scaler_tlog = StandardScaler()\n",
    "\n",
    "\n",
    "# btc.diff1_log = scaler.fit_transform(btc.diff1_log.values.reshape(-1,1))\n",
    "# btc.diff7_log = scaler.fit_transform(btc.diff7_log.values.reshape(-1,1))\n",
    "# btc.diff30_log = scaler.fit_transform(btc.diff30_log.values.reshape(-1,1))\n",
    "# btc.diff1 = scaler.fit_transform(btc.diff1.values.reshape(-1,1))\n",
    "# btc.diff7 = scaler.fit_transform(btc.diff7.values.reshape(-1,1))\n",
    "# btc.diff30 = scaler.fit_transform(btc.diff30.values.reshape(-1,1))\n",
    "# btc.rsi = scaler.fit_transform(btc.rsi.values.reshape(-1,1))\n",
    "# btc.mom = scaler.fit_transform(btc.mom.values.reshape(-1,1))\n",
    "\n",
    "# btc.close = scaler_t.fit_transform(btc.close.values.reshape(-1,1))\n",
    "# btc.target = scaler_t.transform(btc.target.values.reshape(-1,1))\n",
    "\n",
    "# btc.close_log = scaler_tlog.fit_transform(btc.close_log.values.reshape(-1,1))\n",
    "# btc.target_log = scaler_tlog.transform(btc.target_log.values.reshape(-1,1))\n"
   ]
  },
  {
   "cell_type": "code",
   "execution_count": 8,
   "id": "5pihpUZtif5G",
   "metadata": {
    "id": "5pihpUZtif5G"
   },
   "outputs": [],
   "source": [
    "prediction_days = 60\n",
    "\n",
    "df_train_= btc[:][:len(btc)-prediction_days]#values.reshape(-1,1)\n",
    "\n",
    "df_test_= btc[:][len(btc)-prediction_days:]#.values.reshape(-1,1)"
   ]
  },
  {
   "cell_type": "markdown",
   "id": "pgHmOgKxDYAo",
   "metadata": {
    "id": "pgHmOgKxDYAo"
   },
   "source": [
    "# creat data lstm"
   ]
  },
  {
   "cell_type": "code",
   "execution_count": 9,
   "id": "yoYvHWVXFNJf",
   "metadata": {
    "colab": {
     "base_uri": "https://localhost:8080/"
    },
    "id": "yoYvHWVXFNJf",
    "outputId": "a8d840c7-5d51-4f0a-99c7-fbc6f54d0ff4"
   },
   "outputs": [
    {
     "data": {
      "text/plain": [
       "Index(['open', 'high', 'low', 'close', 'Volume BTC', 'close_log', 'diff1_log',\n",
       "       'diff7_log', 'diff30_log', 'diff1', 'diff7', 'diff30', 'rsi', 'mom',\n",
       "       'target_log', 'target'],\n",
       "      dtype='object')"
      ]
     },
     "execution_count": 9,
     "metadata": {},
     "output_type": "execute_result"
    }
   ],
   "source": [
    "df_train_.columns"
   ]
  },
  {
   "cell_type": "code",
   "execution_count": 10,
   "id": "vA-pnvD6EXyv",
   "metadata": {
    "colab": {
     "base_uri": "https://localhost:8080/",
     "height": 143
    },
    "id": "vA-pnvD6EXyv",
    "outputId": "68dc6b00-f9c3-40d0-8b0e-7ead5d19bb06"
   },
   "outputs": [
    {
     "data": {
      "text/html": [
       "<div>\n",
       "<style scoped>\n",
       "    .dataframe tbody tr th:only-of-type {\n",
       "        vertical-align: middle;\n",
       "    }\n",
       "\n",
       "    .dataframe tbody tr th {\n",
       "        vertical-align: top;\n",
       "    }\n",
       "\n",
       "    .dataframe thead th {\n",
       "        text-align: right;\n",
       "    }\n",
       "</style>\n",
       "<table border=\"1\" class=\"dataframe\">\n",
       "  <thead>\n",
       "    <tr style=\"text-align: right;\">\n",
       "      <th></th>\n",
       "      <th>open</th>\n",
       "      <th>high</th>\n",
       "      <th>low</th>\n",
       "      <th>close</th>\n",
       "      <th>Volume BTC</th>\n",
       "      <th>target</th>\n",
       "    </tr>\n",
       "    <tr>\n",
       "      <th>date</th>\n",
       "      <th></th>\n",
       "      <th></th>\n",
       "      <th></th>\n",
       "      <th></th>\n",
       "      <th></th>\n",
       "      <th></th>\n",
       "    </tr>\n",
       "  </thead>\n",
       "  <tbody>\n",
       "    <tr>\n",
       "      <th>2022-03-15</th>\n",
       "      <td>39688.55</td>\n",
       "      <td>39896.13</td>\n",
       "      <td>38142.35</td>\n",
       "      <td>39302.70</td>\n",
       "      <td>1638.684030</td>\n",
       "      <td>41142.76</td>\n",
       "    </tr>\n",
       "    <tr>\n",
       "      <th>2022-03-16</th>\n",
       "      <td>39302.80</td>\n",
       "      <td>41693.97</td>\n",
       "      <td>38865.67</td>\n",
       "      <td>41142.76</td>\n",
       "      <td>5987.103889</td>\n",
       "      <td>40963.22</td>\n",
       "    </tr>\n",
       "  </tbody>\n",
       "</table>\n",
       "</div>"
      ],
      "text/plain": [
       "                open      high       low     close   Volume BTC    target\n",
       "date                                                                     \n",
       "2022-03-15  39688.55  39896.13  38142.35  39302.70  1638.684030  41142.76\n",
       "2022-03-16  39302.80  41693.97  38865.67  41142.76  5987.103889  40963.22"
      ]
     },
     "execution_count": 10,
     "metadata": {},
     "output_type": "execute_result"
    }
   ],
   "source": [
    "df_train = df_train_[:][['open', 'high', 'low', 'close', 'Volume BTC', 'target']]\n",
    "df_test = df_test_[:][['open', 'high', 'low', 'close', 'Volume BTC', 'target']]\n",
    "df_test.head(2)"
   ]
  },
  {
   "cell_type": "code",
   "execution_count": 11,
   "id": "f3e1e5fa",
   "metadata": {
    "colab": {
     "base_uri": "https://localhost:8080/"
    },
    "execution": {
     "iopub.execute_input": "2021-11-09T08:24:00.120271Z",
     "iopub.status.busy": "2021-11-09T08:24:00.119252Z",
     "iopub.status.idle": "2021-11-09T08:24:00.134344Z",
     "shell.execute_reply": "2021-11-09T08:24:00.133732Z",
     "shell.execute_reply.started": "2021-11-09T07:53:28.462429Z"
    },
    "id": "f3e1e5fa",
    "outputId": "1033dc2d-eeff-4e21-a05b-bfebe1f15313",
    "papermill": {
     "duration": 0.066879,
     "end_time": "2021-11-09T08:24:00.134486",
     "exception": false,
     "start_time": "2021-11-09T08:24:00.067607",
     "status": "completed"
    },
    "tags": []
   },
   "outputs": [
    {
     "name": "stdout",
     "output_type": "stream",
     "text": [
      "trainX:  (530, 5, 5)\n",
      "trainY:  (530,)\n",
      "testY:  (56, 5, 5)\n",
      "testY (56,)\n"
     ]
    }
   ],
   "source": [
    "# many to one\n",
    "\n",
    "look_back_ = 5\n",
    "\n",
    "from collections import deque\n",
    "def dataset_generator_lstm(dataset, look_back=look_back_):\n",
    "    sequential_data = [] \n",
    "    prev_days = deque(maxlen=look_back)\n",
    "    for i in dataset.values:\n",
    "        prev_days.append([n for n in i[:-1]])\n",
    "        if len(prev_days) == look_back:  \n",
    "            target = i[-1] / prev_days[0][3]\n",
    "            if i[-1] > prev_days[-1][3]:\n",
    "                target = 1\n",
    "            else :\n",
    "                target = 0\n",
    "            sequential_data.append([np.array(prev_days), target])\n",
    "    dataX=[]\n",
    "    dataY=[]\n",
    "    for seq, target in sequential_data: \n",
    "        dataX.append(seq) \n",
    "        dataY.append(target) \n",
    "    return np.array(dataX), np.array(dataY)\n",
    "\n",
    "trainX, trainY = dataset_generator_lstm(df_train)\n",
    "trainX, trainY = trainX[2100:], trainY[2100:]\n",
    "testX, testY = dataset_generator_lstm(df_test)\n",
    "\n",
    "print(\"trainX: \", trainX.shape)\n",
    "print(\"trainY: \", trainY.shape)\n",
    "print(\"testY: \", testX.shape)\n",
    "print(\"testY\", testY.shape)"
   ]
  },
  {
   "cell_type": "markdown",
   "id": "lLbwlWzN8P6-",
   "metadata": {
    "id": "lLbwlWzN8P6-"
   },
   "source": [
    "# train"
   ]
  },
  {
   "cell_type": "code",
   "execution_count": 25,
   "id": "0c247041",
   "metadata": {
    "colab": {
     "base_uri": "https://localhost:8080/"
    },
    "execution": {
     "iopub.execute_input": "2021-11-09T08:24:01.286885Z",
     "iopub.status.busy": "2021-11-09T08:24:01.285918Z",
     "iopub.status.idle": "2021-11-09T08:24:01.746820Z",
     "shell.execute_reply": "2021-11-09T08:24:01.747339Z",
     "shell.execute_reply.started": "2021-11-09T07:53:28.553350Z"
    },
    "id": "0c247041",
    "outputId": "394e1cda-e0d1-434d-c706-63931f58d66c",
    "papermill": {
     "duration": 0.51592,
     "end_time": "2021-11-09T08:24:01.747513",
     "exception": false,
     "start_time": "2021-11-09T08:24:01.231593",
     "status": "completed"
    },
    "tags": []
   },
   "outputs": [
    {
     "name": "stdout",
     "output_type": "stream",
     "text": [
      "Model: \"sequential_5\"\n",
      "_________________________________________________________________\n",
      " Layer (type)                Output Shape              Param #   \n",
      "=================================================================\n",
      " lstm_8 (LSTM)               (None, 5, 256)            268288    \n",
      "                                                                 \n",
      " dropout_9 (Dropout)         (None, 5, 256)            0         \n",
      "                                                                 \n",
      " lstm_9 (LSTM)               (None, 128)               197120    \n",
      "                                                                 \n",
      " dropout_10 (Dropout)        (None, 128)               0         \n",
      "                                                                 \n",
      " dense_5 (Dense)             (None, 64)                8256      \n",
      "                                                                 \n",
      " activation_2 (Activation)   (None, 64)                0         \n",
      "                                                                 \n",
      " dropout_11 (Dropout)        (None, 64)                0         \n",
      "                                                                 \n",
      " dense_6 (Dense)             (None, 1)                 65        \n",
      "                                                                 \n",
      " activation_3 (Activation)   (None, 1)                 0         \n",
      "                                                                 \n",
      "=================================================================\n",
      "Total params: 473,729\n",
      "Trainable params: 473,729\n",
      "Non-trainable params: 0\n",
      "_________________________________________________________________\n"
     ]
    }
   ],
   "source": [
    "model = Sequential()\n",
    "model.add(LSTM(256, return_sequences=True, input_shape=(trainX.shape[1], trainX.shape[2])))\n",
    "model.add(Dropout(0.5))\n",
    "model.add(LSTM(128))\n",
    "model.add(Dropout(0.5))\n",
    "model.add(Dense(units=64))\n",
    "model.add(Activation('relu'))\n",
    "model.add(Dropout(0.5))\n",
    "model.add(Dense(units=1))\n",
    "model.add(Activation('sigmoid'))\n",
    "\n",
    "model.summary()"
   ]
  },
  {
   "cell_type": "code",
   "execution_count": 26,
   "id": "e51ba6e0",
   "metadata": {},
   "outputs": [],
   "source": [
    "model.compile(loss='binary_crossentropy', optimizer='adam', metrics=['accuracy'])"
   ]
  },
  {
   "cell_type": "code",
   "execution_count": 27,
   "id": "26563652",
   "metadata": {},
   "outputs": [],
   "source": [
    "from tensorflow.keras.callbacks import ModelCheckpoint, EarlyStopping\n",
    "\n",
    "checkpoint_path = 'my_best_model.hdf5'\n",
    "\n",
    "checkpoint = ModelCheckpoint(filepath=checkpoint_path, \n",
    "                             monitor='loss',\n",
    "                             verbose=1, \n",
    "                             save_best_only=True,\n",
    "                             mode='min')\n",
    "\n",
    "\n",
    "earlystopping = EarlyStopping(monitor='loss', patience=30, restore_best_weights=True)\n",
    "\n",
    "callbacks = [checkpoint, earlystopping]"
   ]
  },
  {
   "cell_type": "code",
   "execution_count": 29,
   "id": "737a2ede",
   "metadata": {
    "colab": {
     "base_uri": "https://localhost:8080/"
    },
    "execution": {
     "iopub.execute_input": "2021-11-09T08:24:01.859939Z",
     "iopub.status.busy": "2021-11-09T08:24:01.859233Z",
     "iopub.status.idle": "2021-11-09T08:24:34.491023Z",
     "shell.execute_reply": "2021-11-09T08:24:34.491550Z",
     "shell.execute_reply.started": "2021-11-09T07:53:29.074954Z"
    },
    "id": "737a2ede",
    "outputId": "d6da5595-d5d7-41e3-f40f-e8fea0ae7fbf",
    "papermill": {
     "duration": 32.69245,
     "end_time": "2021-11-09T08:24:34.491782",
     "exception": false,
     "start_time": "2021-11-09T08:24:01.799332",
     "status": "completed"
    },
    "tags": []
   },
   "outputs": [
    {
     "name": "stdout",
     "output_type": "stream",
     "text": [
      "Epoch 1/300\n",
      "3/5 [=================>............] - ETA: 0s - loss: 0.7070 - accuracy: 0.4974\n",
      "Epoch 1: loss did not improve from 0.68705\n",
      "5/5 [==============================] - 0s 33ms/step - loss: 0.7046 - accuracy: 0.5038 - val_loss: 0.6920 - val_accuracy: 0.5179\n",
      "Epoch 2/300\n",
      "3/5 [=================>............] - ETA: 0s - loss: 0.6967 - accuracy: 0.5417\n",
      "Epoch 2: loss did not improve from 0.68705\n",
      "5/5 [==============================] - 0s 26ms/step - loss: 0.6989 - accuracy: 0.5170 - val_loss: 0.6919 - val_accuracy: 0.5000\n",
      "Epoch 3/300\n",
      "3/5 [=================>............] - ETA: 0s - loss: 0.6924 - accuracy: 0.5260\n",
      "Epoch 3: loss did not improve from 0.68705\n",
      "5/5 [==============================] - 0s 26ms/step - loss: 0.6944 - accuracy: 0.5264 - val_loss: 0.6922 - val_accuracy: 0.5000\n",
      "Epoch 4/300\n",
      "3/5 [=================>............] - ETA: 0s - loss: 0.6940 - accuracy: 0.5182\n",
      "Epoch 4: loss did not improve from 0.68705\n",
      "5/5 [==============================] - 0s 26ms/step - loss: 0.6978 - accuracy: 0.5151 - val_loss: 0.6926 - val_accuracy: 0.5357\n",
      "Epoch 5/300\n",
      "4/5 [=======================>......] - ETA: 0s - loss: 0.7017 - accuracy: 0.5020\n",
      "Epoch 5: loss did not improve from 0.68705\n",
      "5/5 [==============================] - 0s 25ms/step - loss: 0.7000 - accuracy: 0.5075 - val_loss: 0.6923 - val_accuracy: 0.5357\n",
      "Epoch 6/300\n",
      "4/5 [=======================>......] - ETA: 0s - loss: 0.6899 - accuracy: 0.5469\n",
      "Epoch 6: loss did not improve from 0.68705\n",
      "5/5 [==============================] - 0s 25ms/step - loss: 0.6872 - accuracy: 0.5547 - val_loss: 0.6947 - val_accuracy: 0.5000\n",
      "Epoch 7/300\n",
      "4/5 [=======================>......] - ETA: 0s - loss: 0.7105 - accuracy: 0.4766\n",
      "Epoch 7: loss did not improve from 0.68705\n",
      "5/5 [==============================] - 0s 24ms/step - loss: 0.7121 - accuracy: 0.4736 - val_loss: 0.6944 - val_accuracy: 0.5000\n",
      "Epoch 8/300\n",
      "4/5 [=======================>......] - ETA: 0s - loss: 0.7141 - accuracy: 0.4785\n",
      "Epoch 8: loss did not improve from 0.68705\n",
      "5/5 [==============================] - 0s 26ms/step - loss: 0.7141 - accuracy: 0.4792 - val_loss: 0.6928 - val_accuracy: 0.5357\n",
      "Epoch 9/300\n",
      "4/5 [=======================>......] - ETA: 0s - loss: 0.7033 - accuracy: 0.4941\n",
      "Epoch 9: loss did not improve from 0.68705\n",
      "5/5 [==============================] - 0s 23ms/step - loss: 0.7039 - accuracy: 0.4906 - val_loss: 0.6925 - val_accuracy: 0.5357\n",
      "Epoch 10/300\n",
      "4/5 [=======================>......] - ETA: 0s - loss: 0.7019 - accuracy: 0.5273\n",
      "Epoch 10: loss did not improve from 0.68705\n",
      "5/5 [==============================] - 0s 25ms/step - loss: 0.7011 - accuracy: 0.5321 - val_loss: 0.6928 - val_accuracy: 0.5357\n",
      "Epoch 11/300\n",
      "4/5 [=======================>......] - ETA: 0s - loss: 0.6985 - accuracy: 0.5352\n",
      "Epoch 11: loss did not improve from 0.68705\n",
      "5/5 [==============================] - 0s 24ms/step - loss: 0.6964 - accuracy: 0.5396 - val_loss: 0.6927 - val_accuracy: 0.5357\n",
      "Epoch 12/300\n",
      "4/5 [=======================>......] - ETA: 0s - loss: 0.6927 - accuracy: 0.5430\n",
      "Epoch 12: loss did not improve from 0.68705\n",
      "5/5 [==============================] - 0s 22ms/step - loss: 0.6943 - accuracy: 0.5415 - val_loss: 0.6931 - val_accuracy: 0.5000\n",
      "Epoch 13/300\n",
      "4/5 [=======================>......] - ETA: 0s - loss: 0.6920 - accuracy: 0.5293\n",
      "Epoch 13: loss did not improve from 0.68705\n",
      "5/5 [==============================] - 0s 23ms/step - loss: 0.6919 - accuracy: 0.5321 - val_loss: 0.6926 - val_accuracy: 0.5357\n",
      "Epoch 14/300\n",
      "4/5 [=======================>......] - ETA: 0s - loss: 0.7064 - accuracy: 0.5059\n",
      "Epoch 14: loss did not improve from 0.68705\n",
      "5/5 [==============================] - 0s 21ms/step - loss: 0.7045 - accuracy: 0.5094 - val_loss: 0.6922 - val_accuracy: 0.5357\n",
      "Epoch 15/300\n",
      "4/5 [=======================>......] - ETA: 0s - loss: 0.7094 - accuracy: 0.4805\n",
      "Epoch 15: loss did not improve from 0.68705\n",
      "5/5 [==============================] - 0s 21ms/step - loss: 0.7100 - accuracy: 0.4774 - val_loss: 0.6919 - val_accuracy: 0.5000\n",
      "Epoch 16/300\n",
      "3/5 [=================>............] - ETA: 0s - loss: 0.6928 - accuracy: 0.5078\n",
      "Epoch 16: loss did not improve from 0.68705\n",
      "5/5 [==============================] - 0s 27ms/step - loss: 0.6933 - accuracy: 0.5094 - val_loss: 0.6922 - val_accuracy: 0.5000\n",
      "Epoch 17/300\n",
      "4/5 [=======================>......] - ETA: 0s - loss: 0.6973 - accuracy: 0.5176\n",
      "Epoch 17: loss did not improve from 0.68705\n",
      "5/5 [==============================] - 0s 24ms/step - loss: 0.6976 - accuracy: 0.5170 - val_loss: 0.6920 - val_accuracy: 0.5179\n",
      "Epoch 18/300\n",
      "4/5 [=======================>......] - ETA: 0s - loss: 0.6900 - accuracy: 0.5332\n",
      "Epoch 18: loss did not improve from 0.68705\n",
      "5/5 [==============================] - 0s 25ms/step - loss: 0.6897 - accuracy: 0.5340 - val_loss: 0.6924 - val_accuracy: 0.5357\n",
      "Epoch 19/300\n",
      "4/5 [=======================>......] - ETA: 0s - loss: 0.6928 - accuracy: 0.5430\n",
      "Epoch 19: loss did not improve from 0.68705\n",
      "5/5 [==============================] - 0s 24ms/step - loss: 0.6930 - accuracy: 0.5396 - val_loss: 0.6931 - val_accuracy: 0.5000\n",
      "Epoch 20/300\n",
      "4/5 [=======================>......] - ETA: 0s - loss: 0.6875 - accuracy: 0.5488\n",
      "Epoch 20: loss did not improve from 0.68705\n",
      "5/5 [==============================] - 0s 27ms/step - loss: 0.6875 - accuracy: 0.5491 - val_loss: 0.6930 - val_accuracy: 0.5000\n",
      "Epoch 21/300\n",
      "5/5 [==============================] - ETA: 0s - loss: 0.6974 - accuracy: 0.5132\n",
      "Epoch 21: loss did not improve from 0.68705\n",
      "5/5 [==============================] - 0s 50ms/step - loss: 0.6974 - accuracy: 0.5132 - val_loss: 0.6928 - val_accuracy: 0.5179\n",
      "Epoch 22/300\n",
      "4/5 [=======================>......] - ETA: 0s - loss: 0.6946 - accuracy: 0.5000\n",
      "Epoch 22: loss did not improve from 0.68705\n",
      "5/5 [==============================] - 0s 30ms/step - loss: 0.6948 - accuracy: 0.4981 - val_loss: 0.6927 - val_accuracy: 0.5179\n",
      "Epoch 23/300\n",
      "4/5 [=======================>......] - ETA: 0s - loss: 0.6895 - accuracy: 0.5449\n",
      "Epoch 23: loss did not improve from 0.68705\n",
      "5/5 [==============================] - 0s 29ms/step - loss: 0.6908 - accuracy: 0.5415 - val_loss: 0.6924 - val_accuracy: 0.5357\n",
      "Epoch 24/300\n",
      "3/5 [=================>............] - ETA: 0s - loss: 0.6927 - accuracy: 0.5365\n",
      "Epoch 24: loss did not improve from 0.68705\n",
      "5/5 [==============================] - 0s 32ms/step - loss: 0.6950 - accuracy: 0.5226 - val_loss: 0.6924 - val_accuracy: 0.5357\n",
      "Epoch 25/300\n",
      "3/5 [=================>............] - ETA: 0s - loss: 0.7010 - accuracy: 0.4844\n",
      "Epoch 25: loss did not improve from 0.68705\n",
      "5/5 [==============================] - 0s 30ms/step - loss: 0.6989 - accuracy: 0.4849 - val_loss: 0.6933 - val_accuracy: 0.5000\n",
      "Epoch 26/300\n",
      "4/5 [=======================>......] - ETA: 0s - loss: 0.6934 - accuracy: 0.5156\n",
      "Epoch 26: loss did not improve from 0.68705\n",
      "5/5 [==============================] - 0s 26ms/step - loss: 0.6929 - accuracy: 0.5189 - val_loss: 0.6930 - val_accuracy: 0.5179\n"
     ]
    }
   ],
   "source": [
    "\n",
    "\n",
    "history = model.fit(trainX, trainY, batch_size = 128, epochs = 300, verbose=1, shuffle=False,\n",
    "                    validation_data=(testX, testY), callbacks=callbacks)"
   ]
  },
  {
   "cell_type": "code",
   "execution_count": 23,
   "id": "75ef7aa9",
   "metadata": {
    "colab": {
     "base_uri": "https://localhost:8080/",
     "height": 424
    },
    "execution": {
     "iopub.execute_input": "2021-11-09T08:24:46.325426Z",
     "iopub.status.busy": "2021-11-09T08:24:46.324389Z",
     "iopub.status.idle": "2021-11-09T08:24:46.568908Z",
     "shell.execute_reply": "2021-11-09T08:24:46.569365Z",
     "shell.execute_reply.started": "2021-11-09T07:54:23.288972Z"
    },
    "id": "75ef7aa9",
    "outputId": "7f914584-d0c3-4305-c3a1-8772a515cfe9",
    "papermill": {
     "duration": 0.46139,
     "end_time": "2021-11-09T08:24:46.569557",
     "exception": false,
     "start_time": "2021-11-09T08:24:46.108167",
     "status": "completed"
    },
    "tags": []
   },
   "outputs": [
    {
     "data": {
      "image/png": "[encoded data removed]",
      "text/plain": [
       "<Figure size 1152x504 with 1 Axes>"
      ]
     },
     "metadata": {},
     "output_type": "display_data"
    }
   ],
   "source": [
    "plt.figure(figsize=(16,7))\n",
    "plt.plot(history.history['loss'], label='train')\n",
    "\n",
    "plt.plot(history.history['val_loss'], label='test')\n",
    "plt.legend()\n",
    "plt.show()"
   ]
  },
  {
   "cell_type": "code",
   "execution_count": 22,
   "id": "7b511a52",
   "metadata": {
    "execution": {
     "iopub.execute_input": "2021-11-09T08:24:35.370435Z",
     "iopub.status.busy": "2021-11-09T08:24:35.369774Z",
     "iopub.status.idle": "2021-11-09T08:24:45.892279Z",
     "shell.execute_reply": "2021-11-09T08:24:45.892858Z",
     "shell.execute_reply.started": "2021-11-09T07:54:22.907318Z"
    },
    "id": "7b511a52",
    "papermill": {
     "duration": 10.74732,
     "end_time": "2021-11-09T08:24:45.893042",
     "exception": false,
     "start_time": "2021-11-09T08:24:35.145722",
     "status": "completed"
    },
    "tags": []
   },
   "outputs": [],
   "source": [
    "from tensorflow.keras.models import load_model\n",
    "\n",
    "model_from_saved_checkpoint = load_model('my_best_model.hdf5')"
   ]
  }
 ],
 "metadata": {
  "colab": {
   "collapsed_sections": [
    "H1F56lS_93TS",
    "HfXgO1eM90Iq",
    "rqK_xrJWVuck",
    "lLbwlWzN8P6-",
    "2JHDgEvC8Jzr",
    "RbESQNif7sFE"
   ],
   "name": "btc V0.2 (priceLog tp priceLog).ipynb",
   "provenance": []
  },
  "kernelspec": {
   "display_name": "Python 3 (ipykernel)",
   "language": "python",
   "name": "python3"
  },
  "language_info": {
   "codemirror_mode": {
    "name": "ipython",
    "version": 3
   },
   "file_extension": ".py",
   "mimetype": "text/x-python",
   "name": "python",
   "nbconvert_exporter": "python",
   "pygments_lexer": "ipython3",
   "version": "3.9.7"
  },
  "papermill": {
   "default_parameters": {},
   "duration": 155.774638,
   "end_time": "2021-11-09T08:24:56.343239",
   "environment_variables": {},
   "exception": null,
   "input_path": "__notebook__.ipynb",
   "output_path": "__notebook__.ipynb",
   "parameters": {},
   "start_time": "2021-11-09T08:22:20.568601",
   "version": "2.3.3"
  }
 },
 "nbformat": 4,
 "nbformat_minor": 5
}
