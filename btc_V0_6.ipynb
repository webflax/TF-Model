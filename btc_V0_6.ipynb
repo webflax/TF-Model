{
  "cells": [
    {
      "cell_type": "markdown",
      "id": "H1F56lS_93TS",
      "metadata": {
        "id": "H1F56lS_93TS"
      },
      "source": [
        "# lib"
      ]
    },
    {
      "cell_type": "code",
      "execution_count": 60,
      "id": "94bd2b0c",
      "metadata": {
        "execution": {
          "iopub.execute_input": "2021-11-09T08:22:29.385315Z",
          "iopub.status.busy": "2021-11-09T08:22:29.384708Z",
          "iopub.status.idle": "2021-11-09T08:22:37.325011Z",
          "shell.execute_reply": "2021-11-09T08:22:37.325524Z",
          "shell.execute_reply.started": "2021-11-09T08:11:07.476205Z"
        },
        "id": "94bd2b0c",
        "papermill": {
          "duration": 7.986193,
          "end_time": "2021-11-09T08:22:37.325835",
          "exception": false,
          "start_time": "2021-11-09T08:22:29.339642",
          "status": "completed"
        },
        "tags": []
      },
      "outputs": [],
      "source": [
        "import pickle\n",
        "import warnings\n",
        "warnings.filterwarnings('ignore')\n",
        "import os\n",
        "import pandas as pd\n",
        "import numpy as np\n",
        "import math\n",
        "import datetime as dt\n",
        "import matplotlib.pyplot as plt\n",
        "\n",
        "from sklearn.metrics import mean_squared_error, mean_absolute_error, explained_variance_score, r2_score \n",
        "from sklearn.metrics import mean_poisson_deviance, mean_gamma_deviance, accuracy_score\n",
        "from sklearn.preprocessing import MinMaxScaler , StandardScaler\n",
        "\n",
        "from itertools import product\n",
        "import statsmodels.api as sm\n",
        "\n",
        "import tensorflow as tf\n",
        "\n",
        "from tensorflow.keras.models import Sequential, Model\n",
        "from tensorflow.keras.layers import Dense, Dropout, Input, ConvLSTM1D, Conv1D, Concatenate\n",
        "from tensorflow.keras.layers import LSTM , BatchNormalization\n",
        "\n",
        "from itertools import cycle\n",
        "import plotly.offline as py\n",
        "import plotly.graph_objects as go\n",
        "import plotly.express as px\n",
        "from plotly.subplots import make_subplots\n",
        "\n",
        "plt.style.use('seaborn-darkgrid')"
      ]
    },
    {
      "cell_type": "code",
      "execution_count": 2,
      "id": "kn5e0-PMA-sa",
      "metadata": {
        "colab": {
          "base_uri": "https://localhost:8080/"
        },
        "id": "kn5e0-PMA-sa",
        "outputId": "cbc03f9f-022b-46b1-f92e-408750f95c69"
      },
      "outputs": [
        {
          "output_type": "stream",
          "name": "stdout",
          "text": [
            "Collecting pandas_ta\n",
            "  Downloading pandas_ta-0.3.14b.tar.gz (115 kB)\n",
            "\u001b[?25l\r\u001b[K     |██▉                             | 10 kB 17.5 MB/s eta 0:00:01\r\u001b[K     |█████▊                          | 20 kB 17.4 MB/s eta 0:00:01\r\u001b[K     |████████▌                       | 30 kB 10.4 MB/s eta 0:00:01\r\u001b[K     |███████████▍                    | 40 kB 9.0 MB/s eta 0:00:01\r\u001b[K     |██████████████▎                 | 51 kB 4.5 MB/s eta 0:00:01\r\u001b[K     |█████████████████               | 61 kB 5.2 MB/s eta 0:00:01\r\u001b[K     |████████████████████            | 71 kB 5.8 MB/s eta 0:00:01\r\u001b[K     |██████████████████████▊         | 81 kB 4.2 MB/s eta 0:00:01\r\u001b[K     |█████████████████████████▋      | 92 kB 4.6 MB/s eta 0:00:01\r\u001b[K     |████████████████████████████▌   | 102 kB 5.1 MB/s eta 0:00:01\r\u001b[K     |███████████████████████████████▎| 112 kB 5.1 MB/s eta 0:00:01\r\u001b[K     |████████████████████████████████| 115 kB 5.1 MB/s \n",
            "\u001b[?25hRequirement already satisfied: pandas in /usr/local/lib/python3.7/dist-packages (from pandas_ta) (1.3.5)\n",
            "Requirement already satisfied: pytz>=2017.3 in /usr/local/lib/python3.7/dist-packages (from pandas->pandas_ta) (2022.1)\n",
            "Requirement already satisfied: python-dateutil>=2.7.3 in /usr/local/lib/python3.7/dist-packages (from pandas->pandas_ta) (2.8.2)\n",
            "Requirement already satisfied: numpy>=1.17.3 in /usr/local/lib/python3.7/dist-packages (from pandas->pandas_ta) (1.21.6)\n",
            "Requirement already satisfied: six>=1.5 in /usr/local/lib/python3.7/dist-packages (from python-dateutil>=2.7.3->pandas->pandas_ta) (1.15.0)\n",
            "Building wheels for collected packages: pandas-ta\n",
            "  Building wheel for pandas-ta (setup.py) ... \u001b[?25l\u001b[?25hdone\n",
            "  Created wheel for pandas-ta: filename=pandas_ta-0.3.14b0-py3-none-any.whl size=218923 sha256=9d12189ab8ffbe8d29be2b7350dfef7f004814be0174ea39dd5fd3072326f5b0\n",
            "  Stored in directory: /root/.cache/pip/wheels/0b/81/f0/cca85757840e4616a2c6b9fe12569d97d324c27cac60724c58\n",
            "Successfully built pandas-ta\n",
            "Installing collected packages: pandas-ta\n",
            "Successfully installed pandas-ta-0.3.14b0\n"
          ]
        }
      ],
      "source": [
        "!pip install pandas_ta\n",
        "import pandas_ta as ta"
      ]
    },
    {
      "cell_type": "markdown",
      "id": "HfXgO1eM90Iq",
      "metadata": {
        "id": "HfXgO1eM90Iq"
      },
      "source": [
        "# preprocessing data"
      ]
    },
    {
      "cell_type": "code",
      "execution_count": 3,
      "id": "xGYj63_oMPEu",
      "metadata": {
        "colab": {
          "base_uri": "https://localhost:8080/"
        },
        "id": "xGYj63_oMPEu",
        "outputId": "69eee286-770e-4e56-e8b2-7497fc070790"
      },
      "outputs": [
        {
          "output_type": "stream",
          "name": "stdout",
          "text": [
            "Mounted at /content/drive\n"
          ]
        }
      ],
      "source": [
        "# https://www.kaggle.com/datasets/paulrohan2020/bitcoin-historic-prices-from-oct2015-to-oct2021?select=btc_ohlc_Oct_2015_to_Oct_2021.csv\n",
        "from google.colab import drive\n",
        "drive.mount('/content/drive')\n",
        "path_to_file = \"./drive/MyDrive/btc_ohlc_Oct_2015_to_Oct_2021.csv\""
      ]
    },
    {
      "cell_type": "code",
      "execution_count": 4,
      "id": "300b773c",
      "metadata": {
        "colab": {
          "base_uri": "https://localhost:8080/",
          "height": 206
        },
        "execution": {
          "iopub.execute_input": "2021-11-09T08:22:37.474046Z",
          "iopub.status.busy": "2021-11-09T08:22:37.473162Z",
          "iopub.status.idle": "2021-11-09T08:22:43.282686Z",
          "shell.execute_reply": "2021-11-09T08:22:43.283134Z",
          "shell.execute_reply.started": "2021-11-09T07:52:07.794604Z"
        },
        "id": "300b773c",
        "outputId": "1d935e09-0432-45a1-abde-2902fa107077",
        "papermill": {
          "duration": 5.849088,
          "end_time": "2021-11-09T08:22:43.283293",
          "exception": false,
          "start_time": "2021-11-09T08:22:37.434205",
          "status": "completed"
        },
        "tags": []
      },
      "outputs": [
        {
          "output_type": "execute_result",
          "data": {
            "text/plain": [
              "                        time     low    high    open   close    volume\n",
              "3113271  2015-10-27 00:04:00  287.07  287.07  287.07  287.07   0.08610\n",
              "3113272  2015-10-27 00:03:00  287.08  287.09  287.08  287.09   0.55440\n",
              "3113273  2015-10-27 00:02:00  286.89  287.10  287.10  286.89  72.40320\n",
              "3113274  2015-10-27 00:01:00  287.09  287.09  287.09  287.09   0.82276\n",
              "3113275  2015-10-27 00:00:00  287.10  287.10  287.10  287.10   0.53620"
            ],
            "text/html": [
              "\n",
              "  <div id=\"df-8cab3af6-c7db-49a3-ad86-dee531af7ffd\">\n",
              "    <div class=\"colab-df-container\">\n",
              "      <div>\n",
              "<style scoped>\n",
              "    .dataframe tbody tr th:only-of-type {\n",
              "        vertical-align: middle;\n",
              "    }\n",
              "\n",
              "    .dataframe tbody tr th {\n",
              "        vertical-align: top;\n",
              "    }\n",
              "\n",
              "    .dataframe thead th {\n",
              "        text-align: right;\n",
              "    }\n",
              "</style>\n",
              "<table border=\"1\" class=\"dataframe\">\n",
              "  <thead>\n",
              "    <tr style=\"text-align: right;\">\n",
              "      <th></th>\n",
              "      <th>time</th>\n",
              "      <th>low</th>\n",
              "      <th>high</th>\n",
              "      <th>open</th>\n",
              "      <th>close</th>\n",
              "      <th>volume</th>\n",
              "    </tr>\n",
              "  </thead>\n",
              "  <tbody>\n",
              "    <tr>\n",
              "      <th>3113271</th>\n",
              "      <td>2015-10-27 00:04:00</td>\n",
              "      <td>287.07</td>\n",
              "      <td>287.07</td>\n",
              "      <td>287.07</td>\n",
              "      <td>287.07</td>\n",
              "      <td>0.08610</td>\n",
              "    </tr>\n",
              "    <tr>\n",
              "      <th>3113272</th>\n",
              "      <td>2015-10-27 00:03:00</td>\n",
              "      <td>287.08</td>\n",
              "      <td>287.09</td>\n",
              "      <td>287.08</td>\n",
              "      <td>287.09</td>\n",
              "      <td>0.55440</td>\n",
              "    </tr>\n",
              "    <tr>\n",
              "      <th>3113273</th>\n",
              "      <td>2015-10-27 00:02:00</td>\n",
              "      <td>286.89</td>\n",
              "      <td>287.10</td>\n",
              "      <td>287.10</td>\n",
              "      <td>286.89</td>\n",
              "      <td>72.40320</td>\n",
              "    </tr>\n",
              "    <tr>\n",
              "      <th>3113274</th>\n",
              "      <td>2015-10-27 00:01:00</td>\n",
              "      <td>287.09</td>\n",
              "      <td>287.09</td>\n",
              "      <td>287.09</td>\n",
              "      <td>287.09</td>\n",
              "      <td>0.82276</td>\n",
              "    </tr>\n",
              "    <tr>\n",
              "      <th>3113275</th>\n",
              "      <td>2015-10-27 00:00:00</td>\n",
              "      <td>287.10</td>\n",
              "      <td>287.10</td>\n",
              "      <td>287.10</td>\n",
              "      <td>287.10</td>\n",
              "      <td>0.53620</td>\n",
              "    </tr>\n",
              "  </tbody>\n",
              "</table>\n",
              "</div>\n",
              "      <button class=\"colab-df-convert\" onclick=\"convertToInteractive('df-8cab3af6-c7db-49a3-ad86-dee531af7ffd')\"\n",
              "              title=\"Convert this dataframe to an interactive table.\"\n",
              "              style=\"display:none;\">\n",
              "        \n",
              "  <svg xmlns=\"http://www.w3.org/2000/svg\" height=\"24px\"viewBox=\"0 0 24 24\"\n",
              "       width=\"24px\">\n",
              "    <path d=\"M0 0h24v24H0V0z\" fill=\"none\"/>\n",
              "    <path d=\"M18.56 5.44l.94 2.06.94-2.06 2.06-.94-2.06-.94-.94-2.06-.94 2.06-2.06.94zm-11 1L8.5 8.5l.94-2.06 2.06-.94-2.06-.94L8.5 2.5l-.94 2.06-2.06.94zm10 10l.94 2.06.94-2.06 2.06-.94-2.06-.94-.94-2.06-.94 2.06-2.06.94z\"/><path d=\"M17.41 7.96l-1.37-1.37c-.4-.4-.92-.59-1.43-.59-.52 0-1.04.2-1.43.59L10.3 9.45l-7.72 7.72c-.78.78-.78 2.05 0 2.83L4 21.41c.39.39.9.59 1.41.59.51 0 1.02-.2 1.41-.59l7.78-7.78 2.81-2.81c.8-.78.8-2.07 0-2.86zM5.41 20L4 18.59l7.72-7.72 1.47 1.35L5.41 20z\"/>\n",
              "  </svg>\n",
              "      </button>\n",
              "      \n",
              "  <style>\n",
              "    .colab-df-container {\n",
              "      display:flex;\n",
              "      flex-wrap:wrap;\n",
              "      gap: 12px;\n",
              "    }\n",
              "\n",
              "    .colab-df-convert {\n",
              "      background-color: #E8F0FE;\n",
              "      border: none;\n",
              "      border-radius: 50%;\n",
              "      cursor: pointer;\n",
              "      display: none;\n",
              "      fill: #1967D2;\n",
              "      height: 32px;\n",
              "      padding: 0 0 0 0;\n",
              "      width: 32px;\n",
              "    }\n",
              "\n",
              "    .colab-df-convert:hover {\n",
              "      background-color: #E2EBFA;\n",
              "      box-shadow: 0px 1px 2px rgba(60, 64, 67, 0.3), 0px 1px 3px 1px rgba(60, 64, 67, 0.15);\n",
              "      fill: #174EA6;\n",
              "    }\n",
              "\n",
              "    [theme=dark] .colab-df-convert {\n",
              "      background-color: #3B4455;\n",
              "      fill: #D2E3FC;\n",
              "    }\n",
              "\n",
              "    [theme=dark] .colab-df-convert:hover {\n",
              "      background-color: #434B5C;\n",
              "      box-shadow: 0px 1px 3px 1px rgba(0, 0, 0, 0.15);\n",
              "      filter: drop-shadow(0px 1px 2px rgba(0, 0, 0, 0.3));\n",
              "      fill: #FFFFFF;\n",
              "    }\n",
              "  </style>\n",
              "\n",
              "      <script>\n",
              "        const buttonEl =\n",
              "          document.querySelector('#df-8cab3af6-c7db-49a3-ad86-dee531af7ffd button.colab-df-convert');\n",
              "        buttonEl.style.display =\n",
              "          google.colab.kernel.accessAllowed ? 'block' : 'none';\n",
              "\n",
              "        async function convertToInteractive(key) {\n",
              "          const element = document.querySelector('#df-8cab3af6-c7db-49a3-ad86-dee531af7ffd');\n",
              "          const dataTable =\n",
              "            await google.colab.kernel.invokeFunction('convertToInteractive',\n",
              "                                                     [key], {});\n",
              "          if (!dataTable) return;\n",
              "\n",
              "          const docLinkHtml = 'Like what you see? Visit the ' +\n",
              "            '<a target=\"_blank\" href=https://colab.research.google.com/notebooks/data_table.ipynb>data table notebook</a>'\n",
              "            + ' to learn more about interactive tables.';\n",
              "          element.innerHTML = '';\n",
              "          dataTable['output_type'] = 'display_data';\n",
              "          await google.colab.output.renderOutput(dataTable, element);\n",
              "          const docLink = document.createElement('div');\n",
              "          docLink.innerHTML = docLinkHtml;\n",
              "          element.appendChild(docLink);\n",
              "        }\n",
              "      </script>\n",
              "    </div>\n",
              "  </div>\n",
              "  "
            ]
          },
          "metadata": {},
          "execution_count": 4
        }
      ],
      "source": [
        "btc_input_df = pd.read_csv(path_to_file)\n",
        "btc_input_df.tail()"
      ]
    },
    {
      "cell_type": "code",
      "execution_count": 5,
      "id": "e67a49cb",
      "metadata": {
        "execution": {
          "iopub.execute_input": "2021-11-09T08:22:45.211367Z",
          "iopub.status.busy": "2021-11-09T08:22:45.209919Z",
          "iopub.status.idle": "2021-11-09T08:22:45.259856Z",
          "shell.execute_reply": "2021-11-09T08:22:45.260322Z",
          "shell.execute_reply.started": "2021-11-09T07:52:14.385146Z"
        },
        "id": "e67a49cb",
        "papermill": {
          "duration": 1.099083,
          "end_time": "2021-11-09T08:22:45.260495",
          "exception": false,
          "start_time": "2021-11-09T08:22:44.161412",
          "status": "completed"
        },
        "tags": []
      },
      "outputs": [],
      "source": [
        "btc_input_df_datetype = btc_input_df.astype({'time': 'datetime64'})\n",
        "btc_input_df_datetype['close_log'] = np.log(btc_input_df_datetype['close'])"
      ]
    },
    {
      "cell_type": "code",
      "execution_count": 6,
      "id": "qhGA5XdENdJ7",
      "metadata": {
        "colab": {
          "base_uri": "https://localhost:8080/"
        },
        "id": "qhGA5XdENdJ7",
        "outputId": "49d2e05b-65bf-4125-e5e8-fc960e705ab0"
      },
      "outputs": [
        {
          "output_type": "execute_result",
          "data": {
            "text/plain": [
              "Series([], Name: close_log, dtype: float64)"
            ]
          },
          "metadata": {},
          "execution_count": 6
        }
      ],
      "source": [
        "btc_input_df_datetype.drop(2381238,axis=0,inplace=True)\n",
        "btc_input_df_datetype['close_log'][btc_input_df_datetype['close']<4]"
      ]
    },
    {
      "cell_type": "code",
      "execution_count": 7,
      "id": "369485c9",
      "metadata": {
        "colab": {
          "base_uri": "https://localhost:8080/",
          "height": 444
        },
        "execution": {
          "iopub.execute_input": "2021-11-09T08:22:45.855884Z",
          "iopub.status.busy": "2021-11-09T08:22:45.855251Z",
          "iopub.status.idle": "2021-11-09T08:23:07.129023Z",
          "shell.execute_reply": "2021-11-09T08:23:07.129522Z",
          "shell.execute_reply.started": "2021-11-09T07:52:15.654405Z"
        },
        "id": "369485c9",
        "outputId": "b4972980-c3a1-419a-ac13-b226e1325253",
        "papermill": {
          "duration": 21.316539,
          "end_time": "2021-11-09T08:23:07.129743",
          "exception": false,
          "start_time": "2021-11-09T08:22:45.813204",
          "status": "completed"
        },
        "tags": []
      },
      "outputs": [
        {
          "output_type": "execute_result",
          "data": {
            "text/plain": [
              "<matplotlib.axes._subplots.AxesSubplot at 0x7f667f887890>"
            ]
          },
          "metadata": {},
          "execution_count": 7
        },
        {
          "output_type": "display_data",
          "data": {
            "text/plain": [
              "<Figure size 1728x504 with 1 Axes>"
            ],
            "image/png": "[encoded data removed]"
          },
          "metadata": {
            "needs_background": "light"
          }
        }
      ],
      "source": [
        "# btc_input_df_datetype.set_index(\"time\").close.plot(figsize=(24,7), title=\"Bitcoin Weighted Price\")\n",
        "btc_input_df_datetype.set_index(\"time\").close_log.plot(figsize=(24,7), title=\"Bitcoin Weighted Price\")"
      ]
    },
    {
      "cell_type": "code",
      "execution_count": 8,
      "id": "29c9064d",
      "metadata": {
        "colab": {
          "base_uri": "https://localhost:8080/",
          "height": 428
        },
        "execution": {
          "iopub.execute_input": "2021-11-09T08:23:56.639356Z",
          "iopub.status.busy": "2021-11-09T08:23:56.638765Z",
          "iopub.status.idle": "2021-11-09T08:23:58.943697Z",
          "shell.execute_reply": "2021-11-09T08:23:58.942755Z",
          "shell.execute_reply.started": "2021-11-09T07:53:25.811071Z"
        },
        "id": "29c9064d",
        "outputId": "0334c11d-c32e-4943-8c07-64f7c5927e57",
        "papermill": {
          "duration": 2.351959,
          "end_time": "2021-11-09T08:23:58.943895",
          "exception": false,
          "start_time": "2021-11-09T08:23:56.591936",
          "status": "completed"
        },
        "tags": []
      },
      "outputs": [
        {
          "output_type": "display_data",
          "data": {
            "text/plain": [
              "                 time       low      high      open     close    volume  \\\n",
              "0 2021-10-30 03:00:00  61868.81  61920.00  61888.18  61919.98  2.946079   \n",
              "1 2021-10-30 02:59:00  61882.74  61912.67  61903.16  61882.74  2.942357   \n",
              "2 2021-10-30 02:58:00  61854.82  61907.96  61854.82  61903.15  3.047848   \n",
              "3 2021-10-30 02:57:00  61848.04  61883.02  61883.01  61851.39  3.381070   \n",
              "4 2021-10-30 02:56:00  61879.33  61925.42  61907.47  61882.28  5.663128   \n",
              "\n",
              "   close_log        date  \n",
              "0  11.033598  2021-10-30  \n",
              "1  11.032997  2021-10-30  \n",
              "2  11.033326  2021-10-30  \n",
              "3  11.032490  2021-10-30  \n",
              "4  11.032989  2021-10-30  "
            ],
            "text/html": [
              "\n",
              "  <div id=\"df-8a2e5023-c233-4613-a1f7-b726d31e7533\">\n",
              "    <div class=\"colab-df-container\">\n",
              "      <div>\n",
              "<style scoped>\n",
              "    .dataframe tbody tr th:only-of-type {\n",
              "        vertical-align: middle;\n",
              "    }\n",
              "\n",
              "    .dataframe tbody tr th {\n",
              "        vertical-align: top;\n",
              "    }\n",
              "\n",
              "    .dataframe thead th {\n",
              "        text-align: right;\n",
              "    }\n",
              "</style>\n",
              "<table border=\"1\" class=\"dataframe\">\n",
              "  <thead>\n",
              "    <tr style=\"text-align: right;\">\n",
              "      <th></th>\n",
              "      <th>time</th>\n",
              "      <th>low</th>\n",
              "      <th>high</th>\n",
              "      <th>open</th>\n",
              "      <th>close</th>\n",
              "      <th>volume</th>\n",
              "      <th>close_log</th>\n",
              "      <th>date</th>\n",
              "    </tr>\n",
              "  </thead>\n",
              "  <tbody>\n",
              "    <tr>\n",
              "      <th>0</th>\n",
              "      <td>2021-10-30 03:00:00</td>\n",
              "      <td>61868.81</td>\n",
              "      <td>61920.00</td>\n",
              "      <td>61888.18</td>\n",
              "      <td>61919.98</td>\n",
              "      <td>2.946079</td>\n",
              "      <td>11.033598</td>\n",
              "      <td>2021-10-30</td>\n",
              "    </tr>\n",
              "    <tr>\n",
              "      <th>1</th>\n",
              "      <td>2021-10-30 02:59:00</td>\n",
              "      <td>61882.74</td>\n",
              "      <td>61912.67</td>\n",
              "      <td>61903.16</td>\n",
              "      <td>61882.74</td>\n",
              "      <td>2.942357</td>\n",
              "      <td>11.032997</td>\n",
              "      <td>2021-10-30</td>\n",
              "    </tr>\n",
              "    <tr>\n",
              "      <th>2</th>\n",
              "      <td>2021-10-30 02:58:00</td>\n",
              "      <td>61854.82</td>\n",
              "      <td>61907.96</td>\n",
              "      <td>61854.82</td>\n",
              "      <td>61903.15</td>\n",
              "      <td>3.047848</td>\n",
              "      <td>11.033326</td>\n",
              "      <td>2021-10-30</td>\n",
              "    </tr>\n",
              "    <tr>\n",
              "      <th>3</th>\n",
              "      <td>2021-10-30 02:57:00</td>\n",
              "      <td>61848.04</td>\n",
              "      <td>61883.02</td>\n",
              "      <td>61883.01</td>\n",
              "      <td>61851.39</td>\n",
              "      <td>3.381070</td>\n",
              "      <td>11.032490</td>\n",
              "      <td>2021-10-30</td>\n",
              "    </tr>\n",
              "    <tr>\n",
              "      <th>4</th>\n",
              "      <td>2021-10-30 02:56:00</td>\n",
              "      <td>61879.33</td>\n",
              "      <td>61925.42</td>\n",
              "      <td>61907.47</td>\n",
              "      <td>61882.28</td>\n",
              "      <td>5.663128</td>\n",
              "      <td>11.032989</td>\n",
              "      <td>2021-10-30</td>\n",
              "    </tr>\n",
              "  </tbody>\n",
              "</table>\n",
              "</div>\n",
              "      <button class=\"colab-df-convert\" onclick=\"convertToInteractive('df-8a2e5023-c233-4613-a1f7-b726d31e7533')\"\n",
              "              title=\"Convert this dataframe to an interactive table.\"\n",
              "              style=\"display:none;\">\n",
              "        \n",
              "  <svg xmlns=\"http://www.w3.org/2000/svg\" height=\"24px\"viewBox=\"0 0 24 24\"\n",
              "       width=\"24px\">\n",
              "    <path d=\"M0 0h24v24H0V0z\" fill=\"none\"/>\n",
              "    <path d=\"M18.56 5.44l.94 2.06.94-2.06 2.06-.94-2.06-.94-.94-2.06-.94 2.06-2.06.94zm-11 1L8.5 8.5l.94-2.06 2.06-.94-2.06-.94L8.5 2.5l-.94 2.06-2.06.94zm10 10l.94 2.06.94-2.06 2.06-.94-2.06-.94-.94-2.06-.94 2.06-2.06.94z\"/><path d=\"M17.41 7.96l-1.37-1.37c-.4-.4-.92-.59-1.43-.59-.52 0-1.04.2-1.43.59L10.3 9.45l-7.72 7.72c-.78.78-.78 2.05 0 2.83L4 21.41c.39.39.9.59 1.41.59.51 0 1.02-.2 1.41-.59l7.78-7.78 2.81-2.81c.8-.78.8-2.07 0-2.86zM5.41 20L4 18.59l7.72-7.72 1.47 1.35L5.41 20z\"/>\n",
              "  </svg>\n",
              "      </button>\n",
              "      \n",
              "  <style>\n",
              "    .colab-df-container {\n",
              "      display:flex;\n",
              "      flex-wrap:wrap;\n",
              "      gap: 12px;\n",
              "    }\n",
              "\n",
              "    .colab-df-convert {\n",
              "      background-color: #E8F0FE;\n",
              "      border: none;\n",
              "      border-radius: 50%;\n",
              "      cursor: pointer;\n",
              "      display: none;\n",
              "      fill: #1967D2;\n",
              "      height: 32px;\n",
              "      padding: 0 0 0 0;\n",
              "      width: 32px;\n",
              "    }\n",
              "\n",
              "    .colab-df-convert:hover {\n",
              "      background-color: #E2EBFA;\n",
              "      box-shadow: 0px 1px 2px rgba(60, 64, 67, 0.3), 0px 1px 3px 1px rgba(60, 64, 67, 0.15);\n",
              "      fill: #174EA6;\n",
              "    }\n",
              "\n",
              "    [theme=dark] .colab-df-convert {\n",
              "      background-color: #3B4455;\n",
              "      fill: #D2E3FC;\n",
              "    }\n",
              "\n",
              "    [theme=dark] .colab-df-convert:hover {\n",
              "      background-color: #434B5C;\n",
              "      box-shadow: 0px 1px 3px 1px rgba(0, 0, 0, 0.15);\n",
              "      filter: drop-shadow(0px 1px 2px rgba(0, 0, 0, 0.3));\n",
              "      fill: #FFFFFF;\n",
              "    }\n",
              "  </style>\n",
              "\n",
              "      <script>\n",
              "        const buttonEl =\n",
              "          document.querySelector('#df-8a2e5023-c233-4613-a1f7-b726d31e7533 button.colab-df-convert');\n",
              "        buttonEl.style.display =\n",
              "          google.colab.kernel.accessAllowed ? 'block' : 'none';\n",
              "\n",
              "        async function convertToInteractive(key) {\n",
              "          const element = document.querySelector('#df-8a2e5023-c233-4613-a1f7-b726d31e7533');\n",
              "          const dataTable =\n",
              "            await google.colab.kernel.invokeFunction('convertToInteractive',\n",
              "                                                     [key], {});\n",
              "          if (!dataTable) return;\n",
              "\n",
              "          const docLinkHtml = 'Like what you see? Visit the ' +\n",
              "            '<a target=\"_blank\" href=https://colab.research.google.com/notebooks/data_table.ipynb>data table notebook</a>'\n",
              "            + ' to learn more about interactive tables.';\n",
              "          element.innerHTML = '';\n",
              "          dataTable['output_type'] = 'display_data';\n",
              "          await google.colab.output.renderOutput(dataTable, element);\n",
              "          const docLink = document.createElement('div');\n",
              "          docLink.innerHTML = docLinkHtml;\n",
              "          element.appendChild(docLink);\n",
              "        }\n",
              "      </script>\n",
              "    </div>\n",
              "  </div>\n",
              "  "
            ]
          },
          "metadata": {}
        },
        {
          "output_type": "display_data",
          "data": {
            "text/plain": [
              "date\n",
              "2015-10-27    5.679741\n",
              "2015-10-28    5.710364\n",
              "2015-10-29    5.738202\n",
              "2015-10-30    5.788838\n",
              "2015-10-31    5.780111\n",
              "2015-11-01    5.766747\n",
              "2015-11-02    5.826106\n",
              "2015-11-03    5.957086\n",
              "2015-11-04    6.107486\n",
              "2015-11-05    5.991228\n",
              "Name: close_log, dtype: float64"
            ]
          },
          "metadata": {}
        }
      ],
      "source": [
        "btc_input_df_datetype['date'] = pd.to_datetime(btc_input_df_datetype['time'],unit='s').dt.date\n",
        "\n",
        "display(btc_input_df_datetype.head())\n",
        "\n",
        "group = btc_input_df_datetype.groupby('date')\n",
        "\n",
        "btc_closing_price_groupby_date = group['close_log'].mean()\n",
        "\n",
        "display(btc_closing_price_groupby_date.head(10))"
      ]
    },
    {
      "cell_type": "code",
      "execution_count": 24,
      "id": "uXX2Q2TSwnve",
      "metadata": {
        "id": "uXX2Q2TSwnve"
      },
      "outputs": [],
      "source": [
        "btc = pd.DataFrame()\n",
        "btc['close_log'] =  group['close_log'].mean()\n",
        "# btc['diff1_log'] = btc['close_log'].diff(1)\n",
        "# btc['diff7_log'] = btc['close_log'].diff(7)\n",
        "# btc['diff20_log'] = btc['close_log'].diff(20)\n",
        "# btc['diff50_log'] = btc['close_log'].diff(50)\n",
        "# btc['diff100_log'] = btc['close_log'].diff(100)\n",
        "# btc['diff200_log'] = btc['close_log'].diff(200)\n",
        "# btc['high'] =  group['high'].mean()\n",
        "# btc['low'] =  group['low'].mean()\n",
        "btc['close'] =  group['close'].mean()\n",
        "# btc['diff1'] = btc['close'].diff(1)\n",
        "# btc['diff7'] = btc['close'].diff(7)\n",
        "# btc['diff30'] = btc['close'].diff(30)\n",
        "# btc['diff60'] = btc['close'].diff(60)\n",
        "# btc['diff100'] = btc['close'].diff(100)\n",
        "# btc['diff200'] = btc['close'].diff(200)\n",
        "# btc['diff400'] = btc['close'].diff(400)\n",
        "# btc['diff600'] = btc['close'].diff(600)\n",
        "# btc['reverse_diff'] = btc['close'].shift(1) + btc['diff']\n",
        "\n",
        "# dema, ema, fwma, hma, linreg, midpoint, pwma, rma,\n",
        "# sinwma, sma, swma, t3, tema, trima, vidya, wma, zlma\n",
        "# btc['ema20_clog'] = ta.ma(\"ema\", btc['close_log'], length=20)\n",
        "# btc['ema50_clog'] = ta.ma(\"ema\", btc['close_log'], length=50)\n",
        "# btc['ema100_clog'] = ta.ma(\"ema\", btc['close_log'], length=100)\n",
        "# btc['ema200_clog'] = ta.ma(\"ema\", btc['close_log'], length=200)\n",
        "# btc['ema400_clog'] = ta.ma(\"ema\", btc['close_log'], length=400)\n",
        "# btc['ema600_clog'] = ta.ma(\"ema\", btc['close_log'], length=600)\n",
        "\n",
        "# btc['ema20'] = ta.ma(\"ema\", btc['close'], length=20)\n",
        "# btc['ema50'] = ta.ma(\"ema\", btc['close'], length=50)\n",
        "# btc['ema100'] = ta.ma(\"ema\", btc['close'], length=100)\n",
        "# btc['ema200'] = ta.ma(\"ema\", btc['close'], length=200)\n",
        "# btc['ema300'] = ta.ma(\"ema\", btc['close'], length=300)\n",
        "# btc['ema400'] = ta.ma(\"ema\", btc['close'], length=400)\n",
        "# btc['ema600'] = ta.ma(\"ema\", btc['close'], length=600)\n",
        "\n",
        "# btc['mom10'] = ta.mom(btc['close'],length=10)\n",
        "# btc['mom30'] = ta.mom(btc['close'],length=30)\n",
        "# btc['mom60'] = ta.mom(btc['close'],length=60)\n",
        "# btc['mom90'] = ta.mom(btc['close'],length=90)\n",
        "\n",
        "# btc['atr10'] = ta.atr(btc.high, btc.low, btc.close, length=10)\n",
        "# btc['atr30'] = ta.atr(btc.high, btc.low, btc.close, length=30)\n",
        "# btc['atr60'] = ta.atr(btc.high, btc.low, btc.close, length=60)\n",
        "# btc['atr90'] = ta.atr(btc.high, btc.low, btc.close, length=90)\n",
        "\n",
        "# btc['rsi14'] = ta.rsi(btc['close'],length=14)\n",
        "# btc['rsi30'] = ta.rsi(btc['close'],length=30)\n",
        "# btc['rsi60'] = ta.rsi(btc['close'],length=60)\n",
        "# btc['rsi90'] = ta.rsi(btc['close'],length=90)\n",
        "\n",
        "\n",
        "# stoch =ta.stoch(btc.high, btc.low, btc.close)\n",
        "# stoch = stoch['STOCHd_14_3_3']-stoch['STOCHk_14_3_3']\n",
        "# btc['stoch'] = stoch\n",
        "\n",
        "# btc['adx'] = ta.adx(btc.high, btc.low, btc.close, length=30)['ADX_30']\n",
        "\n",
        "\n",
        "btc['target_log'] = btc['close_log'].shift(-1)\n",
        "btc['target'] = btc['close'].shift(-1)\n",
        "btc = btc.dropna()\n",
        "# btc.drop('close', axis=1, inplace=True)"
      ]
    },
    {
      "cell_type": "code",
      "execution_count": 25,
      "id": "zxoHysCJaoGz",
      "metadata": {
        "colab": {
          "base_uri": "https://localhost:8080/",
          "height": 237
        },
        "id": "zxoHysCJaoGz",
        "outputId": "3a8dc202-e02b-4340-9af8-a3fea4babac0"
      },
      "outputs": [
        {
          "output_type": "execute_result",
          "data": {
            "text/plain": [
              "            close_log         close  target_log        target\n",
              "date                                                         \n",
              "2021-10-25  11.044651  62611.015403   11.039727  62304.201403\n",
              "2021-10-26  11.039727  62304.201403   10.993767  59508.951285\n",
              "2021-10-27  10.993767  59508.951285   11.006138  60252.358194\n",
              "2021-10-28  11.006138  60252.358194   11.028101  61584.211944\n",
              "2021-10-29  11.028101  61584.211944   11.035381  62030.562210"
            ],
            "text/html": [
              "\n",
              "  <div id=\"df-5382ccad-bfbd-431b-a2d5-3bddbb0c80ae\">\n",
              "    <div class=\"colab-df-container\">\n",
              "      <div>\n",
              "<style scoped>\n",
              "    .dataframe tbody tr th:only-of-type {\n",
              "        vertical-align: middle;\n",
              "    }\n",
              "\n",
              "    .dataframe tbody tr th {\n",
              "        vertical-align: top;\n",
              "    }\n",
              "\n",
              "    .dataframe thead th {\n",
              "        text-align: right;\n",
              "    }\n",
              "</style>\n",
              "<table border=\"1\" class=\"dataframe\">\n",
              "  <thead>\n",
              "    <tr style=\"text-align: right;\">\n",
              "      <th></th>\n",
              "      <th>close_log</th>\n",
              "      <th>close</th>\n",
              "      <th>target_log</th>\n",
              "      <th>target</th>\n",
              "    </tr>\n",
              "    <tr>\n",
              "      <th>date</th>\n",
              "      <th></th>\n",
              "      <th></th>\n",
              "      <th></th>\n",
              "      <th></th>\n",
              "    </tr>\n",
              "  </thead>\n",
              "  <tbody>\n",
              "    <tr>\n",
              "      <th>2021-10-25</th>\n",
              "      <td>11.044651</td>\n",
              "      <td>62611.015403</td>\n",
              "      <td>11.039727</td>\n",
              "      <td>62304.201403</td>\n",
              "    </tr>\n",
              "    <tr>\n",
              "      <th>2021-10-26</th>\n",
              "      <td>11.039727</td>\n",
              "      <td>62304.201403</td>\n",
              "      <td>10.993767</td>\n",
              "      <td>59508.951285</td>\n",
              "    </tr>\n",
              "    <tr>\n",
              "      <th>2021-10-27</th>\n",
              "      <td>10.993767</td>\n",
              "      <td>59508.951285</td>\n",
              "      <td>11.006138</td>\n",
              "      <td>60252.358194</td>\n",
              "    </tr>\n",
              "    <tr>\n",
              "      <th>2021-10-28</th>\n",
              "      <td>11.006138</td>\n",
              "      <td>60252.358194</td>\n",
              "      <td>11.028101</td>\n",
              "      <td>61584.211944</td>\n",
              "    </tr>\n",
              "    <tr>\n",
              "      <th>2021-10-29</th>\n",
              "      <td>11.028101</td>\n",
              "      <td>61584.211944</td>\n",
              "      <td>11.035381</td>\n",
              "      <td>62030.562210</td>\n",
              "    </tr>\n",
              "  </tbody>\n",
              "</table>\n",
              "</div>\n",
              "      <button class=\"colab-df-convert\" onclick=\"convertToInteractive('df-5382ccad-bfbd-431b-a2d5-3bddbb0c80ae')\"\n",
              "              title=\"Convert this dataframe to an interactive table.\"\n",
              "              style=\"display:none;\">\n",
              "        \n",
              "  <svg xmlns=\"http://www.w3.org/2000/svg\" height=\"24px\"viewBox=\"0 0 24 24\"\n",
              "       width=\"24px\">\n",
              "    <path d=\"M0 0h24v24H0V0z\" fill=\"none\"/>\n",
              "    <path d=\"M18.56 5.44l.94 2.06.94-2.06 2.06-.94-2.06-.94-.94-2.06-.94 2.06-2.06.94zm-11 1L8.5 8.5l.94-2.06 2.06-.94-2.06-.94L8.5 2.5l-.94 2.06-2.06.94zm10 10l.94 2.06.94-2.06 2.06-.94-2.06-.94-.94-2.06-.94 2.06-2.06.94z\"/><path d=\"M17.41 7.96l-1.37-1.37c-.4-.4-.92-.59-1.43-.59-.52 0-1.04.2-1.43.59L10.3 9.45l-7.72 7.72c-.78.78-.78 2.05 0 2.83L4 21.41c.39.39.9.59 1.41.59.51 0 1.02-.2 1.41-.59l7.78-7.78 2.81-2.81c.8-.78.8-2.07 0-2.86zM5.41 20L4 18.59l7.72-7.72 1.47 1.35L5.41 20z\"/>\n",
              "  </svg>\n",
              "      </button>\n",
              "      \n",
              "  <style>\n",
              "    .colab-df-container {\n",
              "      display:flex;\n",
              "      flex-wrap:wrap;\n",
              "      gap: 12px;\n",
              "    }\n",
              "\n",
              "    .colab-df-convert {\n",
              "      background-color: #E8F0FE;\n",
              "      border: none;\n",
              "      border-radius: 50%;\n",
              "      cursor: pointer;\n",
              "      display: none;\n",
              "      fill: #1967D2;\n",
              "      height: 32px;\n",
              "      padding: 0 0 0 0;\n",
              "      width: 32px;\n",
              "    }\n",
              "\n",
              "    .colab-df-convert:hover {\n",
              "      background-color: #E2EBFA;\n",
              "      box-shadow: 0px 1px 2px rgba(60, 64, 67, 0.3), 0px 1px 3px 1px rgba(60, 64, 67, 0.15);\n",
              "      fill: #174EA6;\n",
              "    }\n",
              "\n",
              "    [theme=dark] .colab-df-convert {\n",
              "      background-color: #3B4455;\n",
              "      fill: #D2E3FC;\n",
              "    }\n",
              "\n",
              "    [theme=dark] .colab-df-convert:hover {\n",
              "      background-color: #434B5C;\n",
              "      box-shadow: 0px 1px 3px 1px rgba(0, 0, 0, 0.15);\n",
              "      filter: drop-shadow(0px 1px 2px rgba(0, 0, 0, 0.3));\n",
              "      fill: #FFFFFF;\n",
              "    }\n",
              "  </style>\n",
              "\n",
              "      <script>\n",
              "        const buttonEl =\n",
              "          document.querySelector('#df-5382ccad-bfbd-431b-a2d5-3bddbb0c80ae button.colab-df-convert');\n",
              "        buttonEl.style.display =\n",
              "          google.colab.kernel.accessAllowed ? 'block' : 'none';\n",
              "\n",
              "        async function convertToInteractive(key) {\n",
              "          const element = document.querySelector('#df-5382ccad-bfbd-431b-a2d5-3bddbb0c80ae');\n",
              "          const dataTable =\n",
              "            await google.colab.kernel.invokeFunction('convertToInteractive',\n",
              "                                                     [key], {});\n",
              "          if (!dataTable) return;\n",
              "\n",
              "          const docLinkHtml = 'Like what you see? Visit the ' +\n",
              "            '<a target=\"_blank\" href=https://colab.research.google.com/notebooks/data_table.ipynb>data table notebook</a>'\n",
              "            + ' to learn more about interactive tables.';\n",
              "          element.innerHTML = '';\n",
              "          dataTable['output_type'] = 'display_data';\n",
              "          await google.colab.output.renderOutput(dataTable, element);\n",
              "          const docLink = document.createElement('div');\n",
              "          docLink.innerHTML = docLinkHtml;\n",
              "          element.appendChild(docLink);\n",
              "        }\n",
              "      </script>\n",
              "    </div>\n",
              "  </div>\n",
              "  "
            ]
          },
          "metadata": {},
          "execution_count": 25
        }
      ],
      "source": [
        "btc.tail()"
      ]
    },
    {
      "cell_type": "code",
      "execution_count": 26,
      "id": "ir7h6k4saWXJ",
      "metadata": {
        "colab": {
          "base_uri": "https://localhost:8080/",
          "height": 175
        },
        "id": "ir7h6k4saWXJ",
        "outputId": "cf658edf-c2f2-44e5-bbb5-088afa1a9cd3"
      },
      "outputs": [
        {
          "output_type": "execute_result",
          "data": {
            "text/plain": [
              "            close_log     close  target_log    target\n",
              "close_log    1.000000  0.788101    0.999735  0.787837\n",
              "close        0.788101  1.000000    0.787924  0.999057\n",
              "target_log   0.999735  0.787924    1.000000  0.788322\n",
              "target       0.787837  0.999057    0.788322  1.000000"
            ],
            "text/html": [
              "\n",
              "  <div id=\"df-91de218d-6f80-4103-a517-426ffbab4ead\">\n",
              "    <div class=\"colab-df-container\">\n",
              "      <div>\n",
              "<style scoped>\n",
              "    .dataframe tbody tr th:only-of-type {\n",
              "        vertical-align: middle;\n",
              "    }\n",
              "\n",
              "    .dataframe tbody tr th {\n",
              "        vertical-align: top;\n",
              "    }\n",
              "\n",
              "    .dataframe thead th {\n",
              "        text-align: right;\n",
              "    }\n",
              "</style>\n",
              "<table border=\"1\" class=\"dataframe\">\n",
              "  <thead>\n",
              "    <tr style=\"text-align: right;\">\n",
              "      <th></th>\n",
              "      <th>close_log</th>\n",
              "      <th>close</th>\n",
              "      <th>target_log</th>\n",
              "      <th>target</th>\n",
              "    </tr>\n",
              "  </thead>\n",
              "  <tbody>\n",
              "    <tr>\n",
              "      <th>close_log</th>\n",
              "      <td>1.000000</td>\n",
              "      <td>0.788101</td>\n",
              "      <td>0.999735</td>\n",
              "      <td>0.787837</td>\n",
              "    </tr>\n",
              "    <tr>\n",
              "      <th>close</th>\n",
              "      <td>0.788101</td>\n",
              "      <td>1.000000</td>\n",
              "      <td>0.787924</td>\n",
              "      <td>0.999057</td>\n",
              "    </tr>\n",
              "    <tr>\n",
              "      <th>target_log</th>\n",
              "      <td>0.999735</td>\n",
              "      <td>0.787924</td>\n",
              "      <td>1.000000</td>\n",
              "      <td>0.788322</td>\n",
              "    </tr>\n",
              "    <tr>\n",
              "      <th>target</th>\n",
              "      <td>0.787837</td>\n",
              "      <td>0.999057</td>\n",
              "      <td>0.788322</td>\n",
              "      <td>1.000000</td>\n",
              "    </tr>\n",
              "  </tbody>\n",
              "</table>\n",
              "</div>\n",
              "      <button class=\"colab-df-convert\" onclick=\"convertToInteractive('df-91de218d-6f80-4103-a517-426ffbab4ead')\"\n",
              "              title=\"Convert this dataframe to an interactive table.\"\n",
              "              style=\"display:none;\">\n",
              "        \n",
              "  <svg xmlns=\"http://www.w3.org/2000/svg\" height=\"24px\"viewBox=\"0 0 24 24\"\n",
              "       width=\"24px\">\n",
              "    <path d=\"M0 0h24v24H0V0z\" fill=\"none\"/>\n",
              "    <path d=\"M18.56 5.44l.94 2.06.94-2.06 2.06-.94-2.06-.94-.94-2.06-.94 2.06-2.06.94zm-11 1L8.5 8.5l.94-2.06 2.06-.94-2.06-.94L8.5 2.5l-.94 2.06-2.06.94zm10 10l.94 2.06.94-2.06 2.06-.94-2.06-.94-.94-2.06-.94 2.06-2.06.94z\"/><path d=\"M17.41 7.96l-1.37-1.37c-.4-.4-.92-.59-1.43-.59-.52 0-1.04.2-1.43.59L10.3 9.45l-7.72 7.72c-.78.78-.78 2.05 0 2.83L4 21.41c.39.39.9.59 1.41.59.51 0 1.02-.2 1.41-.59l7.78-7.78 2.81-2.81c.8-.78.8-2.07 0-2.86zM5.41 20L4 18.59l7.72-7.72 1.47 1.35L5.41 20z\"/>\n",
              "  </svg>\n",
              "      </button>\n",
              "      \n",
              "  <style>\n",
              "    .colab-df-container {\n",
              "      display:flex;\n",
              "      flex-wrap:wrap;\n",
              "      gap: 12px;\n",
              "    }\n",
              "\n",
              "    .colab-df-convert {\n",
              "      background-color: #E8F0FE;\n",
              "      border: none;\n",
              "      border-radius: 50%;\n",
              "      cursor: pointer;\n",
              "      display: none;\n",
              "      fill: #1967D2;\n",
              "      height: 32px;\n",
              "      padding: 0 0 0 0;\n",
              "      width: 32px;\n",
              "    }\n",
              "\n",
              "    .colab-df-convert:hover {\n",
              "      background-color: #E2EBFA;\n",
              "      box-shadow: 0px 1px 2px rgba(60, 64, 67, 0.3), 0px 1px 3px 1px rgba(60, 64, 67, 0.15);\n",
              "      fill: #174EA6;\n",
              "    }\n",
              "\n",
              "    [theme=dark] .colab-df-convert {\n",
              "      background-color: #3B4455;\n",
              "      fill: #D2E3FC;\n",
              "    }\n",
              "\n",
              "    [theme=dark] .colab-df-convert:hover {\n",
              "      background-color: #434B5C;\n",
              "      box-shadow: 0px 1px 3px 1px rgba(0, 0, 0, 0.15);\n",
              "      filter: drop-shadow(0px 1px 2px rgba(0, 0, 0, 0.3));\n",
              "      fill: #FFFFFF;\n",
              "    }\n",
              "  </style>\n",
              "\n",
              "      <script>\n",
              "        const buttonEl =\n",
              "          document.querySelector('#df-91de218d-6f80-4103-a517-426ffbab4ead button.colab-df-convert');\n",
              "        buttonEl.style.display =\n",
              "          google.colab.kernel.accessAllowed ? 'block' : 'none';\n",
              "\n",
              "        async function convertToInteractive(key) {\n",
              "          const element = document.querySelector('#df-91de218d-6f80-4103-a517-426ffbab4ead');\n",
              "          const dataTable =\n",
              "            await google.colab.kernel.invokeFunction('convertToInteractive',\n",
              "                                                     [key], {});\n",
              "          if (!dataTable) return;\n",
              "\n",
              "          const docLinkHtml = 'Like what you see? Visit the ' +\n",
              "            '<a target=\"_blank\" href=https://colab.research.google.com/notebooks/data_table.ipynb>data table notebook</a>'\n",
              "            + ' to learn more about interactive tables.';\n",
              "          element.innerHTML = '';\n",
              "          dataTable['output_type'] = 'display_data';\n",
              "          await google.colab.output.renderOutput(dataTable, element);\n",
              "          const docLink = document.createElement('div');\n",
              "          docLink.innerHTML = docLinkHtml;\n",
              "          element.appendChild(docLink);\n",
              "        }\n",
              "      </script>\n",
              "    </div>\n",
              "  </div>\n",
              "  "
            ]
          },
          "metadata": {},
          "execution_count": 26
        }
      ],
      "source": [
        "df_corr = btc.corr()\n",
        "df_corr"
      ]
    },
    {
      "cell_type": "code",
      "execution_count": 27,
      "id": "ALNBdKKTgrJ4",
      "metadata": {
        "id": "ALNBdKKTgrJ4"
      },
      "outputs": [],
      "source": [
        "with open('./drive/MyDrive/btc.moh','wb') as f :\n",
        "    pickle.dump(btc,f)"
      ]
    },
    {
      "cell_type": "markdown",
      "id": "rqK_xrJWVuck",
      "metadata": {
        "id": "rqK_xrJWVuck"
      },
      "source": [
        "# Load data"
      ]
    },
    {
      "cell_type": "code",
      "execution_count": 32,
      "id": "myUuBS_gWAmT",
      "metadata": {
        "colab": {
          "base_uri": "https://localhost:8080/"
        },
        "id": "myUuBS_gWAmT",
        "outputId": "c349127b-a90c-4bb4-a50d-7c95b0396d14"
      },
      "outputs": [
        {
          "output_type": "stream",
          "name": "stdout",
          "text": [
            "Drive already mounted at /content/drive; to attempt to forcibly remount, call drive.mount(\"/content/drive\", force_remount=True).\n"
          ]
        }
      ],
      "source": [
        "from google.colab import drive\n",
        "drive.mount('/content/drive')\n",
        "with open('./drive/MyDrive/btc.moh','rb') as f :\n",
        "    btc = pickle.load(f)"
      ]
    },
    {
      "cell_type": "code",
      "execution_count": 29,
      "id": "ggfUkZWvnuXz",
      "metadata": {
        "colab": {
          "base_uri": "https://localhost:8080/",
          "height": 143
        },
        "id": "ggfUkZWvnuXz",
        "outputId": "b5e33c91-21ef-4eca-b084-6de54aee0b36"
      },
      "outputs": [
        {
          "output_type": "execute_result",
          "data": {
            "text/plain": [
              "            close_log       close  target_log      target\n",
              "date                                                     \n",
              "2015-10-27   5.679741  292.887484    5.710364  301.991834\n",
              "2015-10-28   5.710364  301.991834    5.738202  310.537530"
            ],
            "text/html": [
              "\n",
              "  <div id=\"df-5ab9f91f-88f3-46b9-99af-f95bfa189b13\">\n",
              "    <div class=\"colab-df-container\">\n",
              "      <div>\n",
              "<style scoped>\n",
              "    .dataframe tbody tr th:only-of-type {\n",
              "        vertical-align: middle;\n",
              "    }\n",
              "\n",
              "    .dataframe tbody tr th {\n",
              "        vertical-align: top;\n",
              "    }\n",
              "\n",
              "    .dataframe thead th {\n",
              "        text-align: right;\n",
              "    }\n",
              "</style>\n",
              "<table border=\"1\" class=\"dataframe\">\n",
              "  <thead>\n",
              "    <tr style=\"text-align: right;\">\n",
              "      <th></th>\n",
              "      <th>close_log</th>\n",
              "      <th>close</th>\n",
              "      <th>target_log</th>\n",
              "      <th>target</th>\n",
              "    </tr>\n",
              "    <tr>\n",
              "      <th>date</th>\n",
              "      <th></th>\n",
              "      <th></th>\n",
              "      <th></th>\n",
              "      <th></th>\n",
              "    </tr>\n",
              "  </thead>\n",
              "  <tbody>\n",
              "    <tr>\n",
              "      <th>2015-10-27</th>\n",
              "      <td>5.679741</td>\n",
              "      <td>292.887484</td>\n",
              "      <td>5.710364</td>\n",
              "      <td>301.991834</td>\n",
              "    </tr>\n",
              "    <tr>\n",
              "      <th>2015-10-28</th>\n",
              "      <td>5.710364</td>\n",
              "      <td>301.991834</td>\n",
              "      <td>5.738202</td>\n",
              "      <td>310.537530</td>\n",
              "    </tr>\n",
              "  </tbody>\n",
              "</table>\n",
              "</div>\n",
              "      <button class=\"colab-df-convert\" onclick=\"convertToInteractive('df-5ab9f91f-88f3-46b9-99af-f95bfa189b13')\"\n",
              "              title=\"Convert this dataframe to an interactive table.\"\n",
              "              style=\"display:none;\">\n",
              "        \n",
              "  <svg xmlns=\"http://www.w3.org/2000/svg\" height=\"24px\"viewBox=\"0 0 24 24\"\n",
              "       width=\"24px\">\n",
              "    <path d=\"M0 0h24v24H0V0z\" fill=\"none\"/>\n",
              "    <path d=\"M18.56 5.44l.94 2.06.94-2.06 2.06-.94-2.06-.94-.94-2.06-.94 2.06-2.06.94zm-11 1L8.5 8.5l.94-2.06 2.06-.94-2.06-.94L8.5 2.5l-.94 2.06-2.06.94zm10 10l.94 2.06.94-2.06 2.06-.94-2.06-.94-.94-2.06-.94 2.06-2.06.94z\"/><path d=\"M17.41 7.96l-1.37-1.37c-.4-.4-.92-.59-1.43-.59-.52 0-1.04.2-1.43.59L10.3 9.45l-7.72 7.72c-.78.78-.78 2.05 0 2.83L4 21.41c.39.39.9.59 1.41.59.51 0 1.02-.2 1.41-.59l7.78-7.78 2.81-2.81c.8-.78.8-2.07 0-2.86zM5.41 20L4 18.59l7.72-7.72 1.47 1.35L5.41 20z\"/>\n",
              "  </svg>\n",
              "      </button>\n",
              "      \n",
              "  <style>\n",
              "    .colab-df-container {\n",
              "      display:flex;\n",
              "      flex-wrap:wrap;\n",
              "      gap: 12px;\n",
              "    }\n",
              "\n",
              "    .colab-df-convert {\n",
              "      background-color: #E8F0FE;\n",
              "      border: none;\n",
              "      border-radius: 50%;\n",
              "      cursor: pointer;\n",
              "      display: none;\n",
              "      fill: #1967D2;\n",
              "      height: 32px;\n",
              "      padding: 0 0 0 0;\n",
              "      width: 32px;\n",
              "    }\n",
              "\n",
              "    .colab-df-convert:hover {\n",
              "      background-color: #E2EBFA;\n",
              "      box-shadow: 0px 1px 2px rgba(60, 64, 67, 0.3), 0px 1px 3px 1px rgba(60, 64, 67, 0.15);\n",
              "      fill: #174EA6;\n",
              "    }\n",
              "\n",
              "    [theme=dark] .colab-df-convert {\n",
              "      background-color: #3B4455;\n",
              "      fill: #D2E3FC;\n",
              "    }\n",
              "\n",
              "    [theme=dark] .colab-df-convert:hover {\n",
              "      background-color: #434B5C;\n",
              "      box-shadow: 0px 1px 3px 1px rgba(0, 0, 0, 0.15);\n",
              "      filter: drop-shadow(0px 1px 2px rgba(0, 0, 0, 0.3));\n",
              "      fill: #FFFFFF;\n",
              "    }\n",
              "  </style>\n",
              "\n",
              "      <script>\n",
              "        const buttonEl =\n",
              "          document.querySelector('#df-5ab9f91f-88f3-46b9-99af-f95bfa189b13 button.colab-df-convert');\n",
              "        buttonEl.style.display =\n",
              "          google.colab.kernel.accessAllowed ? 'block' : 'none';\n",
              "\n",
              "        async function convertToInteractive(key) {\n",
              "          const element = document.querySelector('#df-5ab9f91f-88f3-46b9-99af-f95bfa189b13');\n",
              "          const dataTable =\n",
              "            await google.colab.kernel.invokeFunction('convertToInteractive',\n",
              "                                                     [key], {});\n",
              "          if (!dataTable) return;\n",
              "\n",
              "          const docLinkHtml = 'Like what you see? Visit the ' +\n",
              "            '<a target=\"_blank\" href=https://colab.research.google.com/notebooks/data_table.ipynb>data table notebook</a>'\n",
              "            + ' to learn more about interactive tables.';\n",
              "          element.innerHTML = '';\n",
              "          dataTable['output_type'] = 'display_data';\n",
              "          await google.colab.output.renderOutput(dataTable, element);\n",
              "          const docLink = document.createElement('div');\n",
              "          docLink.innerHTML = docLinkHtml;\n",
              "          element.appendChild(docLink);\n",
              "        }\n",
              "      </script>\n",
              "    </div>\n",
              "  </div>\n",
              "  "
            ]
          },
          "metadata": {},
          "execution_count": 29
        }
      ],
      "source": [
        "btc.head(2)"
      ]
    },
    {
      "cell_type": "code",
      "execution_count": 31,
      "id": "JfV-DAnZn1H0",
      "metadata": {
        "colab": {
          "base_uri": "https://localhost:8080/"
        },
        "id": "JfV-DAnZn1H0",
        "outputId": "f572e1c9-c219-48a3-9f02-9d628d98c32c"
      },
      "outputs": [
        {
          "output_type": "execute_result",
          "data": {
            "text/plain": [
              "Index(['close_log', 'close', 'target_log', 'target'], dtype='object')"
            ]
          },
          "metadata": {},
          "execution_count": 31
        }
      ],
      "source": [
        "btc.columns "
      ]
    },
    {
      "cell_type": "code",
      "source": [
        "btc = btc[:][-516:]"
      ],
      "metadata": {
        "id": "gatc4HSXlaZF"
      },
      "id": "gatc4HSXlaZF",
      "execution_count": 16,
      "outputs": []
    },
    {
      "cell_type": "code",
      "execution_count": 33,
      "id": "B-SsmXeHLbYG",
      "metadata": {
        "id": "B-SsmXeHLbYG"
      },
      "outputs": [],
      "source": [
        "# scaler = MinMaxScaler(feature_range=(0, 1))\n",
        "# StandardScaler\n",
        "scaler = StandardScaler()\n",
        "\n",
        "scaler_t = StandardScaler()\n",
        "btc.close = scaler_t.fit_transform(btc.close.values.reshape(-1,1))\n",
        "btc.target = scaler_t.fit_transform(btc.target.values.reshape(-1,1))\n",
        "\n",
        "scaler_tlog = StandardScaler()\n",
        "btc.close_log = scaler_tlog.fit_transform(btc.close_log.values.reshape(-1,1))\n",
        "btc.target_log = scaler_tlog.transform(btc.target_log.values.reshape(-1,1))\n",
        "\n",
        "\n",
        "# scaler_high = StandardScaler()\n",
        "# btc.high = scaler_high.fit_transform(btc.high.values.reshape(-1,1))\n",
        "\n",
        "# scaler_low = StandardScaler()\n",
        "# btc.low = scaler_low.fit_transform(btc.low.values.reshape(-1,1))\n",
        "\n",
        "\n",
        "# scaler_diff1_log = StandardScaler()\n",
        "# btc.diff1_log = scaler_diff1_log.fit_transform(btc.diff1_log.values.reshape(-1,1))\n",
        "\n",
        "# scaler_diff7_log = StandardScaler()\n",
        "# btc.diff7_log = scaler_diff7_log.fit_transform(btc.diff7_log.values.reshape(-1,1))\n",
        "\n",
        "# scaler_diff30_log = StandardScaler()\n",
        "# btc.diff30_log = scaler_diff30_log.fit_transform(btc.diff30_log.values.reshape(-1,1))\n",
        "\n",
        "\n",
        "\n",
        "\n",
        "# scaler_diff = StandardScaler()\n",
        "# btc.diff7 = scaler_diff.fit_transform(btc.diff7.values.reshape(-1,1))\n",
        "\n",
        "# btc.diff30 = scaler_diff.transform(btc.diff30.values.reshape(-1,1))\n",
        "\n",
        "# btc.diff60 = scaler_diff.transform(btc.diff60.values.reshape(-1,1))\n",
        "\n",
        "# btc.diff100 = scaler_diff.transform(btc.diff100.values.reshape(-1,1))\n",
        "\n",
        "# btc.diff200 = scaler_diff.transform(btc.diff200.values.reshape(-1,1))\n",
        "\n",
        "# btc.diff400 = scaler_diff.transform(btc.diff400.values.reshape(-1,1))\n",
        "\n",
        "# btc.diff600 = scaler_diff.transform(btc.diff600.values.reshape(-1,1))\n",
        "\n",
        "\n",
        "\n",
        "\n",
        "\n",
        "# btc.ema20_clog = scaler_tlog.transform(btc.ema20_clog.values.reshape(-1,1))\n",
        "\n",
        "# btc.ema50_clog = scaler_tlog.transform(btc.ema50_clog.values.reshape(-1,1))\n",
        "\n",
        "# btc.ema100_clog = scaler_tlog.transform(btc.ema100_clog.values.reshape(-1,1))\n",
        "\n",
        "# btc.ema200_clog = scaler_tlog.transform(btc.ema200_clog.values.reshape(-1,1))\n",
        "\n",
        "# btc.ema400_clog = scaler_tlog.transform(btc.ema400_clog.values.reshape(-1,1))\n",
        "\n",
        "# btc.ema600_clog = scaler_tlog.transform(btc.ema600_clog.values.reshape(-1,1))\n",
        "\n",
        "\n",
        "\n",
        "\n",
        "# btc.ema20 = scaler_t.transform(btc.ema20.values.reshape(-1,1))\n",
        "\n",
        "# btc.ema50 = scaler_t.transform(btc.ema50.values.reshape(-1,1))\n",
        "\n",
        "# btc.ema100 = scaler_t.transform(btc.ema100.values.reshape(-1,1))\n",
        "\n",
        "# btc.ema200 = scaler_t.transform(btc.ema200.values.reshape(-1,1))\n",
        "\n",
        "# btc.ema300 = scaler_t.transform(btc.ema300.values.reshape(-1,1))\n",
        "\n",
        "# btc.ema400 = scaler_t.transform(btc.ema300.values.reshape(-1,1))\n",
        "\n",
        "# btc.ema600 = scaler_t.transform(btc.ema600.values.reshape(-1,1))\n",
        "\n",
        "\n",
        "\n",
        "# scaler_rsi = StandardScaler()\n",
        "# btc.rsi14 = scaler_rsi.fit_transform(btc.rsi14.values.reshape(-1,1))\n",
        "\n",
        "# btc.rsi30 = scaler_rsi.transform(btc.rsi30.values.reshape(-1,1))\n",
        "\n",
        "# btc.rsi60 = scaler_rsi.transform(btc.rsi60.values.reshape(-1,1))\n",
        "\n",
        "# btc.rsi90 = scaler_rsi.transform(btc.rsi90.values.reshape(-1,1))\n",
        "\n",
        "\n",
        "\n",
        "\n",
        "# scaler_mom = StandardScaler()\n",
        "# btc.mom10 = scaler_mom.fit_transform(btc.mom10.values.reshape(-1,1))\n",
        "\n",
        "# btc.mom30 = scaler_mom.transform(btc.mom30.values.reshape(-1,1))\n",
        "\n",
        "# btc.mom60 = scaler_mom.transform(btc.mom60.values.reshape(-1,1))\n",
        "\n",
        "# btc.mom90 = scaler_mom.transform(btc.mom90.values.reshape(-1,1))\n",
        "\n",
        "\n",
        "\n",
        "\n",
        "# scaler_atr10 = StandardScaler()\n",
        "# btc.atr10 = scaler_atr10.fit_transform(btc.atr10.values.reshape(-1,1))\n",
        "\n",
        "# scaler_atr30 = StandardScaler()\n",
        "# btc.atr30 = scaler_atr30.fit_transform(btc.atr30.values.reshape(-1,1))\n",
        "\n",
        "# scaler_atr60 = StandardScaler()\n",
        "# btc.atr60 = scaler_atr60.fit_transform(btc.atr60.values.reshape(-1,1))\n",
        "\n",
        "# scaler_atr90 = StandardScaler()\n",
        "# btc.atr90 = scaler_atr90.fit_transform(btc.atr90.values.reshape(-1,1))\n",
        "\n"
      ]
    },
    {
      "cell_type": "code",
      "execution_count": 34,
      "id": "EeZw5ijfpnDR",
      "metadata": {
        "colab": {
          "base_uri": "https://localhost:8080/",
          "height": 143
        },
        "id": "EeZw5ijfpnDR",
        "outputId": "92f73e2e-31b0-4ba8-a86b-bd3cb814c58a"
      },
      "outputs": [
        {
          "output_type": "execute_result",
          "data": {
            "text/plain": [
              "            close_log     close  target_log    target\n",
              "date                                                 \n",
              "2015-10-27  -1.970335 -0.747016   -1.948987 -0.746417\n",
              "2015-10-28  -1.948987 -0.746403   -1.929580 -0.745843"
            ],
            "text/html": [
              "\n",
              "  <div id=\"df-90e03e1b-dc0a-4880-8611-ae3bb9c3f062\">\n",
              "    <div class=\"colab-df-container\">\n",
              "      <div>\n",
              "<style scoped>\n",
              "    .dataframe tbody tr th:only-of-type {\n",
              "        vertical-align: middle;\n",
              "    }\n",
              "\n",
              "    .dataframe tbody tr th {\n",
              "        vertical-align: top;\n",
              "    }\n",
              "\n",
              "    .dataframe thead th {\n",
              "        text-align: right;\n",
              "    }\n",
              "</style>\n",
              "<table border=\"1\" class=\"dataframe\">\n",
              "  <thead>\n",
              "    <tr style=\"text-align: right;\">\n",
              "      <th></th>\n",
              "      <th>close_log</th>\n",
              "      <th>close</th>\n",
              "      <th>target_log</th>\n",
              "      <th>target</th>\n",
              "    </tr>\n",
              "    <tr>\n",
              "      <th>date</th>\n",
              "      <th></th>\n",
              "      <th></th>\n",
              "      <th></th>\n",
              "      <th></th>\n",
              "    </tr>\n",
              "  </thead>\n",
              "  <tbody>\n",
              "    <tr>\n",
              "      <th>2015-10-27</th>\n",
              "      <td>-1.970335</td>\n",
              "      <td>-0.747016</td>\n",
              "      <td>-1.948987</td>\n",
              "      <td>-0.746417</td>\n",
              "    </tr>\n",
              "    <tr>\n",
              "      <th>2015-10-28</th>\n",
              "      <td>-1.948987</td>\n",
              "      <td>-0.746403</td>\n",
              "      <td>-1.929580</td>\n",
              "      <td>-0.745843</td>\n",
              "    </tr>\n",
              "  </tbody>\n",
              "</table>\n",
              "</div>\n",
              "      <button class=\"colab-df-convert\" onclick=\"convertToInteractive('df-90e03e1b-dc0a-4880-8611-ae3bb9c3f062')\"\n",
              "              title=\"Convert this dataframe to an interactive table.\"\n",
              "              style=\"display:none;\">\n",
              "        \n",
              "  <svg xmlns=\"http://www.w3.org/2000/svg\" height=\"24px\"viewBox=\"0 0 24 24\"\n",
              "       width=\"24px\">\n",
              "    <path d=\"M0 0h24v24H0V0z\" fill=\"none\"/>\n",
              "    <path d=\"M18.56 5.44l.94 2.06.94-2.06 2.06-.94-2.06-.94-.94-2.06-.94 2.06-2.06.94zm-11 1L8.5 8.5l.94-2.06 2.06-.94-2.06-.94L8.5 2.5l-.94 2.06-2.06.94zm10 10l.94 2.06.94-2.06 2.06-.94-2.06-.94-.94-2.06-.94 2.06-2.06.94z\"/><path d=\"M17.41 7.96l-1.37-1.37c-.4-.4-.92-.59-1.43-.59-.52 0-1.04.2-1.43.59L10.3 9.45l-7.72 7.72c-.78.78-.78 2.05 0 2.83L4 21.41c.39.39.9.59 1.41.59.51 0 1.02-.2 1.41-.59l7.78-7.78 2.81-2.81c.8-.78.8-2.07 0-2.86zM5.41 20L4 18.59l7.72-7.72 1.47 1.35L5.41 20z\"/>\n",
              "  </svg>\n",
              "      </button>\n",
              "      \n",
              "  <style>\n",
              "    .colab-df-container {\n",
              "      display:flex;\n",
              "      flex-wrap:wrap;\n",
              "      gap: 12px;\n",
              "    }\n",
              "\n",
              "    .colab-df-convert {\n",
              "      background-color: #E8F0FE;\n",
              "      border: none;\n",
              "      border-radius: 50%;\n",
              "      cursor: pointer;\n",
              "      display: none;\n",
              "      fill: #1967D2;\n",
              "      height: 32px;\n",
              "      padding: 0 0 0 0;\n",
              "      width: 32px;\n",
              "    }\n",
              "\n",
              "    .colab-df-convert:hover {\n",
              "      background-color: #E2EBFA;\n",
              "      box-shadow: 0px 1px 2px rgba(60, 64, 67, 0.3), 0px 1px 3px 1px rgba(60, 64, 67, 0.15);\n",
              "      fill: #174EA6;\n",
              "    }\n",
              "\n",
              "    [theme=dark] .colab-df-convert {\n",
              "      background-color: #3B4455;\n",
              "      fill: #D2E3FC;\n",
              "    }\n",
              "\n",
              "    [theme=dark] .colab-df-convert:hover {\n",
              "      background-color: #434B5C;\n",
              "      box-shadow: 0px 1px 3px 1px rgba(0, 0, 0, 0.15);\n",
              "      filter: drop-shadow(0px 1px 2px rgba(0, 0, 0, 0.3));\n",
              "      fill: #FFFFFF;\n",
              "    }\n",
              "  </style>\n",
              "\n",
              "      <script>\n",
              "        const buttonEl =\n",
              "          document.querySelector('#df-90e03e1b-dc0a-4880-8611-ae3bb9c3f062 button.colab-df-convert');\n",
              "        buttonEl.style.display =\n",
              "          google.colab.kernel.accessAllowed ? 'block' : 'none';\n",
              "\n",
              "        async function convertToInteractive(key) {\n",
              "          const element = document.querySelector('#df-90e03e1b-dc0a-4880-8611-ae3bb9c3f062');\n",
              "          const dataTable =\n",
              "            await google.colab.kernel.invokeFunction('convertToInteractive',\n",
              "                                                     [key], {});\n",
              "          if (!dataTable) return;\n",
              "\n",
              "          const docLinkHtml = 'Like what you see? Visit the ' +\n",
              "            '<a target=\"_blank\" href=https://colab.research.google.com/notebooks/data_table.ipynb>data table notebook</a>'\n",
              "            + ' to learn more about interactive tables.';\n",
              "          element.innerHTML = '';\n",
              "          dataTable['output_type'] = 'display_data';\n",
              "          await google.colab.output.renderOutput(dataTable, element);\n",
              "          const docLink = document.createElement('div');\n",
              "          docLink.innerHTML = docLinkHtml;\n",
              "          element.appendChild(docLink);\n",
              "        }\n",
              "      </script>\n",
              "    </div>\n",
              "  </div>\n",
              "  "
            ]
          },
          "metadata": {},
          "execution_count": 34
        }
      ],
      "source": [
        "btc.head(2)"
      ]
    },
    {
      "cell_type": "code",
      "execution_count": 23,
      "id": "a74e9c45",
      "metadata": {
        "colab": {
          "base_uri": "https://localhost:8080/",
          "height": 443
        },
        "execution": {
          "iopub.execute_input": "2021-11-09T08:23:59.443045Z",
          "iopub.status.busy": "2021-11-09T08:23:59.442151Z",
          "iopub.status.idle": "2021-11-09T08:23:59.712867Z",
          "shell.execute_reply": "2021-11-09T08:23:59.713366Z",
          "shell.execute_reply.started": "2021-11-09T07:53:28.211137Z"
        },
        "id": "a74e9c45",
        "outputId": "342a0e09-04b9-48df-f00b-cbed90944b59",
        "papermill": {
          "duration": 0.319696,
          "end_time": "2021-11-09T08:23:59.713546",
          "exception": false,
          "start_time": "2021-11-09T08:23:59.393850",
          "status": "completed"
        },
        "tags": []
      },
      "outputs": [
        {
          "output_type": "execute_result",
          "data": {
            "text/plain": [
              "<matplotlib.legend.Legend at 0x7f6660763d50>"
            ]
          },
          "metadata": {},
          "execution_count": 23
        },
        {
          "output_type": "display_data",
          "data": {
            "text/plain": [
              "<Figure size 1728x504 with 1 Axes>"
            ],
            "image/png": "[encoded data removed]"
          },
          "metadata": {
            "needs_background": "light"
          }
        }
      ],
      "source": [
        "fig, ax = plt.subplots(1, figsize=(24, 7))\n",
        "ax.plot(btc['close'], label='close', linewidth=2)\n",
        "ax.plot(btc['close_log'], label='close_log', linewidth=2)\n",
        "\n",
        "# ax.plot(btc['ema20'], label='ema20', linewidth=2)\n",
        "# ax.plot(btc['ema50'], label='ema50', linewidth=2)\n",
        "# ax.plot(btc['ema100'], label='ema100', linewidth=2)\n",
        "# ax.plot(btc['ema200'], label='ema200', linewidth=2)\n",
        "# ax.plot(btc['ema200'], label='ema300', linewidth=2)\n",
        "# ax.plot(btc['ema300'], label='ema400', linewidth=2)\n",
        "# ax.plot(btc['ema600'], label='ema600', linewidth=2)\n",
        "ax.legend(loc='best', fontsize=16)\n",
        "\n",
        "# fig, ax = plt.subplots(1, figsize=(24, 2))\n",
        "# ax.plot(btc['diff7'], label='diff7', linewidth=2)\n",
        "# ax.plot(btc['diff30'], label='diff30', linewidth=2)\n",
        "# ax.plot(btc['diff60'], label='diff60', linewidth=2)\n",
        "# ax.plot(btc['diff100'], label='diff100', linewidth=2)\n",
        "# ax.plot(btc['diff200'], label='diff200', linewidth=2)\n",
        "# ax.plot(btc['diff400'], label='diff400', linewidth=2)\n",
        "# ax.plot(btc['diff600'], label='diff600', linewidth=2)\n",
        "# ax.legend(loc='best', fontsize=16)\n",
        "\n",
        "\n",
        "# fig, ax = plt.subplots(1, figsize=(24, 7))\n",
        "# ax.plot(btc['rsi14'], label='rsi14', linewidth=2)\n",
        "# ax.plot(btc['rsi30'], label='rsi30', linewidth=2)\n",
        "# ax.plot(btc['rsi60'], label='rsi60', linewidth=2)\n",
        "# ax.plot(btc['rsi90'], label='rsi90', linewidth=2)\n",
        "# ax.legend(loc='best', fontsize=16)\n",
        "\n",
        "# fig, ax = plt.subplots(1, figsize=(24, 2))\n",
        "# ax.plot(btc['mom10'], label='mom10', linewidth=2)\n",
        "# ax.plot(btc['mom30'], label='mom30', linewidth=2)\n",
        "# ax.plot(btc['mom60'], label='mom60', linewidth=2)\n",
        "# ax.plot(btc['mom90'], label='mom90', linewidth=2)\n",
        "# ax.legend(loc='best', fontsize=16)\n",
        "\n"
      ]
    },
    {
      "cell_type": "code",
      "execution_count": 35,
      "id": "BpSVgwju8Yv9",
      "metadata": {
        "collapsed": true,
        "id": "BpSVgwju8Yv9"
      },
      "outputs": [],
      "source": [
        "with open('./drive/MyDrive/btc_stan.moh','wb') as f :\n",
        "    pickle.dump(btc,f)"
      ]
    },
    {
      "cell_type": "markdown",
      "id": "pgHmOgKxDYAo",
      "metadata": {
        "id": "pgHmOgKxDYAo"
      },
      "source": [
        "# creat data lstm"
      ]
    },
    {
      "cell_type": "code",
      "execution_count": 36,
      "id": "bRproMPf8Wg8",
      "metadata": {
        "id": "bRproMPf8Wg8",
        "colab": {
          "base_uri": "https://localhost:8080/"
        },
        "outputId": "04ce051c-5ea2-48fc-af4c-b4e76cb65a2b"
      },
      "outputs": [
        {
          "output_type": "stream",
          "name": "stdout",
          "text": [
            "Drive already mounted at /content/drive; to attempt to forcibly remount, call drive.mount(\"/content/drive\", force_remount=True).\n"
          ]
        }
      ],
      "source": [
        "from google.colab import drive\n",
        "drive.mount('/content/drive')\n",
        "with open('./drive/MyDrive/btc_stan.moh','rb') as f :\n",
        "    btc = pickle.load(f)"
      ]
    },
    {
      "cell_type": "code",
      "execution_count": 37,
      "id": "5pihpUZtif5G",
      "metadata": {
        "id": "5pihpUZtif5G"
      },
      "outputs": [],
      "source": [
        "look_back_ = 90\n",
        "prediction_days = 60\n",
        "future_ = 30\n",
        "\n",
        "\n",
        "df_train_= btc[:][:len(btc)-(prediction_days+future_)]#values.reshape(-1,1)\n",
        "\n",
        "df_test_= btc[:][len(btc)-(prediction_days+future_+look_back_-1):len(btc)-future_]#.values.reshape(-1,1)\n",
        "\n",
        "future_ = btc[:][len(btc)-(future_+look_back_-1):]"
      ]
    },
    {
      "cell_type": "code",
      "execution_count": 38,
      "id": "yoYvHWVXFNJf",
      "metadata": {
        "colab": {
          "base_uri": "https://localhost:8080/"
        },
        "id": "yoYvHWVXFNJf",
        "outputId": "94634609-c419-44ab-9600-dd41c177c41c"
      },
      "outputs": [
        {
          "output_type": "execute_result",
          "data": {
            "text/plain": [
              "Index(['close_log', 'close', 'target_log', 'target'], dtype='object')"
            ]
          },
          "metadata": {},
          "execution_count": 38
        }
      ],
      "source": [
        "df_train_.columns"
      ]
    },
    {
      "cell_type": "code",
      "execution_count": 39,
      "id": "vA-pnvD6EXyv",
      "metadata": {
        "colab": {
          "base_uri": "https://localhost:8080/",
          "height": 143
        },
        "id": "vA-pnvD6EXyv",
        "outputId": "2d06c56c-88a2-4878-d70a-e6211831d2bb"
      },
      "outputs": [
        {
          "output_type": "execute_result",
          "data": {
            "text/plain": [
              "            close_log     close  target_log    target\n",
              "date                                                 \n",
              "2021-05-04   1.682984  2.957685    1.690587  2.989399\n",
              "2021-05-05   1.690587  2.998823    1.703992  3.061692"
            ],
            "text/html": [
              "\n",
              "  <div id=\"df-c2db93ca-f47b-4ebd-a032-14688327a992\">\n",
              "    <div class=\"colab-df-container\">\n",
              "      <div>\n",
              "<style scoped>\n",
              "    .dataframe tbody tr th:only-of-type {\n",
              "        vertical-align: middle;\n",
              "    }\n",
              "\n",
              "    .dataframe tbody tr th {\n",
              "        vertical-align: top;\n",
              "    }\n",
              "\n",
              "    .dataframe thead th {\n",
              "        text-align: right;\n",
              "    }\n",
              "</style>\n",
              "<table border=\"1\" class=\"dataframe\">\n",
              "  <thead>\n",
              "    <tr style=\"text-align: right;\">\n",
              "      <th></th>\n",
              "      <th>close_log</th>\n",
              "      <th>close</th>\n",
              "      <th>target_log</th>\n",
              "      <th>target</th>\n",
              "    </tr>\n",
              "    <tr>\n",
              "      <th>date</th>\n",
              "      <th></th>\n",
              "      <th></th>\n",
              "      <th></th>\n",
              "      <th></th>\n",
              "    </tr>\n",
              "  </thead>\n",
              "  <tbody>\n",
              "    <tr>\n",
              "      <th>2021-05-04</th>\n",
              "      <td>1.682984</td>\n",
              "      <td>2.957685</td>\n",
              "      <td>1.690587</td>\n",
              "      <td>2.989399</td>\n",
              "    </tr>\n",
              "    <tr>\n",
              "      <th>2021-05-05</th>\n",
              "      <td>1.690587</td>\n",
              "      <td>2.998823</td>\n",
              "      <td>1.703992</td>\n",
              "      <td>3.061692</td>\n",
              "    </tr>\n",
              "  </tbody>\n",
              "</table>\n",
              "</div>\n",
              "      <button class=\"colab-df-convert\" onclick=\"convertToInteractive('df-c2db93ca-f47b-4ebd-a032-14688327a992')\"\n",
              "              title=\"Convert this dataframe to an interactive table.\"\n",
              "              style=\"display:none;\">\n",
              "        \n",
              "  <svg xmlns=\"http://www.w3.org/2000/svg\" height=\"24px\"viewBox=\"0 0 24 24\"\n",
              "       width=\"24px\">\n",
              "    <path d=\"M0 0h24v24H0V0z\" fill=\"none\"/>\n",
              "    <path d=\"M18.56 5.44l.94 2.06.94-2.06 2.06-.94-2.06-.94-.94-2.06-.94 2.06-2.06.94zm-11 1L8.5 8.5l.94-2.06 2.06-.94-2.06-.94L8.5 2.5l-.94 2.06-2.06.94zm10 10l.94 2.06.94-2.06 2.06-.94-2.06-.94-.94-2.06-.94 2.06-2.06.94z\"/><path d=\"M17.41 7.96l-1.37-1.37c-.4-.4-.92-.59-1.43-.59-.52 0-1.04.2-1.43.59L10.3 9.45l-7.72 7.72c-.78.78-.78 2.05 0 2.83L4 21.41c.39.39.9.59 1.41.59.51 0 1.02-.2 1.41-.59l7.78-7.78 2.81-2.81c.8-.78.8-2.07 0-2.86zM5.41 20L4 18.59l7.72-7.72 1.47 1.35L5.41 20z\"/>\n",
              "  </svg>\n",
              "      </button>\n",
              "      \n",
              "  <style>\n",
              "    .colab-df-container {\n",
              "      display:flex;\n",
              "      flex-wrap:wrap;\n",
              "      gap: 12px;\n",
              "    }\n",
              "\n",
              "    .colab-df-convert {\n",
              "      background-color: #E8F0FE;\n",
              "      border: none;\n",
              "      border-radius: 50%;\n",
              "      cursor: pointer;\n",
              "      display: none;\n",
              "      fill: #1967D2;\n",
              "      height: 32px;\n",
              "      padding: 0 0 0 0;\n",
              "      width: 32px;\n",
              "    }\n",
              "\n",
              "    .colab-df-convert:hover {\n",
              "      background-color: #E2EBFA;\n",
              "      box-shadow: 0px 1px 2px rgba(60, 64, 67, 0.3), 0px 1px 3px 1px rgba(60, 64, 67, 0.15);\n",
              "      fill: #174EA6;\n",
              "    }\n",
              "\n",
              "    [theme=dark] .colab-df-convert {\n",
              "      background-color: #3B4455;\n",
              "      fill: #D2E3FC;\n",
              "    }\n",
              "\n",
              "    [theme=dark] .colab-df-convert:hover {\n",
              "      background-color: #434B5C;\n",
              "      box-shadow: 0px 1px 3px 1px rgba(0, 0, 0, 0.15);\n",
              "      filter: drop-shadow(0px 1px 2px rgba(0, 0, 0, 0.3));\n",
              "      fill: #FFFFFF;\n",
              "    }\n",
              "  </style>\n",
              "\n",
              "      <script>\n",
              "        const buttonEl =\n",
              "          document.querySelector('#df-c2db93ca-f47b-4ebd-a032-14688327a992 button.colab-df-convert');\n",
              "        buttonEl.style.display =\n",
              "          google.colab.kernel.accessAllowed ? 'block' : 'none';\n",
              "\n",
              "        async function convertToInteractive(key) {\n",
              "          const element = document.querySelector('#df-c2db93ca-f47b-4ebd-a032-14688327a992');\n",
              "          const dataTable =\n",
              "            await google.colab.kernel.invokeFunction('convertToInteractive',\n",
              "                                                     [key], {});\n",
              "          if (!dataTable) return;\n",
              "\n",
              "          const docLinkHtml = 'Like what you see? Visit the ' +\n",
              "            '<a target=\"_blank\" href=https://colab.research.google.com/notebooks/data_table.ipynb>data table notebook</a>'\n",
              "            + ' to learn more about interactive tables.';\n",
              "          element.innerHTML = '';\n",
              "          dataTable['output_type'] = 'display_data';\n",
              "          await google.colab.output.renderOutput(dataTable, element);\n",
              "          const docLink = document.createElement('div');\n",
              "          docLink.innerHTML = docLinkHtml;\n",
              "          element.appendChild(docLink);\n",
              "        }\n",
              "      </script>\n",
              "    </div>\n",
              "  </div>\n",
              "  "
            ]
          },
          "metadata": {},
          "execution_count": 39
        }
      ],
      "source": [
        "col = ['close_log', 'close', 'target_log', 'target']\n",
        "df_train = df_train_[:][col]\n",
        "df_test = df_test_[:][col]\n",
        "future = future_[:][col]\n",
        "df_test.head(2)"
      ]
    },
    {
      "cell_type": "code",
      "execution_count": 48,
      "id": "f3e1e5fa",
      "metadata": {
        "colab": {
          "base_uri": "https://localhost:8080/"
        },
        "execution": {
          "iopub.execute_input": "2021-11-09T08:24:00.120271Z",
          "iopub.status.busy": "2021-11-09T08:24:00.119252Z",
          "iopub.status.idle": "2021-11-09T08:24:00.134344Z",
          "shell.execute_reply": "2021-11-09T08:24:00.133732Z",
          "shell.execute_reply.started": "2021-11-09T07:53:28.462429Z"
        },
        "id": "f3e1e5fa",
        "outputId": "70ab94cc-f27c-48cb-cb0f-f80277b44ed1",
        "papermill": {
          "duration": 0.066879,
          "end_time": "2021-11-09T08:24:00.134486",
          "exception": false,
          "start_time": "2021-11-09T08:24:00.067607",
          "status": "completed"
        },
        "tags": []
      },
      "outputs": [
        {
          "output_type": "stream",
          "name": "stdout",
          "text": [
            "trainX:  (2016, 90, 3)\n",
            "trainY:  (2016,)\n",
            "testX:  (60, 90, 3)\n",
            "testY (60,)\n",
            "futureX:  (30, 90, 3)\n",
            "futureY (30,)\n"
          ]
        }
      ],
      "source": [
        "# # many to one\n",
        "\n",
        "# from collections import deque\n",
        "# def dataset_generator_lstm(dataset, look_back=look_back_):\n",
        "#   sequential_data = [] \n",
        "#   prev_days = deque(maxlen=look_back)\n",
        "#   for i in dataset.values:\n",
        "#     prev_days.append([n for n in i[:-1]])\n",
        "#     if len(prev_days) == look_back:  \n",
        "#       sequential_data.append([np.array(prev_days), i[-1]])\n",
        "#   dataX=[]\n",
        "#   dataY=[]\n",
        "#   for seq, target in sequential_data: \n",
        "#     dataX.append(seq) \n",
        "#     dataY.append(target) \n",
        "#   return np.array(dataX), np.array(dataY)\n",
        "\n",
        "# trainX, trainY = dataset_generator_lstm(df_train)\n",
        "\n",
        "# testX, testY = dataset_generator_lstm(df_test)\n",
        "# # trainX, trainY = trainX[:1740], trainY[:1740]\n",
        "\n",
        "# futureX, futureY = dataset_generator_lstm(future)\n",
        "\n",
        "# print(\"trainX: \", trainX.shape)\n",
        "# print(\"trainY: \", trainY.shape)\n",
        "# print(\"testX: \", testX.shape)\n",
        "# print(\"testY\", testY.shape)\n",
        "# print(\"futureX: \", futureX.shape)\n",
        "# print(\"futureY\", futureY.shape)"
      ]
    },
    {
      "cell_type": "code",
      "source": [
        "# one to one\n",
        "\n",
        "from collections import deque\n",
        "def dataset_generator_lstm(dataset, look_back=look_back_):\n",
        "  sequential_data = [] \n",
        "  sequential_data_log = [] \n",
        "  prev_days = deque(maxlen=look_back)\n",
        "  prev_days_log = deque(maxlen=look_back)\n",
        "\n",
        "  for i in dataset.values:\n",
        "    prev_days_log.append(i[0])\n",
        "    prev_days.append(i[1])\n",
        "\n",
        "    if len(prev_days) == look_back:  \n",
        "      sequential_data_log.append([np.array(prev_days), i[-1]])\n",
        "      sequential_data.append([np.array(prev_days), i[-2]])\n",
        "      \n",
        "      \n",
        "  dataX_log=[]\n",
        "  dataY_log=[]\n",
        "\n",
        "  dataX=[]\n",
        "  dataY=[]\n",
        "\n",
        "  for seq, target in sequential_data_log: \n",
        "    dataX_log.append(seq) \n",
        "    dataY_log.append(target) \n",
        "\n",
        "  for seq, target in sequential_data: \n",
        "    dataX.append(seq) \n",
        "    dataY.append(target) \n",
        "\n",
        "  dataX_log = tf.expand_dims(dataX_log,axis=2)\n",
        "  dataX = tf.expand_dims(dataX,axis=2)\n",
        "\n",
        "  return np.array(dataX_log), np.array(dataY_log), np.array(dataX), np.array(dataY)\n",
        "\n",
        "trainX_log, trainY_log, trainX, trainY = dataset_generator_lstm(df_train)\n",
        "\n",
        "testX_log, testY_log, testX, testY = dataset_generator_lstm(df_test)\n",
        "# trainX, trainY = trainX[:1740], trainY[:1740]\n",
        "\n",
        "futureX_log, futureY_log, futureX, futureY = dataset_generator_lstm(future)\n",
        "\n",
        "print(\"trainX: \", trainX.shape)\n",
        "print(\"trainY: \", trainY.shape)\n",
        "print(\"trainX_log: \", trainX_log.shape)\n",
        "print(\"trainY_log: \", trainY_log.shape)\n",
        "print(\"testX: \", testX.shape)\n",
        "print(\"testY\", testY.shape)\n",
        "print(\"testX_log: \", testX_log.shape)\n",
        "print(\"testY_log\", testY_log.shape)\n",
        "print(\"futureX: \", futureX.shape)\n",
        "print(\"futureY\", futureY.shape)\n",
        "print(\"futureX_log: \", futureX_log.shape)\n",
        "print(\"futureY_log\", futureY_log.shape)"
      ],
      "metadata": {
        "colab": {
          "base_uri": "https://localhost:8080/"
        },
        "id": "SwFdzjKjUhWT",
        "outputId": "273c9105-4ed1-4945-ca9b-1f48fc83f6a5"
      },
      "id": "SwFdzjKjUhWT",
      "execution_count": 49,
      "outputs": [
        {
          "output_type": "stream",
          "name": "stdout",
          "text": [
            "trainX:  (2016, 90, 1)\n",
            "trainY:  (2016,)\n",
            "trainX_log:  (2016, 90, 1)\n",
            "trainY_log:  (2016,)\n",
            "testX:  (60, 90, 1)\n",
            "testY (60,)\n",
            "testX_log:  (60, 90, 1)\n",
            "testY_log (60,)\n",
            "futureX:  (30, 90, 1)\n",
            "futureY (30,)\n",
            "futureX_log:  (30, 90, 1)\n",
            "futureY_log (30,)\n"
          ]
        }
      ]
    },
    {
      "cell_type": "markdown",
      "id": "lLbwlWzN8P6-",
      "metadata": {
        "id": "lLbwlWzN8P6-"
      },
      "source": [
        "# train"
      ]
    },
    {
      "cell_type": "code",
      "execution_count": 94,
      "id": "0c247041",
      "metadata": {
        "colab": {
          "base_uri": "https://localhost:8080/"
        },
        "execution": {
          "iopub.execute_input": "2021-11-09T08:24:01.286885Z",
          "iopub.status.busy": "2021-11-09T08:24:01.285918Z",
          "iopub.status.idle": "2021-11-09T08:24:01.746820Z",
          "shell.execute_reply": "2021-11-09T08:24:01.747339Z",
          "shell.execute_reply.started": "2021-11-09T07:53:28.553350Z"
        },
        "id": "0c247041",
        "outputId": "89e4916f-b87d-4b7f-8ca9-b1c67ce49208",
        "papermill": {
          "duration": 0.51592,
          "end_time": "2021-11-09T08:24:01.747513",
          "exception": false,
          "start_time": "2021-11-09T08:24:01.231593",
          "status": "completed"
        },
        "tags": []
      },
      "outputs": [
        {
          "output_type": "stream",
          "name": "stdout",
          "text": [
            "Model: \"model_4\"\n",
            "__________________________________________________________________________________________________\n",
            " Layer (type)                   Output Shape         Param #     Connected to                     \n",
            "==================================================================================================\n",
            " input_28 (InputLayer)          [(None, 90, 1)]      0           []                               \n",
            "                                                                                                  \n",
            " conv1d_119 (Conv1D)            (None, 90, 30)       930         ['input_28[0][0]']               \n",
            "                                                                                                  \n",
            " conv1d_120 (Conv1D)            (None, 90, 60)       900         ['input_28[0][0]']               \n",
            "                                                                                                  \n",
            " conv1d_121 (Conv1D)            (None, 90, 90)       720         ['input_28[0][0]']               \n",
            "                                                                                                  \n",
            " concatenate_35 (Concatenate)   (None, 90, 180)      0           ['conv1d_119[0][0]',             \n",
            "                                                                  'conv1d_120[0][0]',             \n",
            "                                                                  'conv1d_121[0][0]']             \n",
            "                                                                                                  \n",
            " average_pooling1d_30 (AverageP  (None, 30, 180)     0           ['concatenate_35[0][0]']         \n",
            " ooling1D)                                                                                        \n",
            "                                                                                                  \n",
            " batch_normalization_8 (BatchNo  (None, 30, 180)     720         ['average_pooling1d_30[0][0]']   \n",
            " rmalization)                                                                                     \n",
            "                                                                                                  \n",
            " dropout_7 (Dropout)            (None, 30, 180)      0           ['batch_normalization_8[0][0]']  \n",
            "                                                                                                  \n",
            " conv1d_122 (Conv1D)            (None, 30, 90)       340290      ['dropout_7[0][0]']              \n",
            "                                                                                                  \n",
            " conv1d_123 (Conv1D)            (None, 30, 180)      453780      ['dropout_7[0][0]']              \n",
            "                                                                                                  \n",
            " conv1d_124 (Conv1D)            (None, 30, 270)      340470      ['dropout_7[0][0]']              \n",
            "                                                                                                  \n",
            " concatenate_36 (Concatenate)   (None, 30, 540)      0           ['conv1d_122[0][0]',             \n",
            "                                                                  'conv1d_123[0][0]',             \n",
            "                                                                  'conv1d_124[0][0]']             \n",
            "                                                                                                  \n",
            " average_pooling1d_31 (AverageP  (None, 15, 540)     0           ['concatenate_36[0][0]']         \n",
            " ooling1D)                                                                                        \n",
            "                                                                                                  \n",
            " batch_normalization_9 (BatchNo  (None, 15, 540)     2160        ['average_pooling1d_31[0][0]']   \n",
            " rmalization)                                                                                     \n",
            "                                                                                                  \n",
            " dropout_8 (Dropout)            (None, 15, 540)      0           ['batch_normalization_9[0][0]']  \n",
            "                                                                                                  \n",
            " conv1d_125 (Conv1D)            (None, 15, 270)      3062070     ['dropout_8[0][0]']              \n",
            "                                                                                                  \n",
            " conv1d_126 (Conv1D)            (None, 15, 360)      2721960     ['dropout_8[0][0]']              \n",
            "                                                                                                  \n",
            " conv1d_127 (Conv1D)            (None, 15, 450)      1701450     ['dropout_8[0][0]']              \n",
            "                                                                                                  \n",
            " concatenate_37 (Concatenate)   (None, 15, 1080)     0           ['conv1d_125[0][0]',             \n",
            "                                                                  'conv1d_126[0][0]',             \n",
            "                                                                  'conv1d_127[0][0]']             \n",
            "                                                                                                  \n",
            " average_pooling1d_32 (AverageP  (None, 7, 1080)     0           ['concatenate_37[0][0]']         \n",
            " ooling1D)                                                                                        \n",
            "                                                                                                  \n",
            " batch_normalization_10 (BatchN  (None, 7, 1080)     4320        ['average_pooling1d_32[0][0]']   \n",
            " ormalization)                                                                                    \n",
            "                                                                                                  \n",
            " dropout_9 (Dropout)            (None, 7, 1080)      0           ['batch_normalization_10[0][0]'] \n",
            "                                                                                                  \n",
            " lstm_20 (LSTM)                 (None, 7, 512)       3262464     ['dropout_9[0][0]']              \n",
            "                                                                                                  \n",
            " lstm_21 (LSTM)                 (None, 7, 256)       787456      ['lstm_20[0][0]']                \n",
            "                                                                                                  \n",
            " lstm_22 (LSTM)                 (None, 7, 512)       1574912     ['lstm_21[0][0]']                \n",
            "                                                                                                  \n",
            " lstm_23 (LSTM)                 (None, 7, 256)       787456      ['lstm_22[0][0]']                \n",
            "                                                                                                  \n",
            " lstm_24 (LSTM)                 (None, 7, 512)       1574912     ['lstm_23[0][0]']                \n",
            "                                                                                                  \n",
            " flatten_1 (Flatten)            (None, 3584)         0           ['lstm_24[0][0]']                \n",
            "                                                                                                  \n",
            " batch_normalization_11 (BatchN  (None, 3584)        14336       ['flatten_1[0][0]']              \n",
            " ormalization)                                                                                    \n",
            "                                                                                                  \n",
            " dropout_10 (Dropout)           (None, 3584)         0           ['batch_normalization_11[0][0]'] \n",
            "                                                                                                  \n",
            " dense_7 (Dense)                (None, 256)          917760      ['dropout_10[0][0]']             \n",
            "                                                                                                  \n",
            " batch_normalization_12 (BatchN  (None, 256)         1024        ['dense_7[0][0]']                \n",
            " ormalization)                                                                                    \n",
            "                                                                                                  \n",
            " dropout_11 (Dropout)           (None, 256)          0           ['batch_normalization_12[0][0]'] \n",
            "                                                                                                  \n",
            " dense_8 (Dense)                (None, 64)           16448       ['dropout_11[0][0]']             \n",
            "                                                                                                  \n",
            " batch_normalization_13 (BatchN  (None, 64)          256         ['dense_8[0][0]']                \n",
            " ormalization)                                                                                    \n",
            "                                                                                                  \n",
            " dropout_12 (Dropout)           (None, 64)           0           ['batch_normalization_13[0][0]'] \n",
            "                                                                                                  \n",
            " dense_9 (Dense)                (None, 32)           2080        ['dropout_12[0][0]']             \n",
            "                                                                                                  \n",
            " batch_normalization_14 (BatchN  (None, 32)          128         ['dense_9[0][0]']                \n",
            " ormalization)                                                                                    \n",
            "                                                                                                  \n",
            " dropout_13 (Dropout)           (None, 32)           0           ['batch_normalization_14[0][0]'] \n",
            "                                                                                                  \n",
            " dense_10 (Dense)               (None, 1)            33          ['dropout_13[0][0]']             \n",
            "                                                                                                  \n",
            "==================================================================================================\n",
            "Total params: 17,569,035\n",
            "Trainable params: 17,557,563\n",
            "Non-trainable params: 11,472\n",
            "__________________________________________________________________________________________________\n"
          ]
        }
      ],
      "source": [
        "# batch_size = 60\n",
        "\n",
        "# regressor = Sequential()\n",
        "\n",
        "# regressor.add(LSTM(units = 256, activation = 'relu', return_sequences=True, batch_input_shape = (batch_size, trainX.shape[1], trainX.shape[2]), stateful=True)) #  dropout=0.25, recurrent_dropout=0.1,\n",
        "# regressor.add(Dropout(0.2))\n",
        "\n",
        "# regressor.add(LSTM(units = 512, activation = 'relu', return_sequences=True, batch_input_shape = (batch_size, trainX.shape[1], trainX.shape[2]), stateful=True)) #  dropout=0.25, recurrent_dropout=0.1,\n",
        "# regressor.add(Dropout(0.3))\n",
        "\n",
        "# regressor.add(LSTM(units = 1024, activation = 'relu', return_sequences=True, batch_input_shape = (batch_size, trainX.shape[1], trainX.shape[2]), stateful=True)) #  dropout=0.25, recurrent_dropout=0.1,\n",
        "# regressor.add(Dropout(0.4))\n",
        "\n",
        "# regressor.add(LSTM(units = 128, activation = 'relu', batch_input_shape = (batch_size, trainX.shape[1], trainX.shape[2]), stateful=True))\n",
        "# regressor.add(Dropout(0.2))\n",
        "\n",
        "\n",
        "# regressor.add(Dense(units = 32, activation = 'relu'))\n",
        "# regressor.add(Dropout(0.3))\n",
        "\n",
        "# regressor.add(Dense(units = 1))\n",
        "\n",
        "input1 = Input(shape=trainX_log.shape[1:])\n",
        "\n",
        "conv11 = Conv1D(filters=30,kernel_size=30,padding=\"same\",activation=\"relu\")(input1)\n",
        "conv12 = Conv1D(filters=60,kernel_size=14,padding=\"same\",activation=\"relu\")(input1)\n",
        "conv13 = Conv1D(filters=90,kernel_size=7,padding=\"same\",activation=\"relu\")(input1)\n",
        "\n",
        "conv1 = Concatenate(axis=2)([conv11, conv12, conv13])\n",
        "\n",
        "pool1 = AveragePooling1D(pool_size=61, strides=1, padding=\"valid\", data_format=\"channels_last\")(conv1)\n",
        "\n",
        "norm1 = BatchNormalization()(pool1)\n",
        "drop1 = Dropout(rate=0.3)(norm1)\n",
        "\n",
        "conv21 = Conv1D(filters=90,kernel_size=21,padding=\"same\",activation=\"relu\")(drop1)\n",
        "conv22 = Conv1D(filters=180,kernel_size=14,padding=\"same\",activation=\"relu\")(drop1)\n",
        "conv23 = Conv1D(filters=270,kernel_size=7,padding=\"same\",activation=\"relu\")(drop1)\n",
        "\n",
        "conv2 = Concatenate(axis=2)([conv21, conv22, conv23])\n",
        "\n",
        "pool2 = AveragePooling1D(pool_size=16, strides=1, padding=\"valid\", data_format=\"channels_last\")(conv2)\n",
        "\n",
        "norm2 = BatchNormalization()(pool2)\n",
        "drop2 = Dropout(rate=0.3)(norm2)\n",
        "\n",
        "conv31 = Conv1D(filters=270,kernel_size=21,padding=\"same\",activation=\"relu\")(drop2)\n",
        "conv32 = Conv1D(filters=360,kernel_size=14,padding=\"same\",activation=\"relu\")(drop2)\n",
        "conv33 = Conv1D(filters=450,kernel_size=7,padding=\"same\",activation=\"relu\")(drop2)\n",
        "\n",
        "conv3 = Concatenate(axis=2)([conv31, conv32, conv33])\n",
        "\n",
        "pool3 = AveragePooling1D(pool_size=9, strides=1, padding=\"valid\", data_format=\"channels_last\")(conv3)\n",
        "\n",
        "norm3 = BatchNormalization()(pool3)\n",
        "drop3 = Dropout(rate=0.3)(norm3)\n",
        "\n",
        "lstm1 = LSTM(units = 512, activation = 'relu', return_sequences=True)(drop3)\n",
        "\n",
        "lstm2 = LSTM(units = 256, activation = 'relu', return_sequences=True)(lstm1)\n",
        "\n",
        "lstm3 = LSTM(units = 512, activation = 'relu', return_sequences=True)(lstm2)\n",
        "\n",
        "lstm4 = LSTM(units = 256, activation = 'relu', return_sequences=True)(lstm3)\n",
        "\n",
        "lstm5 = LSTM(units = 512, activation = 'relu', return_sequences=True)(lstm4)\n",
        "\n",
        "flatten = Flatten()(lstm5)\n",
        "norm4 = BatchNormalization()(flatten)\n",
        "drop4 = Dropout(rate=0.3)(norm4)\n",
        "\n",
        "dense1 = Dense(units = 256, activation='relu')(drop4)\n",
        "\n",
        "norm5 = BatchNormalization()(dense1)\n",
        "drop5 = Dropout(rate=0.3)(norm5)\n",
        "\n",
        "dense2 = Dense(units = 64, activation='relu')(drop5)\n",
        "\n",
        "norm5 = BatchNormalization()(dense2)\n",
        "drop5 = Dropout(rate=0.2)(norm5)\n",
        "\n",
        "dense3 = Dense(units = 32, activation='relu')(drop5)\n",
        "\n",
        "norm6 = BatchNormalization()(dense3)\n",
        "drop6 = Dropout(rate=0.2)(norm6)\n",
        "\n",
        "output = Dense(units = 1)(drop6)\n",
        "\n",
        "model = Model(inputs=input1, outputs=output)\n",
        "\n",
        "model.summary()"
      ]
    },
    {
      "cell_type": "code",
      "execution_count": 95,
      "id": "xG7W--s0vF-C",
      "metadata": {
        "id": "xG7W--s0vF-C"
      },
      "outputs": [],
      "source": [
        "from tensorflow.keras.callbacks import ModelCheckpoint, EarlyStopping\n",
        "\n",
        "\n",
        "model.compile(optimizer=tf.keras.optimizers.SGD(), loss = 'mean_squared_error')\n",
        "\n",
        "\n",
        "earlystopping = EarlyStopping(monitor='loss', patience=10, restore_best_weights=True)\n",
        "\n"
      ]
    },
    {
      "cell_type": "code",
      "execution_count": null,
      "id": "737a2ede",
      "metadata": {
        "execution": {
          "iopub.execute_input": "2021-11-09T08:24:01.859939Z",
          "iopub.status.busy": "2021-11-09T08:24:01.859233Z",
          "iopub.status.idle": "2021-11-09T08:24:34.491023Z",
          "shell.execute_reply": "2021-11-09T08:24:34.491550Z",
          "shell.execute_reply.started": "2021-11-09T07:53:29.074954Z"
        },
        "id": "737a2ede",
        "papermill": {
          "duration": 32.69245,
          "end_time": "2021-11-09T08:24:34.491782",
          "exception": false,
          "start_time": "2021-11-09T08:24:01.799332",
          "status": "completed"
        },
        "tags": [],
        "colab": {
          "base_uri": "https://localhost:8080/"
        },
        "outputId": "00e5a86b-d0cf-4902-dfdd-dd47b03b5694"
      },
      "outputs": [
        {
          "output_type": "stream",
          "name": "stdout",
          "text": [
            "Epoch 1/1000\n",
            "2/2 [==============================] - ETA: 0s - loss: 2.2644 \n",
            "Epoch 1: loss improved from inf to 2.26440, saving model to my_best_model_full.hdf5\n",
            "2/2 [==============================] - 104s 47s/step - loss: 2.2644 - val_loss: 5.4276\n",
            "Epoch 2/1000\n",
            "2/2 [==============================] - ETA: 0s - loss: 1.9528 \n",
            "Epoch 2: loss improved from 2.26440 to 1.95281, saving model to my_best_model_full.hdf5\n",
            "2/2 [==============================] - 92s 46s/step - loss: 1.9528 - val_loss: 5.4299\n",
            "Epoch 3/1000\n",
            "2/2 [==============================] - ETA: 0s - loss: 1.5924 \n",
            "Epoch 3: loss improved from 1.95281 to 1.59236, saving model to my_best_model_full.hdf5\n",
            "2/2 [==============================] - 92s 46s/step - loss: 1.5924 - val_loss: 5.4613\n",
            "Epoch 4/1000\n"
          ]
        }
      ],
      "source": [
        "batch_size = 1024\n",
        "\n",
        "checkpoint_full = ModelCheckpoint(filepath='my_best_model_full.hdf5', monitor='loss', verbose=1, save_best_only=True, mode='min')\n",
        "callbacks = [checkpoint_full, earlystopping]\n",
        "\n",
        "history_full = model.fit(trainX_log, trainY_log, batch_size = batch_size, epochs = 1000, verbose=1, shuffle=False, validation_data=(testX_log, testY_log), callbacks=callbacks)\n",
        "\n",
        "# checkpoint365 = ModelCheckpoint(filepath='my_best_model_365.hdf5', monitor='loss', verbose=1, save_best_only=True, mode='min')\n",
        "# callbacks = [checkpoint365, earlystopping]\n",
        "# history365 = regressor.fit(trainX[(len(trainY)-365):], trainY[(len(trainY)-365):], batch_size = batch_size, epochs = 50000, verbose=1, shuffle=False, validation_data=(testX, testY), callbacks=callbacks)"
      ]
    },
    {
      "cell_type": "code",
      "execution_count": null,
      "id": "75ef7aa9",
      "metadata": {
        "colab": {
          "base_uri": "https://localhost:8080/",
          "height": 424
        },
        "execution": {
          "iopub.execute_input": "2021-11-09T08:24:46.325426Z",
          "iopub.status.busy": "2021-11-09T08:24:46.324389Z",
          "iopub.status.idle": "2021-11-09T08:24:46.568908Z",
          "shell.execute_reply": "2021-11-09T08:24:46.569365Z",
          "shell.execute_reply.started": "2021-11-09T07:54:23.288972Z"
        },
        "id": "75ef7aa9",
        "outputId": "e4a23b46-9577-42c0-d078-ee5d62a120af",
        "papermill": {
          "duration": 0.46139,
          "end_time": "2021-11-09T08:24:46.569557",
          "exception": false,
          "start_time": "2021-11-09T08:24:46.108167",
          "status": "completed"
        },
        "tags": []
      },
      "outputs": [
        {
          "output_type": "display_data",
          "data": {
            "text/plain": [
              "<Figure size 1152x504 with 1 Axes>"
            ],
            "image/png": "[encoded data removed]"
          },
          "metadata": {}
        }
      ],
      "source": [
        "plt.figure(figsize=(16,7))\n",
        "plt.plot(history_full.history['loss'], label='train')\n",
        "\n",
        "plt.plot(history_full.history['val_loss'], label='test')\n",
        "plt.legend()\n",
        "plt.show()"
      ]
    },
    {
      "cell_type": "code",
      "execution_count": null,
      "id": "7b511a52",
      "metadata": {
        "execution": {
          "iopub.execute_input": "2021-11-09T08:24:35.370435Z",
          "iopub.status.busy": "2021-11-09T08:24:35.369774Z",
          "iopub.status.idle": "2021-11-09T08:24:45.892279Z",
          "shell.execute_reply": "2021-11-09T08:24:45.892858Z",
          "shell.execute_reply.started": "2021-11-09T07:54:22.907318Z"
        },
        "id": "7b511a52",
        "papermill": {
          "duration": 10.74732,
          "end_time": "2021-11-09T08:24:45.893042",
          "exception": false,
          "start_time": "2021-11-09T08:24:35.145722",
          "status": "completed"
        },
        "tags": []
      },
      "outputs": [],
      "source": [
        "from tensorflow.keras.models import load_model\n",
        "\n",
        "model_from_saved_checkpoint = load_model('my_best_model_full.hdf5')"
      ]
    },
    {
      "cell_type": "markdown",
      "id": "2JHDgEvC8Jzr",
      "metadata": {
        "id": "2JHDgEvC8Jzr"
      },
      "source": [
        "# test test"
      ]
    },
    {
      "cell_type": "code",
      "source": [
        "batch_size = 1\n",
        "\n",
        "\n",
        "model_from_saved_checkpoint = Sequential()\n",
        "\n",
        "\n",
        "model_from_saved_checkpoint.add(LSTM(units = 256, activation = 'relu', return_sequences=True, batch_input_shape = (batch_size, trainX.shape[1], trainX.shape[2]), stateful=True)) #  dropout=0.25, recurrent_dropout=0.1,\n",
        "model_from_saved_checkpoint.add(Dropout(0.2))\n",
        "\n",
        "model_from_saved_checkpoint.add(LSTM(units = 512, activation = 'relu', return_sequences=True, batch_input_shape = (batch_size, trainX.shape[1], trainX.shape[2]), stateful=True)) #  dropout=0.25, recurrent_dropout=0.1,\n",
        "model_from_saved_checkpoint.add(Dropout(0.3))\n",
        "\n",
        "model_from_saved_checkpoint.add(LSTM(units = 1024, activation = 'relu', return_sequences=True, batch_input_shape = (batch_size, trainX.shape[1], trainX.shape[2]), stateful=True)) #  dropout=0.25, recurrent_dropout=0.1,\n",
        "model_from_saved_checkpoint.add(Dropout(0.4))\n",
        "\n",
        "model_from_saved_checkpoint.add(LSTM(units = 128, activation = 'relu', batch_input_shape = (batch_size, trainX.shape[1], trainX.shape[2]), stateful=True))\n",
        "model_from_saved_checkpoint.add(Dropout(0.2))\n",
        "\n",
        "\n",
        "model_from_saved_checkpoint.add(Dense(units = 32, activation = 'relu'))\n",
        "model_from_saved_checkpoint.add(Dropout(0.3))\n",
        "\n",
        "model_from_saved_checkpoint.add(Dense(units = 1))\n",
        "\n",
        "\n",
        "model_from_saved_checkpoint.load_weights('my_best_model_full.hdf5')\n",
        "    \n",
        "model_from_saved_checkpoint.summary()\n",
        "\n"
      ],
      "metadata": {
        "colab": {
          "base_uri": "https://localhost:8080/"
        },
        "id": "hp_Re5CnPF8b",
        "outputId": "0cc6e11f-d956-44c7-868d-8af130bba565"
      },
      "id": "hp_Re5CnPF8b",
      "execution_count": null,
      "outputs": [
        {
          "output_type": "stream",
          "name": "stdout",
          "text": [
            "Model: \"sequential_23\"\n",
            "_________________________________________________________________\n",
            " Layer (type)                Output Shape              Param #   \n",
            "=================================================================\n",
            " lstm_62 (LSTM)              (1, 7, 256)               274432    \n",
            "                                                                 \n",
            " dropout_78 (Dropout)        (1, 7, 256)               0         \n",
            "                                                                 \n",
            " lstm_63 (LSTM)              (1, 7, 512)               1574912   \n",
            "                                                                 \n",
            " dropout_79 (Dropout)        (1, 7, 512)               0         \n",
            "                                                                 \n",
            " lstm_64 (LSTM)              (1, 7, 1024)              6295552   \n",
            "                                                                 \n",
            " dropout_80 (Dropout)        (1, 7, 1024)              0         \n",
            "                                                                 \n",
            " lstm_65 (LSTM)              (1, 128)                  590336    \n",
            "                                                                 \n",
            " dropout_81 (Dropout)        (1, 128)                  0         \n",
            "                                                                 \n",
            " dense_40 (Dense)            (1, 32)                   4128      \n",
            "                                                                 \n",
            " dropout_82 (Dropout)        (1, 32)                   0         \n",
            "                                                                 \n",
            " dense_41 (Dense)            (1, 1)                    33        \n",
            "                                                                 \n",
            "=================================================================\n",
            "Total params: 8,739,393\n",
            "Trainable params: 8,739,393\n",
            "Non-trainable params: 0\n",
            "_________________________________________________________________\n"
          ]
        }
      ]
    },
    {
      "cell_type": "code",
      "execution_count": null,
      "id": "HjGEgA8-u5Bj",
      "metadata": {
        "id": "HjGEgA8-u5Bj"
      },
      "outputs": [],
      "source": [
        "plt.figure(figsize=(16,7))\n",
        "\n",
        "# log\n",
        "predicted_btc_price_test_data = []\n",
        "for i in testX :\n",
        "  predicted_btc_price_test_data.append(model_from_saved_checkpoint.predict(np.expand_dims(i, axis=0)))\n",
        "predicted_btc_price_test_data = scaler_tlog.inverse_transform(np.array(predicted_btc_price_test_data).reshape(-1, 1))\n",
        "test_actual = scaler_tlog.inverse_transform(testY.reshape(-1, 1))\n",
        "\n",
        "plt.plot(np.exp(predicted_btc_price_test_data), 'r', marker='.', label='Predicted Test')\n",
        "plt.plot(np.exp(test_actual), marker='.', label='Actual Test')\n",
        "\n",
        "# # manoal\n",
        "# predicted_btc_price_test_data = model_from_saved_checkpoint.predict(testX)\n",
        "# predicted_btc_price_test_data = scaler_t.inverse_transform(predicted_btc_price_test_data.reshape(-1, 1))\n",
        "# test_actual = scaler_t.inverse_transform(testY.reshape(-1, 1))\n",
        "\n",
        "# plt.plot(predicted_btc_price_test_data, 'r', marker='.', label='Predicted Test')\n",
        "# plt.plot(test_actual, marker='.', label='Actual Test')\n",
        "\n",
        "\n",
        "plt.legend()\n",
        "plt.show()"
      ]
    },
    {
      "cell_type": "markdown",
      "id": "t0-jxnhq79Rz",
      "metadata": {
        "id": "t0-jxnhq79Rz"
      },
      "source": [
        "#test train"
      ]
    },
    {
      "cell_type": "code",
      "execution_count": null,
      "id": "IfHVjwzz6Eqw",
      "metadata": {
        "id": "IfHVjwzz6Eqw"
      },
      "outputs": [],
      "source": [
        "plt.figure(figsize=(24,7))\n",
        "\n",
        "# log\n",
        "predicted_btc_price_train_data = []\n",
        "for i in trainX :\n",
        "  predicted_btc_price_train_data.append(model_from_saved_checkpoint.predict(np.expand_dims(i, axis=0)))\n",
        "predicted_btc_price_train_data = scaler_tlog.inverse_transform(np.array(predicted_btc_price_train_data).reshape(-1, 1))\n",
        "train_actual = scaler_tlog.inverse_transform(trainY.reshape(-1, 1))\n",
        "\n",
        "plt.plot(np.exp(predicted_btc_price_train_data), 'r', marker='.', label='Predicted Test')\n",
        "plt.plot(np.exp(train_actual), marker='.', label='Actual Test')\n",
        "\n",
        "# # manoal\n",
        "# predicted_btc_price_train_data = model_from_saved_checkpoint.predict(trainX)\n",
        "# predicted_btc_price_train_data = scaler_t.inverse_transform(predicted_btc_price_train_data.reshape(-1, 1))\n",
        "# train_actual = scaler_t.inverse_transform(trainY.reshape(-1, 1))\n",
        "\n",
        "# plt.plot(predicted_btc_price_train_data, 'r', marker='.', label='Predicted Test')\n",
        "# plt.plot(train_actual, marker='.', label='Actual Test')\n",
        "\n",
        "\n",
        "plt.legend()\n",
        "plt.show()"
      ]
    },
    {
      "cell_type": "markdown",
      "id": "RbESQNif7sFE",
      "metadata": {
        "id": "RbESQNif7sFE"
      },
      "source": [
        "# score"
      ]
    },
    {
      "cell_type": "markdown",
      "id": "VfWzmxzRmWj9",
      "metadata": {
        "id": "VfWzmxzRmWj9"
      },
      "source": [
        "## log"
      ]
    },
    {
      "cell_type": "code",
      "execution_count": null,
      "id": "f528eac3",
      "metadata": {
        "colab": {
          "base_uri": "https://localhost:8080/"
        },
        "execution": {
          "iopub.execute_input": "2021-11-09T08:24:51.673734Z",
          "iopub.status.busy": "2021-11-09T08:24:51.672794Z",
          "iopub.status.idle": "2021-11-09T08:24:51.678780Z",
          "shell.execute_reply": "2021-11-09T08:24:51.679241Z",
          "shell.execute_reply.started": "2021-11-09T07:54:24.941735Z"
        },
        "id": "f528eac3",
        "outputId": "6214d540-9a07-421f-a738-5f83c158d2e4",
        "papermill": {
          "duration": 0.229983,
          "end_time": "2021-11-09T08:24:51.679408",
          "exception": false,
          "start_time": "2021-11-09T08:24:51.449425",
          "status": "completed"
        },
        "tags": []
      },
      "outputs": [
        {
          "name": "stdout",
          "output_type": "stream",
          "text": [
            "Test RMSE: 2363.389\n"
          ]
        }
      ],
      "source": [
        "rmse_lstm_test = math.sqrt(mean_squared_error(np.exp(test_actual), np.exp(predicted_btc_price_test_data)))\n",
        "\n",
        "print('Test RMSE: %.3f' % rmse_lstm_test)\n"
      ]
    },
    {
      "cell_type": "code",
      "execution_count": null,
      "id": "4694569c",
      "metadata": {
        "colab": {
          "base_uri": "https://localhost:8080/"
        },
        "execution": {
          "iopub.execute_input": "2021-11-09T08:24:52.578248Z",
          "iopub.status.busy": "2021-11-09T08:24:52.577170Z",
          "iopub.status.idle": "2021-11-09T08:24:52.583165Z",
          "shell.execute_reply": "2021-11-09T08:24:52.583695Z",
          "shell.execute_reply.started": "2021-11-09T07:54:24.950091Z"
        },
        "id": "4694569c",
        "outputId": "e6a22ae5-0f2a-47bb-a7cb-e22fab6d0934",
        "papermill": {
          "duration": 0.235012,
          "end_time": "2021-11-09T08:24:52.583860",
          "exception": false,
          "start_time": "2021-11-09T08:24:52.348848",
          "status": "completed"
        },
        "tags": []
      },
      "outputs": [
        {
          "name": "stdout",
          "output_type": "stream",
          "text": [
            "Train RMSE: 1764.024\n"
          ]
        }
      ],
      "source": [
        "rmse_lstm_train = math.sqrt(mean_squared_error(np.exp(train_actual), np.exp(predicted_btc_price_train_data)))\n",
        "\n",
        "print('Train RMSE: %.3f' % rmse_lstm_train)\n"
      ]
    },
    {
      "cell_type": "markdown",
      "id": "EQivOH7Hmdym",
      "metadata": {
        "id": "EQivOH7Hmdym"
      },
      "source": [
        "## manoal"
      ]
    },
    {
      "cell_type": "code",
      "execution_count": null,
      "id": "GwD32lLQmj9V",
      "metadata": {
        "colab": {
          "base_uri": "https://localhost:8080/"
        },
        "execution": {
          "iopub.execute_input": "2021-11-09T08:24:51.673734Z",
          "iopub.status.busy": "2021-11-09T08:24:51.672794Z",
          "iopub.status.idle": "2021-11-09T08:24:51.678780Z",
          "shell.execute_reply": "2021-11-09T08:24:51.679241Z",
          "shell.execute_reply.started": "2021-11-09T07:54:24.941735Z"
        },
        "id": "GwD32lLQmj9V",
        "outputId": "ba8e84ee-d45f-492f-f6ad-45a3cff9dd99",
        "papermill": {
          "duration": 0.229983,
          "end_time": "2021-11-09T08:24:51.679408",
          "exception": false,
          "start_time": "2021-11-09T08:24:51.449425",
          "status": "completed"
        },
        "tags": []
      },
      "outputs": [
        {
          "name": "stdout",
          "output_type": "stream",
          "text": [
            "Test RMSE: 2951.213\n"
          ]
        }
      ],
      "source": [
        "rmse_lstm_test = math.sqrt(mean_squared_error(test_actual, predicted_btc_price_test_data))\n",
        "\n",
        "print('Test RMSE: %.3f' % rmse_lstm_test)\n"
      ]
    },
    {
      "cell_type": "code",
      "execution_count": null,
      "id": "SM8YFgpmmj9W",
      "metadata": {
        "colab": {
          "base_uri": "https://localhost:8080/"
        },
        "execution": {
          "iopub.execute_input": "2021-11-09T08:24:52.578248Z",
          "iopub.status.busy": "2021-11-09T08:24:52.577170Z",
          "iopub.status.idle": "2021-11-09T08:24:52.583165Z",
          "shell.execute_reply": "2021-11-09T08:24:52.583695Z",
          "shell.execute_reply.started": "2021-11-09T07:54:24.950091Z"
        },
        "id": "SM8YFgpmmj9W",
        "outputId": "3a19fa3a-8351-4cb7-87de-b1194fa1544b",
        "papermill": {
          "duration": 0.235012,
          "end_time": "2021-11-09T08:24:52.583860",
          "exception": false,
          "start_time": "2021-11-09T08:24:52.348848",
          "status": "completed"
        },
        "tags": []
      },
      "outputs": [
        {
          "name": "stdout",
          "output_type": "stream",
          "text": [
            "Test RMSE: 1503.741\n"
          ]
        }
      ],
      "source": [
        "rmse_lstm_train = math.sqrt(mean_squared_error(train_actual, predicted_btc_price_train_data))\n",
        "\n",
        "print('Train RMSE: %.3f' % rmse_lstm_train)\n"
      ]
    },
    {
      "cell_type": "markdown",
      "id": "4XLVI0GT8Ccb",
      "metadata": {
        "id": "4XLVI0GT8Ccb"
      },
      "source": [
        "# future"
      ]
    },
    {
      "cell_type": "markdown",
      "id": "0Ff93g4Ab3Xi",
      "metadata": {
        "id": "0Ff93g4Ab3Xi"
      },
      "source": [
        "###### genertor"
      ]
    },
    {
      "cell_type": "code",
      "execution_count": null,
      "id": "w9m_-mGktogC",
      "metadata": {
        "colab": {
          "base_uri": "https://localhost:8080/"
        },
        "id": "w9m_-mGktogC",
        "outputId": "076591d1-517b-4859-fdfc-036c3b7097a6"
      },
      "outputs": [
        {
          "output_type": "execute_result",
          "data": {
            "text/plain": [
              "            close_log     close     diff7    diff30    diff60     ema20  \\\n",
              "date                                                                      \n",
              "2021-09-23   0.761046  0.663726 -1.158030 -1.417543  2.314176  0.773927   \n",
              "2021-09-24   0.727871  0.609843 -1.324427 -1.499827  1.056508  0.758300   \n",
              "2021-09-25   0.709836  0.579737 -1.631801 -1.403597  1.078098  0.741294   \n",
              "2021-09-26   0.716853  0.591316 -1.448610 -1.450877  0.571209  0.727010   \n",
              "2021-09-27   0.741624  0.631575 -0.464058 -1.562966  0.759889  0.717921   \n",
              "2021-09-28   0.686767  0.542980 -0.311340 -1.911607  0.409429  0.701260   \n",
              "2021-09-29   0.682869  0.536844 -0.372307 -1.790034 -0.133323  0.685601   \n",
              "\n",
              "               ema50    ema100    ema200    ema300     mom10     mom60  \\\n",
              "date                                                                     \n",
              "2021-09-23  0.733614  0.649180  0.536531  0.368498 -0.366240  1.843266   \n",
              "2021-09-24  0.728760  0.648401  0.537261  0.370102 -0.836256  0.804859   \n",
              "2021-09-25  0.722916  0.647041  0.537684  0.371495 -1.276958  0.822685   \n",
              "2021-09-26  0.717756  0.645938  0.538217  0.372956 -1.298982  0.404167   \n",
              "2021-09-27  0.714376  0.645653  0.539146  0.374674 -1.078338  0.559952   \n",
              "2021-09-28  0.707654  0.643620  0.539184  0.375792 -1.554563  0.270592   \n",
              "2021-09-29  0.700956  0.641506  0.539161  0.376862 -1.470683 -0.177538   \n",
              "\n",
              "            target_log  \n",
              "date                    \n",
              "2021-09-23    0.727871  \n",
              "2021-09-24    0.709836  \n",
              "2021-09-25    0.716853  \n",
              "2021-09-26    0.741624  \n",
              "2021-09-27    0.686767  \n",
              "2021-09-28    0.682869  \n",
              "2021-09-29    0.732799  "
            ],
            "text/html": [
              "\n",
              "  <div id=\"df-dd01a1ce-cb7d-4ab7-849a-f803b79689ec\">\n",
              "    <div class=\"colab-df-container\">\n",
              "      <div>\n",
              "<style scoped>\n",
              "    .dataframe tbody tr th:only-of-type {\n",
              "        vertical-align: middle;\n",
              "    }\n",
              "\n",
              "    .dataframe tbody tr th {\n",
              "        vertical-align: top;\n",
              "    }\n",
              "\n",
              "    .dataframe thead th {\n",
              "        text-align: right;\n",
              "    }\n",
              "</style>\n",
              "<table border=\"1\" class=\"dataframe\">\n",
              "  <thead>\n",
              "    <tr style=\"text-align: right;\">\n",
              "      <th></th>\n",
              "      <th>close_log</th>\n",
              "      <th>close</th>\n",
              "      <th>diff7</th>\n",
              "      <th>diff30</th>\n",
              "      <th>diff60</th>\n",
              "      <th>ema20</th>\n",
              "      <th>ema50</th>\n",
              "      <th>ema100</th>\n",
              "      <th>ema200</th>\n",
              "      <th>ema300</th>\n",
              "      <th>mom10</th>\n",
              "      <th>mom60</th>\n",
              "      <th>target_log</th>\n",
              "    </tr>\n",
              "    <tr>\n",
              "      <th>date</th>\n",
              "      <th></th>\n",
              "      <th></th>\n",
              "      <th></th>\n",
              "      <th></th>\n",
              "      <th></th>\n",
              "      <th></th>\n",
              "      <th></th>\n",
              "      <th></th>\n",
              "      <th></th>\n",
              "      <th></th>\n",
              "      <th></th>\n",
              "      <th></th>\n",
              "      <th></th>\n",
              "    </tr>\n",
              "  </thead>\n",
              "  <tbody>\n",
              "    <tr>\n",
              "      <th>2021-09-23</th>\n",
              "      <td>0.761046</td>\n",
              "      <td>0.663726</td>\n",
              "      <td>-1.158030</td>\n",
              "      <td>-1.417543</td>\n",
              "      <td>2.314176</td>\n",
              "      <td>0.773927</td>\n",
              "      <td>0.733614</td>\n",
              "      <td>0.649180</td>\n",
              "      <td>0.536531</td>\n",
              "      <td>0.368498</td>\n",
              "      <td>-0.366240</td>\n",
              "      <td>1.843266</td>\n",
              "      <td>0.727871</td>\n",
              "    </tr>\n",
              "    <tr>\n",
              "      <th>2021-09-24</th>\n",
              "      <td>0.727871</td>\n",
              "      <td>0.609843</td>\n",
              "      <td>-1.324427</td>\n",
              "      <td>-1.499827</td>\n",
              "      <td>1.056508</td>\n",
              "      <td>0.758300</td>\n",
              "      <td>0.728760</td>\n",
              "      <td>0.648401</td>\n",
              "      <td>0.537261</td>\n",
              "      <td>0.370102</td>\n",
              "      <td>-0.836256</td>\n",
              "      <td>0.804859</td>\n",
              "      <td>0.709836</td>\n",
              "    </tr>\n",
              "    <tr>\n",
              "      <th>2021-09-25</th>\n",
              "      <td>0.709836</td>\n",
              "      <td>0.579737</td>\n",
              "      <td>-1.631801</td>\n",
              "      <td>-1.403597</td>\n",
              "      <td>1.078098</td>\n",
              "      <td>0.741294</td>\n",
              "      <td>0.722916</td>\n",
              "      <td>0.647041</td>\n",
              "      <td>0.537684</td>\n",
              "      <td>0.371495</td>\n",
              "      <td>-1.276958</td>\n",
              "      <td>0.822685</td>\n",
              "      <td>0.716853</td>\n",
              "    </tr>\n",
              "    <tr>\n",
              "      <th>2021-09-26</th>\n",
              "      <td>0.716853</td>\n",
              "      <td>0.591316</td>\n",
              "      <td>-1.448610</td>\n",
              "      <td>-1.450877</td>\n",
              "      <td>0.571209</td>\n",
              "      <td>0.727010</td>\n",
              "      <td>0.717756</td>\n",
              "      <td>0.645938</td>\n",
              "      <td>0.538217</td>\n",
              "      <td>0.372956</td>\n",
              "      <td>-1.298982</td>\n",
              "      <td>0.404167</td>\n",
              "      <td>0.741624</td>\n",
              "    </tr>\n",
              "    <tr>\n",
              "      <th>2021-09-27</th>\n",
              "      <td>0.741624</td>\n",
              "      <td>0.631575</td>\n",
              "      <td>-0.464058</td>\n",
              "      <td>-1.562966</td>\n",
              "      <td>0.759889</td>\n",
              "      <td>0.717921</td>\n",
              "      <td>0.714376</td>\n",
              "      <td>0.645653</td>\n",
              "      <td>0.539146</td>\n",
              "      <td>0.374674</td>\n",
              "      <td>-1.078338</td>\n",
              "      <td>0.559952</td>\n",
              "      <td>0.686767</td>\n",
              "    </tr>\n",
              "    <tr>\n",
              "      <th>2021-09-28</th>\n",
              "      <td>0.686767</td>\n",
              "      <td>0.542980</td>\n",
              "      <td>-0.311340</td>\n",
              "      <td>-1.911607</td>\n",
              "      <td>0.409429</td>\n",
              "      <td>0.701260</td>\n",
              "      <td>0.707654</td>\n",
              "      <td>0.643620</td>\n",
              "      <td>0.539184</td>\n",
              "      <td>0.375792</td>\n",
              "      <td>-1.554563</td>\n",
              "      <td>0.270592</td>\n",
              "      <td>0.682869</td>\n",
              "    </tr>\n",
              "    <tr>\n",
              "      <th>2021-09-29</th>\n",
              "      <td>0.682869</td>\n",
              "      <td>0.536844</td>\n",
              "      <td>-0.372307</td>\n",
              "      <td>-1.790034</td>\n",
              "      <td>-0.133323</td>\n",
              "      <td>0.685601</td>\n",
              "      <td>0.700956</td>\n",
              "      <td>0.641506</td>\n",
              "      <td>0.539161</td>\n",
              "      <td>0.376862</td>\n",
              "      <td>-1.470683</td>\n",
              "      <td>-0.177538</td>\n",
              "      <td>0.732799</td>\n",
              "    </tr>\n",
              "  </tbody>\n",
              "</table>\n",
              "</div>\n",
              "      <button class=\"colab-df-convert\" onclick=\"convertToInteractive('df-dd01a1ce-cb7d-4ab7-849a-f803b79689ec')\"\n",
              "              title=\"Convert this dataframe to an interactive table.\"\n",
              "              style=\"display:none;\">\n",
              "        \n",
              "  <svg xmlns=\"http://www.w3.org/2000/svg\" height=\"24px\"viewBox=\"0 0 24 24\"\n",
              "       width=\"24px\">\n",
              "    <path d=\"M0 0h24v24H0V0z\" fill=\"none\"/>\n",
              "    <path d=\"M18.56 5.44l.94 2.06.94-2.06 2.06-.94-2.06-.94-.94-2.06-.94 2.06-2.06.94zm-11 1L8.5 8.5l.94-2.06 2.06-.94-2.06-.94L8.5 2.5l-.94 2.06-2.06.94zm10 10l.94 2.06.94-2.06 2.06-.94-2.06-.94-.94-2.06-.94 2.06-2.06.94z\"/><path d=\"M17.41 7.96l-1.37-1.37c-.4-.4-.92-.59-1.43-.59-.52 0-1.04.2-1.43.59L10.3 9.45l-7.72 7.72c-.78.78-.78 2.05 0 2.83L4 21.41c.39.39.9.59 1.41.59.51 0 1.02-.2 1.41-.59l7.78-7.78 2.81-2.81c.8-.78.8-2.07 0-2.86zM5.41 20L4 18.59l7.72-7.72 1.47 1.35L5.41 20z\"/>\n",
              "  </svg>\n",
              "      </button>\n",
              "      \n",
              "  <style>\n",
              "    .colab-df-container {\n",
              "      display:flex;\n",
              "      flex-wrap:wrap;\n",
              "      gap: 12px;\n",
              "    }\n",
              "\n",
              "    .colab-df-convert {\n",
              "      background-color: #E8F0FE;\n",
              "      border: none;\n",
              "      border-radius: 50%;\n",
              "      cursor: pointer;\n",
              "      display: none;\n",
              "      fill: #1967D2;\n",
              "      height: 32px;\n",
              "      padding: 0 0 0 0;\n",
              "      width: 32px;\n",
              "    }\n",
              "\n",
              "    .colab-df-convert:hover {\n",
              "      background-color: #E2EBFA;\n",
              "      box-shadow: 0px 1px 2px rgba(60, 64, 67, 0.3), 0px 1px 3px 1px rgba(60, 64, 67, 0.15);\n",
              "      fill: #174EA6;\n",
              "    }\n",
              "\n",
              "    [theme=dark] .colab-df-convert {\n",
              "      background-color: #3B4455;\n",
              "      fill: #D2E3FC;\n",
              "    }\n",
              "\n",
              "    [theme=dark] .colab-df-convert:hover {\n",
              "      background-color: #434B5C;\n",
              "      box-shadow: 0px 1px 3px 1px rgba(0, 0, 0, 0.15);\n",
              "      filter: drop-shadow(0px 1px 2px rgba(0, 0, 0, 0.3));\n",
              "      fill: #FFFFFF;\n",
              "    }\n",
              "  </style>\n",
              "\n",
              "      <script>\n",
              "        const buttonEl =\n",
              "          document.querySelector('#df-dd01a1ce-cb7d-4ab7-849a-f803b79689ec button.colab-df-convert');\n",
              "        buttonEl.style.display =\n",
              "          google.colab.kernel.accessAllowed ? 'block' : 'none';\n",
              "\n",
              "        async function convertToInteractive(key) {\n",
              "          const element = document.querySelector('#df-dd01a1ce-cb7d-4ab7-849a-f803b79689ec');\n",
              "          const dataTable =\n",
              "            await google.colab.kernel.invokeFunction('convertToInteractive',\n",
              "                                                     [key], {});\n",
              "          if (!dataTable) return;\n",
              "\n",
              "          const docLinkHtml = 'Like what you see? Visit the ' +\n",
              "            '<a target=\"_blank\" href=https://colab.research.google.com/notebooks/data_table.ipynb>data table notebook</a>'\n",
              "            + ' to learn more about interactive tables.';\n",
              "          element.innerHTML = '';\n",
              "          dataTable['output_type'] = 'display_data';\n",
              "          await google.colab.output.renderOutput(dataTable, element);\n",
              "          const docLink = document.createElement('div');\n",
              "          docLink.innerHTML = docLinkHtml;\n",
              "          element.appendChild(docLink);\n",
              "        }\n",
              "      </script>\n",
              "    </div>\n",
              "  </div>\n",
              "  "
            ]
          },
          "metadata": {},
          "execution_count": 266
        }
      ],
      "source": [
        "look_b.tail(7)"
      ]
    },
    {
      "cell_type": "code",
      "execution_count": null,
      "id": "nSQ-YaQi12eP",
      "metadata": {
        "id": "nSQ-YaQi12eP"
      },
      "outputs": [],
      "source": [
        "# def rsi():\n",
        "#   return scaler_rsi.transform(np.array(ta.rsi(pd.Series(data=np.exp(scaler_tlog.inverse_transform(np.array(c_log).reshape(-1,1))).reshape(-1)),length=14))[-1].reshape(-1,1)).reshape(-1,1)\n",
        "\n",
        "def ema20():\n",
        "  return scaler_t.transform(np.array(np.array(ta.ma(\"ema\", pd.Series(data=np.exp(scaler_tlog.inverse_transform(np.array(c_log).reshape(-1,1))).reshape(-1)),length=20))[-1].reshape(-1,1))).reshape(-1,1)\n",
        "\n",
        "def ema50():\n",
        "  return scaler_t.transform(np.array(np.array(ta.ma(\"ema\", pd.Series(data=np.exp(scaler_tlog.inverse_transform(np.array(c_log).reshape(-1,1))).reshape(-1)),length=50))[-1].reshape(-1,1))).reshape(-1,1)\n",
        "\n",
        "def ema100():\n",
        "  return scaler_t.transform(np.array(np.array(ta.ma(\"ema\", pd.Series(data=np.exp(scaler_tlog.inverse_transform(np.array(c_log).reshape(-1,1))).reshape(-1)),length=100))[-1].reshape(-1,1))).reshape(-1,1)\n",
        "\n",
        "def ema200():\n",
        "  return scaler_t.transform(np.array(np.array(ta.ma(\"ema\", pd.Series(data=np.exp(scaler_tlog.inverse_transform(np.array(c_log).reshape(-1,1))).reshape(-1)),length=200))[-1].reshape(-1,1))).reshape(-1,1)\n",
        "\n",
        "def ema300():\n",
        "  return scaler_t.transform(np.array(np.array(ta.ma(\"ema\", pd.Series(data=np.exp(scaler_tlog.inverse_transform(np.array(c_log).reshape(-1,1))).reshape(-1)),length=300))[-1].reshape(-1,1))).reshape(-1,1)\n",
        "\n",
        "\n",
        "def mom10():\n",
        "  return scaler_mom.transform(np.array(np.array(ta.mom(pd.Series(data=np.exp(scaler_tlog.inverse_transform(np.array(c_log).reshape(-1,1))).reshape(-1)),length=10))[-1].reshape(-1,1))).reshape(-1,1)\n",
        "\n",
        "# def mom30():\n",
        "#   return scaler_mom.transform(np.array(np.array(ta.mom(pd.Series(data=np.exp(scaler_tlog.inverse_transform(np.array(c_log).reshape(-1,1))).reshape(-1)),length=30))[-1].reshape(-1,1))).reshape(-1,1)\n",
        "\n",
        "def mom60():\n",
        "  return scaler_mom.transform(np.array(np.array(ta.mom(pd.Series(data=np.exp(scaler_tlog.inverse_transform(np.array(c_log).reshape(-1,1))).reshape(-1)),length=60))[-1].reshape(-1,1))).reshape(-1,1)\n",
        "\n",
        "# def mom90():\n",
        "#   return scaler_mom.transform(np.array(np.array(ta.mom(pd.Series(data=np.exp(scaler_tlog.inverse_transform(np.array(c_log).reshape(-1,1))).reshape(-1)),length=90))[-1].reshape(-1,1))).reshape(-1,1)\n",
        "\n",
        "\n",
        "# def diff1_log(): # target log\n",
        "#   d_old = scaler_tlog.inverse_transform(np.array(c_log)[-1].reshape(-1,1))\n",
        "#   d_new = scaler_tlog.inverse_transform(np.array(per).reshape(-1,1)).reshape(-1,1)\n",
        "#   d = scaler_diff_log.transform(np.array(d_new - d_old).reshape(-1,1))\n",
        "#   return d\n",
        "\n",
        "# def diff7_log(): # target log\n",
        "#   d_old = scaler_tlog.inverse_transform(np.array(c_log)[-7].reshape(-1,1))\n",
        "#   d_new = scaler_tlog.inverse_transform(np.array(per).reshape(-1,1)).reshape(-1,1)\n",
        "#   d = scaler_diff_log.transform(np.array(d_new - d_old).reshape(-1,1))\n",
        "#   return d\n",
        "\n",
        "# def diff30_log(): # target log\n",
        "#   d_old = scaler_tlog.inverse_transform(np.array(c_log)[-30].reshape(-1,1))\n",
        "#   d_new = scaler_tlog.inverse_transform(np.array(per).reshape(-1,1)).reshape(-1,1)\n",
        "#   d = scaler_diff_log.transform(np.array(d_new - d_old).reshape(-1,1))\n",
        "#   return d\n",
        "\n",
        "# def diff1(): # target log\n",
        "#   d_old = np.exp(scaler_tlog.inverse_transform(np.array(c_log)[-1].reshape(-1,1)))\n",
        "#   d_new = np.exp(scaler_tlog.inverse_transform(np.array(per).reshape(-1,1))).reshape(-1,1)\n",
        "#   d = scaler_diff.transform(np.array(d_new - d_old).reshape(-1,1))\n",
        "#   return d\n",
        "\n",
        "def diff7(): # target log\n",
        "  d_old = np.exp(scaler_tlog.inverse_transform(np.array(c_log)[-8].reshape(-1,1)))\n",
        "  d_new = np.exp(scaler_tlog.inverse_transform(np.array(per).reshape(-1,1))).reshape(-1,1)\n",
        "  d = scaler_diff.transform(np.array(d_new - d_old).reshape(-1,1))\n",
        "  return d\n",
        "\n",
        "# def diff20(): # target log\n",
        "#   d_old = np.exp(scaler_tlog.inverse_transform(np.array(c_log)[-21].reshape(-1,1)))\n",
        "#   d_new = np.exp(scaler_tlog.inverse_transform(np.array(per).reshape(-1,1))).reshape(-1,1)\n",
        "#   d = scaler_diff.transform(np.array(d_new - d_old).reshape(-1,1))\n",
        "#   return d\n",
        "\n",
        "def diff30(): # target log\n",
        "  d_old = np.exp(scaler_tlog.inverse_transform(np.array(c_log)[-31].reshape(-1,1)))\n",
        "  d_new = np.exp(scaler_tlog.inverse_transform(np.array(per).reshape(-1,1))).reshape(-1,1)\n",
        "  d = scaler_diff.transform(np.array(d_new - d_old).reshape(-1,1))\n",
        "  return d\n",
        "\n",
        "def diff60(): # target log\n",
        "  d_old = np.exp(scaler_tlog.inverse_transform(np.array(c_log)[-61].reshape(-1,1)))\n",
        "  d_new = np.exp(scaler_tlog.inverse_transform(np.array(per).reshape(-1,1))).reshape(-1,1)\n",
        "  d = scaler_diff.transform(np.array(d_new - d_old).reshape(-1,1))\n",
        "  return d\n",
        "\n",
        "#   def diff90(): # target log\n",
        "#   d_old = np.exp(scaler_tlog.inverse_transform(np.array(c_log)[-91].reshape(-1,1)))\n",
        "#   d_new = np.exp(scaler_tlog.inverse_transform(np.array(per).reshape(-1,1))).reshape(-1,1)\n",
        "#   d = scaler_diff.transform(np.array(d_new - d_old).reshape(-1,1))\n",
        "#   return d\n",
        "\n",
        "\n",
        "def close():\n",
        "  return scaler_t.transform(np.array(np.exp(scaler_tlog.inverse_transform(np.array(per).reshape(-1,1)))).reshape(-1,1))"
      ]
    },
    {
      "cell_type": "markdown",
      "id": "HvDqw9rEvlp1",
      "metadata": {
        "id": "HvDqw9rEvlp1"
      },
      "source": [
        "###### many to one"
      ]
    },
    {
      "cell_type": "code",
      "execution_count": null,
      "id": "tSdGaneS3zms",
      "metadata": {
        "id": "tSdGaneS3zms"
      },
      "outputs": [],
      "source": [
        "from collections import deque\n",
        "\n",
        "maxlen = 400\n",
        "c_log = deque(maxlen=maxlen)\n",
        "\n",
        "for i in range(-maxlen,0,1):\n",
        "  # prev_days.append(scaler.transform(test_actual[i].reshape(-1,1)))\n",
        "  c_log.append(look_b['close_log'].values[i])\n",
        "\n",
        "\n",
        "SEQ_LEN=len(testX[-1])\n",
        "prev_days = deque(maxlen=SEQ_LEN)\n",
        "\n",
        "for i in range(-len(testX[-1]),0,1):\n",
        "  # prev_days.append(scaler.transform(test_actual[i].reshape(-1,1)))\n",
        "  prev_days.append(testX[-1][i])"
      ]
    },
    {
      "cell_type": "code",
      "source": [
        "np.array(col).reshape(-1,)"
      ],
      "metadata": {
        "colab": {
          "base_uri": "https://localhost:8080/"
        },
        "id": "PhUAYS2YV3jo",
        "outputId": "43be3ff3-70e3-41cf-b43b-d6d097af6ee0"
      },
      "id": "PhUAYS2YV3jo",
      "execution_count": null,
      "outputs": [
        {
          "output_type": "execute_result",
          "data": {
            "text/plain": [
              "array(['close_log', 'close', 'diff7', 'diff30', 'diff60', 'ema20',\n",
              "       'ema50', 'ema100', 'ema200', 'ema300', 'mom10', 'target_log'],\n",
              "      dtype='<U10')"
            ]
          },
          "metadata": {},
          "execution_count": 279
        }
      ]
    },
    {
      "cell_type": "code",
      "execution_count": null,
      "id": "mZjpKhwh1qI6",
      "metadata": {
        "id": "mZjpKhwh1qI6"
      },
      "outputs": [],
      "source": [
        "y_p_ = []\n",
        "future_len = 30\n",
        "for i in range(future_len):\n",
        "  x__ = np.array(prev_days).reshape(-1,len(np.array(prev_days)[-1])).astype(np.float32)\n",
        "\n",
        "  per = model_from_saved_checkpoint.predict(np.expand_dims(x__, axis=0))\n",
        "\n",
        "  Close = close()\n",
        "  # Rsi = rsi()\n",
        "  Mom10 = mom10()\n",
        "  # Mom30 = mom30()\n",
        "  Mom60 = mom60()\n",
        "  # Mom90 = mom90()\n",
        "  # Diff1_log = diff1_log()\n",
        "  # Diff7_log = diff7_log()\n",
        "  # Diff30_log = diff30_log()\n",
        "  # Diff1 = diff1()\n",
        "  Diff7 = diff7()\n",
        "  # Diff20 = diff20()\n",
        "  Diff30 = diff30()\n",
        "  Diff60 = diff60()\n",
        "  # Diff90 = diff90()\n",
        "  Ema20 = ema20()\n",
        "  Ema50 = ema50()\n",
        "  Ema100 = ema100()\n",
        "  Ema200 = ema200()\n",
        "  Ema300 = ema300()\n",
        "\n",
        "  prev_days.append(np.array([per.reshape(-1,1), Close, Diff7, Diff30, Diff60, Ema20, Ema50, Ema100, Ema200, Ema300, Mom10]).reshape(-1,)) # Diff30, Diff60, Diff90, Mom30, Mom60, Mom90]) # , Diff1_log, Diff7_log, Diff30_log, Diff1, Diff7, Rsi,\n",
        "  c_log.append(np.array(per).reshape(-1,1))\n",
        "  y_p_.append(per.reshape(-1,1))\n"
      ]
    },
    {
      "cell_type": "code",
      "execution_count": null,
      "id": "wd_Ho0eV1_G8",
      "metadata": {
        "id": "wd_Ho0eV1_G8"
      },
      "outputs": [],
      "source": [
        "# log\n",
        "y_p_ = scaler_tlog.inverse_transform(np.array(y_p_).reshape(-1, 1))\n",
        "# manoal\n",
        "# y_p_ = scaler_t.inverse_transform(np.array(y_p_).reshape(-1, 1))"
      ]
    },
    {
      "cell_type": "markdown",
      "id": "zCLDjXpAZq08",
      "metadata": {
        "id": "zCLDjXpAZq08"
      },
      "source": [
        "###### plot future"
      ]
    },
    {
      "cell_type": "code",
      "execution_count": null,
      "id": "RcXNZ_OckkuZ",
      "metadata": {
        "id": "RcXNZ_OckkuZ"
      },
      "outputs": [],
      "source": [
        "future_actual = scaler_tlog.inverse_transform(futureY.reshape(-1, 1))\n",
        "actual = np.concatenate((train_actual,test_actual,future_actual))\n",
        "predicted_btc_price = np.concatenate((predicted_btc_price_train_data, predicted_btc_price_test_data, np.array(y_p_).reshape(-1,1)), axis=0)"
      ]
    },
    {
      "cell_type": "code",
      "execution_count": null,
      "id": "68fe8243",
      "metadata": {
        "execution": {
          "iopub.execute_input": "2021-11-09T08:24:50.553036Z",
          "iopub.status.busy": "2021-11-09T08:24:50.548756Z",
          "iopub.status.idle": "2021-11-09T08:24:50.791501Z",
          "shell.execute_reply": "2021-11-09T08:24:50.791940Z",
          "shell.execute_reply.started": "2021-11-09T07:54:24.729679Z"
        },
        "id": "68fe8243",
        "papermill": {
          "duration": 0.481274,
          "end_time": "2021-11-09T08:24:50.792100",
          "exception": false,
          "start_time": "2021-11-09T08:24:50.310826",
          "status": "completed"
        },
        "tags": []
      },
      "outputs": [],
      "source": [
        "plt.figure(figsize=(24,7))\n",
        "\n",
        "# log\n",
        "plt.plot(np.exp(actual),'y', marker='.', label='Actual Train')\n",
        "plt.plot(np.exp(predicted_btc_price), 'g', marker='.', label='Predicted Train')\n",
        "# manoal\n",
        "# plt.plot(actual,'y', marker='.', label='Actual Train')\n",
        "# plt.plot(predicted_btc_price, 'g', marker='.', label='Predicted Train')\n",
        "\n",
        "\n",
        "plt.legend()\n",
        "plt.show()"
      ]
    }
  ],
  "metadata": {
    "colab": {
      "collapsed_sections": [
        "H1F56lS_93TS",
        "HfXgO1eM90Iq",
        "rqK_xrJWVuck",
        "RbESQNif7sFE",
        "VfWzmxzRmWj9",
        "EQivOH7Hmdym",
        "0Ff93g4Ab3Xi",
        "HvDqw9rEvlp1"
      ],
      "name": "btc_V0.6.ipynb",
      "provenance": []
    },
    "kernelspec": {
      "display_name": "deep",
      "language": "python",
      "name": "deep"
    },
    "language_info": {
      "codemirror_mode": {
        "name": "ipython",
        "version": 3
      },
      "file_extension": ".py",
      "mimetype": "text/x-python",
      "name": "python",
      "nbconvert_exporter": "python",
      "pygments_lexer": "ipython3",
      "version": "3.9.12"
    },
    "papermill": {
      "default_parameters": {},
      "duration": 155.774638,
      "end_time": "2021-11-09T08:24:56.343239",
      "environment_variables": {},
      "exception": null,
      "input_path": "__notebook__.ipynb",
      "output_path": "__notebook__.ipynb",
      "parameters": {},
      "start_time": "2021-11-09T08:22:20.568601",
      "version": "2.3.3"
    }
  },
  "nbformat": 4,
  "nbformat_minor": 5
}