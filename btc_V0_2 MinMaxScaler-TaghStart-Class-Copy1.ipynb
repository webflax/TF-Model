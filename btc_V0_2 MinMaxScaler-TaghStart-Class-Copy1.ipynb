{
 "cells": [
  {
   "cell_type": "markdown",
   "id": "H1F56lS_93TS",
   "metadata": {
    "id": "H1F56lS_93TS"
   },
   "source": [
    "# lib"
   ]
  },
  {
   "cell_type": "code",
   "execution_count": 58,
   "id": "94bd2b0c",
   "metadata": {
    "execution": {
     "iopub.execute_input": "2021-11-09T08:22:29.385315Z",
     "iopub.status.busy": "2021-11-09T08:22:29.384708Z",
     "iopub.status.idle": "2021-11-09T08:22:37.325011Z",
     "shell.execute_reply": "2021-11-09T08:22:37.325524Z",
     "shell.execute_reply.started": "2021-11-09T08:11:07.476205Z"
    },
    "id": "94bd2b0c",
    "papermill": {
     "duration": 7.986193,
     "end_time": "2021-11-09T08:22:37.325835",
     "exception": false,
     "start_time": "2021-11-09T08:22:29.339642",
     "status": "completed"
    },
    "tags": []
   },
   "outputs": [],
   "source": [
    "import pickle\n",
    "import warnings\n",
    "warnings.filterwarnings('ignore')\n",
    "import os\n",
    "import pandas as pd\n",
    "import numpy as np\n",
    "import math\n",
    "import datetime as dt\n",
    "import matplotlib.pyplot as plt\n",
    "\n",
    "from sklearn.metrics import mean_squared_error, mean_absolute_error, explained_variance_score, r2_score \n",
    "from sklearn.metrics import mean_poisson_deviance, mean_gamma_deviance, accuracy_score\n",
    "from sklearn.preprocessing import MinMaxScaler , StandardScaler\n",
    "\n",
    "from itertools import product\n",
    "import statsmodels.api as sm\n",
    "\n",
    "import tensorflow as tf\n",
    "\n",
    "from tensorflow.keras.models import Sequential\n",
    "from tensorflow.keras.layers import Dense, Dropout\n",
    "from tensorflow.keras.layers import LSTM, Activation, BatchNormalization\n",
    "\n",
    "from itertools import cycle\n",
    "import plotly.offline as py\n",
    "import plotly.graph_objects as go\n",
    "import plotly.express as px\n",
    "from plotly.subplots import make_subplots\n",
    "\n",
    "plt.style.use('seaborn-darkgrid')"
   ]
  },
  {
   "cell_type": "markdown",
   "id": "HfXgO1eM90Iq",
   "metadata": {
    "id": "HfXgO1eM90Iq"
   },
   "source": [
    "# preprocessing data"
   ]
  },
  {
   "cell_type": "code",
   "execution_count": 59,
   "id": "gaAHbz6gBbAe",
   "metadata": {
    "id": "gaAHbz6gBbAe"
   },
   "outputs": [],
   "source": [
    "import pandas_ta as ta"
   ]
  },
  {
   "cell_type": "code",
   "execution_count": 60,
   "id": "xGYj63_oMPEu",
   "metadata": {
    "colab": {
     "base_uri": "https://localhost:8080/"
    },
    "id": "xGYj63_oMPEu",
    "outputId": "7ae5ac4d-1389-40c3-acd4-3f0c84c71ac6"
   },
   "outputs": [],
   "source": [
    "path_to_file = \"btc.csv\""
   ]
  },
  {
   "cell_type": "code",
   "execution_count": 61,
   "id": "300b773c",
   "metadata": {
    "colab": {
     "base_uri": "https://localhost:8080/",
     "height": 206
    },
    "execution": {
     "iopub.execute_input": "2021-11-09T08:22:37.474046Z",
     "iopub.status.busy": "2021-11-09T08:22:37.473162Z",
     "iopub.status.idle": "2021-11-09T08:22:43.282686Z",
     "shell.execute_reply": "2021-11-09T08:22:43.283134Z",
     "shell.execute_reply.started": "2021-11-09T07:52:07.794604Z"
    },
    "id": "300b773c",
    "outputId": "4829e8f0-e8c8-4a23-e490-22902d79535b",
    "papermill": {
     "duration": 5.849088,
     "end_time": "2021-11-09T08:22:43.283293",
     "exception": false,
     "start_time": "2021-11-09T08:22:37.434205",
     "status": "completed"
    },
    "tags": []
   },
   "outputs": [
    {
     "data": {
      "text/html": [
       "<div>\n",
       "<style scoped>\n",
       "    .dataframe tbody tr th:only-of-type {\n",
       "        vertical-align: middle;\n",
       "    }\n",
       "\n",
       "    .dataframe tbody tr th {\n",
       "        vertical-align: top;\n",
       "    }\n",
       "\n",
       "    .dataframe thead th {\n",
       "        text-align: right;\n",
       "    }\n",
       "</style>\n",
       "<table border=\"1\" class=\"dataframe\">\n",
       "  <thead>\n",
       "    <tr style=\"text-align: right;\">\n",
       "      <th></th>\n",
       "      <th>open</th>\n",
       "      <th>high</th>\n",
       "      <th>low</th>\n",
       "      <th>close</th>\n",
       "      <th>Volume BTC</th>\n",
       "    </tr>\n",
       "    <tr>\n",
       "      <th>date</th>\n",
       "      <th></th>\n",
       "      <th></th>\n",
       "      <th></th>\n",
       "      <th></th>\n",
       "      <th></th>\n",
       "    </tr>\n",
       "  </thead>\n",
       "  <tbody>\n",
       "    <tr>\n",
       "      <th>2020-08-28</th>\n",
       "      <td>11332.26</td>\n",
       "      <td>11555.61</td>\n",
       "      <td>11277.95</td>\n",
       "      <td>11536.58</td>\n",
       "      <td>6046.497464</td>\n",
       "    </tr>\n",
       "    <tr>\n",
       "      <th>2020-08-29</th>\n",
       "      <td>11538.74</td>\n",
       "      <td>11592.00</td>\n",
       "      <td>11423.64</td>\n",
       "      <td>11471.71</td>\n",
       "      <td>2095.936003</td>\n",
       "    </tr>\n",
       "    <tr>\n",
       "      <th>2020-08-30</th>\n",
       "      <td>11471.71</td>\n",
       "      <td>11715.69</td>\n",
       "      <td>11458.62</td>\n",
       "      <td>11708.97</td>\n",
       "      <td>2328.657019</td>\n",
       "    </tr>\n",
       "    <tr>\n",
       "      <th>2020-08-31</th>\n",
       "      <td>11713.11</td>\n",
       "      <td>11780.00</td>\n",
       "      <td>11573.39</td>\n",
       "      <td>11655.00</td>\n",
       "      <td>4534.218102</td>\n",
       "    </tr>\n",
       "    <tr>\n",
       "      <th>2020-09-01</th>\n",
       "      <td>11658.48</td>\n",
       "      <td>12065.82</td>\n",
       "      <td>11515.00</td>\n",
       "      <td>11923.96</td>\n",
       "      <td>7960.822380</td>\n",
       "    </tr>\n",
       "  </tbody>\n",
       "</table>\n",
       "</div>"
      ],
      "text/plain": [
       "                open      high       low     close   Volume BTC\n",
       "date                                                           \n",
       "2020-08-28  11332.26  11555.61  11277.95  11536.58  6046.497464\n",
       "2020-08-29  11538.74  11592.00  11423.64  11471.71  2095.936003\n",
       "2020-08-30  11471.71  11715.69  11458.62  11708.97  2328.657019\n",
       "2020-08-31  11713.11  11780.00  11573.39  11655.00  4534.218102\n",
       "2020-09-01  11658.48  12065.82  11515.00  11923.96  7960.822380"
      ]
     },
     "execution_count": 61,
     "metadata": {},
     "output_type": "execute_result"
    }
   ],
   "source": [
    "btc = pd.read_csv(path_to_file, skiprows=1)\n",
    "btc = btc[::-1]\n",
    "btc = btc[2100:]\n",
    "btc = btc.astype({'date': 'datetime64'}).set_index('date')\n",
    "btc = btc.drop(['unix', 'symbol','Volume USD'], axis=1)\n",
    "df = btc\n",
    "df.head()"
   ]
  },
  {
   "cell_type": "code",
   "execution_count": 62,
   "id": "369485c9",
   "metadata": {
    "colab": {
     "base_uri": "https://localhost:8080/",
     "height": 444
    },
    "execution": {
     "iopub.execute_input": "2021-11-09T08:22:45.855884Z",
     "iopub.status.busy": "2021-11-09T08:22:45.855251Z",
     "iopub.status.idle": "2021-11-09T08:23:07.129023Z",
     "shell.execute_reply": "2021-11-09T08:23:07.129522Z",
     "shell.execute_reply.started": "2021-11-09T07:52:15.654405Z"
    },
    "id": "369485c9",
    "outputId": "b5eeb2e9-3df7-4bc0-9c8b-ea85bb8dff72",
    "papermill": {
     "duration": 21.316539,
     "end_time": "2021-11-09T08:23:07.129743",
     "exception": false,
     "start_time": "2021-11-09T08:22:45.813204",
     "status": "completed"
    },
    "tags": []
   },
   "outputs": [
    {
     "data": {
      "text/plain": [
       "<AxesSubplot:title={'center':'Bitcoin Weighted Price'}, xlabel='date'>"
      ]
     },
     "execution_count": 62,
     "metadata": {},
     "output_type": "execute_result"
    },
    {
     "data": {
      "image/png": "[encoded data removed]",
      "text/plain": [
       "<Figure size 1728x504 with 1 Axes>"
      ]
     },
     "metadata": {},
     "output_type": "display_data"
    }
   ],
   "source": [
    "# btc_input_df_datetype.set_index(\"time\").close.plot(figsize=(24,7), title=\"Bitcoin Weighted Price\")\n",
    "btc.close.plot(figsize=(24,7), title=\"Bitcoin Weighted Price\")"
   ]
  },
  {
   "cell_type": "code",
   "execution_count": 63,
   "id": "b0bbcc18",
   "metadata": {
    "scrolled": true
   },
   "outputs": [],
   "source": [
    "dff = (df.iloc[1:].reset_index(drop=True).copy()/df.iloc[:-1].reset_index(drop=True).copy())\n",
    "dff_y = (df.iloc[1:].reset_index(drop=True).copy()/df.iloc[:-1].reset_index(drop=True).copy())\n",
    "\n",
    "scaler = StandardScaler()\n",
    "\n",
    "dff.open = scaler.fit_transform(dff.open.values.reshape(-1,1))\n",
    "\n",
    "dff.high = scaler.fit_transform(dff.high.values.reshape(-1,1))\n",
    "\n",
    "dff.low = scaler.fit_transform(dff.low.values.reshape(-1,1))\n",
    "\n",
    "dff.close = scaler.fit_transform(dff.close.values.reshape(-1,1))\n",
    "\n",
    "dff = dff.drop('Volume BTC',axis=1)\n",
    "\n"
   ]
  },
  {
   "cell_type": "code",
   "execution_count": 64,
   "id": "uXX2Q2TSwnve",
   "metadata": {
    "id": "uXX2Q2TSwnve",
    "scrolled": true
   },
   "outputs": [
    {
     "name": "stdout",
     "output_type": "stream",
     "text": [
      "(570, 30, 4)\n",
      "(570,)\n",
      "(0,)\n",
      "(0,)\n",
      "[0. 1.]\n"
     ]
    },
    {
     "data": {
      "text/plain": [
       "array([[ 0.41002234,  0.03213422,  0.24247557, -0.20258068],\n",
       "       [-0.20786127,  0.25546787,  0.01369428,  0.47384579],\n",
       "       [ 0.48259883,  0.10162116,  0.17511158, -0.17651388],\n",
       "       [-0.17841635,  0.65909454, -0.17449362,  0.53542215],\n",
       "       [ 0.5172696 , -0.33053551, -0.78243614, -1.19129683],\n",
       "       [-1.18981356, -1.25122702, -2.48666171, -2.85187663],\n",
       "       [-2.84552622, -2.21028987, -0.25592661,  0.69198704],\n",
       "       [ 0.70126968, -0.28129002, -0.18028429, -0.76902765],\n",
       "       [-0.78299703, -0.66411241,  0.29610281,  0.17717456],\n",
       "       [ 0.17665136,  0.1172175 , -0.33593034,  0.23516848],\n",
       "       [ 0.2399668 ,  0.02563371, -0.18643685, -0.68536883],\n",
       "       [-0.68163073, -0.32513788,  0.31190745,  0.21846269],\n",
       "       [ 0.18465242,  0.34691934,  0.49754078,  0.21790957],\n",
       "       [ 0.24242105, -0.3055593 , -0.10167282,  0.0674449 ],\n",
       "       [ 0.08841051,  0.14680724,  0.11214888,  0.06644015],\n",
       "       [ 0.05508965,  0.20592189, -0.19315521, -0.32527038],\n",
       "       [-0.32329259,  0.46713067,  0.02267307,  0.78890704],\n",
       "       [ 0.76866019,  0.42128493,  0.76022118,  0.2038033 ],\n",
       "       [ 0.21523664,  0.37287829,  0.05558076,  0.34192497],\n",
       "       [ 0.33525781, -0.18443199,  0.10897815, -0.08398071],\n",
       "       [-0.06506415, -0.09849998,  0.10971801, -0.07977628],\n",
       "       [-0.08634614,  0.32278415,  0.10139897,  0.28550989],\n",
       "       [ 0.25976846, -0.33688743, -0.34433588, -0.41483258],\n",
       "       [-0.40527955, -0.28187134, -1.0702636 , -1.26376161],\n",
       "       [-1.24203248, -1.20606993,  0.0934227 ,  0.24585606],\n",
       "       [ 0.20531214, -0.15029165, -0.53961411, -0.79247005],\n",
       "       [-0.76414728,  0.6545103 ,  0.06831359,  1.22505012],\n",
       "       [ 1.2014499 , -0.15181493,  0.76228263, -0.18773343],\n",
       "       [-0.16439834,  0.12444197,  0.16730166,  0.03650097],\n",
       "       [ 0.03013757, -0.12405396, -0.19181682,  0.06561069]])"
      ]
     },
     "execution_count": 64,
     "metadata": {},
     "output_type": "execute_result"
    }
   ],
   "source": [
    "len_ = 30\n",
    "def train_test_split(df):\n",
    "    split_row = len(df) - int(0.04 * len(df))\n",
    "    train_data = df.iloc[:split_row]\n",
    "    test_data = df.iloc[split_row:]\n",
    "    return train_data, test_data\n",
    "\n",
    "def extract_windows_data(df):\n",
    "    window_data = []\n",
    "    for idx in range(len(df) - len_):\n",
    "        tmp = df[idx: (idx + len_)].copy()\n",
    "        window_data.append(tmp.values)\n",
    "    return np.array(window_data)\n",
    "\n",
    "def prepare_data(df,dff_y):\n",
    "    train_data, test_data = train_test_split(df)\n",
    "    train_data_, test_data_ = train_test_split(dff_y)\n",
    "    X_train = extract_windows_data(train_data)\n",
    "    X_test = extract_windows_data(test_data)\n",
    "    y_train = train_data_['close'][len_:].values\n",
    "    y_test = test_data_['close'][len_:].values\n",
    "    y_train[y_train > 1] = 1\n",
    "    y_train[y_train < 1] = 0\n",
    "    y_test[y_test > 1] = 1\n",
    "    y_test[y_test < 1] = 0\n",
    "    return train_data, test_data, X_train, X_test, y_train, y_test\n",
    "\n",
    "\n",
    "train, test, X_train, X_test, y_train, y_test = prepare_data(dff,dff_y)\n",
    "\n",
    "\n",
    "\n",
    "\n",
    "print(X_train.shape)\n",
    "print(y_train.shape)\n",
    "print(X_test.shape)\n",
    "print(y_test.shape)\n",
    "print(y_train[:2])\n",
    "\n",
    "X_train[0]"
   ]
  },
  {
   "cell_type": "markdown",
   "id": "lLbwlWzN8P6-",
   "metadata": {
    "id": "lLbwlWzN8P6-"
   },
   "source": [
    "# train"
   ]
  },
  {
   "cell_type": "code",
   "execution_count": 65,
   "id": "0c247041",
   "metadata": {
    "colab": {
     "base_uri": "https://localhost:8080/"
    },
    "execution": {
     "iopub.execute_input": "2021-11-09T08:24:01.286885Z",
     "iopub.status.busy": "2021-11-09T08:24:01.285918Z",
     "iopub.status.idle": "2021-11-09T08:24:01.746820Z",
     "shell.execute_reply": "2021-11-09T08:24:01.747339Z",
     "shell.execute_reply.started": "2021-11-09T07:53:28.553350Z"
    },
    "id": "0c247041",
    "outputId": "394e1cda-e0d1-434d-c706-63931f58d66c",
    "papermill": {
     "duration": 0.51592,
     "end_time": "2021-11-09T08:24:01.747513",
     "exception": false,
     "start_time": "2021-11-09T08:24:01.231593",
     "status": "completed"
    },
    "tags": []
   },
   "outputs": [
    {
     "name": "stdout",
     "output_type": "stream",
     "text": [
      "Model: \"sequential_7\"\n",
      "_________________________________________________________________\n",
      " Layer (type)                Output Shape              Param #   \n",
      "=================================================================\n",
      " lstm_17 (LSTM)              (None, 30, 256)           267264    \n",
      "                                                                 \n",
      " batch_normalization_15 (Bat  (None, 30, 256)          1024      \n",
      " chNormalization)                                                \n",
      "                                                                 \n",
      " dropout_21 (Dropout)        (None, 30, 256)           0         \n",
      "                                                                 \n",
      " lstm_18 (LSTM)              (None, 128)               197120    \n",
      "                                                                 \n",
      " batch_normalization_16 (Bat  (None, 128)              512       \n",
      " chNormalization)                                                \n",
      "                                                                 \n",
      " dropout_22 (Dropout)        (None, 128)               0         \n",
      "                                                                 \n",
      " dense_15 (Dense)            (None, 16)                2064      \n",
      "                                                                 \n",
      " activation_11 (Activation)  (None, 16)                0         \n",
      "                                                                 \n",
      " batch_normalization_17 (Bat  (None, 16)               64        \n",
      " chNormalization)                                                \n",
      "                                                                 \n",
      " dense_16 (Dense)            (None, 1)                 17        \n",
      "                                                                 \n",
      " activation_12 (Activation)  (None, 1)                 0         \n",
      "                                                                 \n",
      "=================================================================\n",
      "Total params: 468,065\n",
      "Trainable params: 467,265\n",
      "Non-trainable params: 800\n",
      "_________________________________________________________________\n"
     ]
    }
   ],
   "source": [
    "model = Sequential()\n",
    "\n",
    "\n",
    "model.add(LSTM(256, return_sequences=True, input_shape=(X_train.shape[1], X_train.shape[2])))\n",
    "model.add(BatchNormalization())\n",
    "model.add(Dropout(0.5))\n",
    "\n",
    "model.add(LSTM(128))\n",
    "model.add(BatchNormalization())\n",
    "model.add(Dropout(0.5))\n",
    "\n",
    "model.add(Dense(units=16))\n",
    "model.add(Activation('relu'))\n",
    "model.add(BatchNormalization())\n",
    "\n",
    "model.add(Dense(units=1))\n",
    "model.add(Activation('sigmoid'))\n",
    "\n",
    "\n",
    "model.summary()"
   ]
  },
  {
   "cell_type": "code",
   "execution_count": 66,
   "id": "e51ba6e0",
   "metadata": {},
   "outputs": [],
   "source": [
    "model.compile(loss='binary_crossentropy', optimizer='adam', metrics='accuracy')"
   ]
  },
  {
   "cell_type": "code",
   "execution_count": 67,
   "id": "26563652",
   "metadata": {},
   "outputs": [],
   "source": [
    "from tensorflow.keras.callbacks import ModelCheckpoint, EarlyStopping\n",
    "\n",
    "checkpoint_path = 'my_best_model_.hdf5'\n",
    "\n",
    "checkpoint = ModelCheckpoint(filepath=checkpoint_path, \n",
    "                             monitor='loss',\n",
    "                             verbose=1, \n",
    "                             save_best_only=True,\n",
    "                             mode='min')\n",
    "\n",
    "\n",
    "earlystopping = EarlyStopping(monitor='loss', patience=50, restore_best_weights=True)\n",
    "\n",
    "callbacks = [checkpoint, earlystopping]"
   ]
  },
  {
   "cell_type": "code",
   "execution_count": 71,
   "id": "737a2ede",
   "metadata": {
    "colab": {
     "base_uri": "https://localhost:8080/"
    },
    "execution": {
     "iopub.execute_input": "2021-11-09T08:24:01.859939Z",
     "iopub.status.busy": "2021-11-09T08:24:01.859233Z",
     "iopub.status.idle": "2021-11-09T08:24:34.491023Z",
     "shell.execute_reply": "2021-11-09T08:24:34.491550Z",
     "shell.execute_reply.started": "2021-11-09T07:53:29.074954Z"
    },
    "id": "737a2ede",
    "outputId": "d6da5595-d5d7-41e3-f40f-e8fea0ae7fbf",
    "papermill": {
     "duration": 32.69245,
     "end_time": "2021-11-09T08:24:34.491782",
     "exception": false,
     "start_time": "2021-11-09T08:24:01.799332",
     "status": "completed"
    },
    "tags": []
   },
   "outputs": [
    {
     "name": "stdout",
     "output_type": "stream",
     "text": [
      "Epoch 1/5000\n",
      "5/5 [==============================] - ETA: 0s - loss: 0.0476 - accuracy: 0.9877\n",
      "Epoch 1: loss did not improve from 0.02313\n",
      "5/5 [==============================] - 1s 268ms/step - loss: 0.0476 - accuracy: 0.9877\n",
      "Epoch 2/5000\n",
      "5/5 [==============================] - ETA: 0s - loss: 0.0504 - accuracy: 0.9807\n",
      "Epoch 2: loss did not improve from 0.02313\n",
      "5/5 [==============================] - 1s 255ms/step - loss: 0.0504 - accuracy: 0.9807\n",
      "Epoch 3/5000\n",
      "5/5 [==============================] - ETA: 0s - loss: 0.0572 - accuracy: 0.9754\n",
      "Epoch 3: loss did not improve from 0.02313\n",
      "5/5 [==============================] - 1s 254ms/step - loss: 0.0572 - accuracy: 0.9754\n",
      "Epoch 4/5000\n",
      "5/5 [==============================] - ETA: 0s - loss: 0.0550 - accuracy: 0.9807\n",
      "Epoch 4: loss did not improve from 0.02313\n",
      "5/5 [==============================] - 1s 246ms/step - loss: 0.0550 - accuracy: 0.9807\n",
      "Epoch 5/5000\n",
      "5/5 [==============================] - ETA: 0s - loss: 0.0740 - accuracy: 0.9789\n",
      "Epoch 5: loss did not improve from 0.02313\n",
      "5/5 [==============================] - 1s 255ms/step - loss: 0.0740 - accuracy: 0.9789\n",
      "Epoch 6/5000\n",
      "5/5 [==============================] - ETA: 0s - loss: 0.0496 - accuracy: 0.9825\n",
      "Epoch 6: loss did not improve from 0.02313\n",
      "5/5 [==============================] - 1s 261ms/step - loss: 0.0496 - accuracy: 0.9825\n",
      "Epoch 7/5000\n",
      "5/5 [==============================] - ETA: 0s - loss: 0.0544 - accuracy: 0.9789\n",
      "Epoch 7: loss did not improve from 0.02313\n",
      "5/5 [==============================] - 1s 265ms/step - loss: 0.0544 - accuracy: 0.9789\n",
      "Epoch 8/5000\n",
      "5/5 [==============================] - ETA: 0s - loss: 0.0404 - accuracy: 0.9912\n",
      "Epoch 8: loss did not improve from 0.02313\n",
      "5/5 [==============================] - 1s 246ms/step - loss: 0.0404 - accuracy: 0.9912\n",
      "Epoch 9/5000\n",
      "5/5 [==============================] - ETA: 0s - loss: 0.0687 - accuracy: 0.9702\n",
      "Epoch 9: loss did not improve from 0.02313\n",
      "5/5 [==============================] - 1s 247ms/step - loss: 0.0687 - accuracy: 0.9702\n",
      "Epoch 10/5000\n",
      "5/5 [==============================] - ETA: 0s - loss: 0.0617 - accuracy: 0.9807\n",
      "Epoch 10: loss did not improve from 0.02313\n",
      "5/5 [==============================] - 1s 245ms/step - loss: 0.0617 - accuracy: 0.9807\n",
      "Epoch 11/5000\n",
      "5/5 [==============================] - ETA: 0s - loss: 0.0563 - accuracy: 0.9842\n",
      "Epoch 11: loss did not improve from 0.02313\n",
      "5/5 [==============================] - 1s 253ms/step - loss: 0.0563 - accuracy: 0.9842\n",
      "Epoch 12/5000\n",
      "5/5 [==============================] - ETA: 0s - loss: 0.0507 - accuracy: 0.9860\n",
      "Epoch 12: loss did not improve from 0.02313\n",
      "5/5 [==============================] - 1s 252ms/step - loss: 0.0507 - accuracy: 0.9860\n",
      "Epoch 13/5000\n",
      "5/5 [==============================] - ETA: 0s - loss: 0.0466 - accuracy: 0.9860\n",
      "Epoch 13: loss did not improve from 0.02313\n",
      "5/5 [==============================] - 1s 246ms/step - loss: 0.0466 - accuracy: 0.9860\n",
      "Epoch 14/5000\n",
      "5/5 [==============================] - ETA: 0s - loss: 0.0464 - accuracy: 0.9895\n",
      "Epoch 14: loss did not improve from 0.02313\n",
      "5/5 [==============================] - 1s 254ms/step - loss: 0.0464 - accuracy: 0.9895\n",
      "Epoch 15/5000\n",
      "5/5 [==============================] - ETA: 0s - loss: 0.0484 - accuracy: 0.9807\n",
      "Epoch 15: loss did not improve from 0.02313\n",
      "5/5 [==============================] - 1s 241ms/step - loss: 0.0484 - accuracy: 0.9807\n",
      "Epoch 16/5000\n",
      "5/5 [==============================] - ETA: 0s - loss: 0.0752 - accuracy: 0.9702\n",
      "Epoch 16: loss did not improve from 0.02313\n",
      "5/5 [==============================] - 1s 246ms/step - loss: 0.0752 - accuracy: 0.9702\n",
      "Epoch 17/5000\n",
      "5/5 [==============================] - ETA: 0s - loss: 0.0444 - accuracy: 0.9877\n",
      "Epoch 17: loss did not improve from 0.02313\n",
      "5/5 [==============================] - 1s 252ms/step - loss: 0.0444 - accuracy: 0.9877\n",
      "Epoch 18/5000\n",
      "5/5 [==============================] - ETA: 0s - loss: 0.0584 - accuracy: 0.9737\n",
      "Epoch 18: loss did not improve from 0.02313\n",
      "5/5 [==============================] - 1s 238ms/step - loss: 0.0584 - accuracy: 0.9737\n",
      "Epoch 19/5000\n",
      "5/5 [==============================] - ETA: 0s - loss: 0.0458 - accuracy: 0.9825\n",
      "Epoch 19: loss did not improve from 0.02313\n",
      "5/5 [==============================] - 1s 240ms/step - loss: 0.0458 - accuracy: 0.9825\n",
      "Epoch 20/5000\n",
      "5/5 [==============================] - ETA: 0s - loss: 0.0447 - accuracy: 0.9860\n",
      "Epoch 20: loss did not improve from 0.02313\n",
      "5/5 [==============================] - 1s 231ms/step - loss: 0.0447 - accuracy: 0.9860\n",
      "Epoch 21/5000\n",
      "5/5 [==============================] - ETA: 0s - loss: 0.0438 - accuracy: 0.9807\n",
      "Epoch 21: loss did not improve from 0.02313\n",
      "5/5 [==============================] - 1s 260ms/step - loss: 0.0438 - accuracy: 0.9807\n",
      "Epoch 22/5000\n",
      "5/5 [==============================] - ETA: 0s - loss: 0.0315 - accuracy: 0.9930\n",
      "Epoch 22: loss did not improve from 0.02313\n",
      "5/5 [==============================] - 1s 231ms/step - loss: 0.0315 - accuracy: 0.9930\n",
      "Epoch 23/5000\n",
      "5/5 [==============================] - ETA: 0s - loss: 0.0386 - accuracy: 0.9877\n",
      "Epoch 23: loss did not improve from 0.02313\n",
      "5/5 [==============================] - 1s 249ms/step - loss: 0.0386 - accuracy: 0.9877\n",
      "Epoch 24/5000\n",
      "5/5 [==============================] - ETA: 0s - loss: 0.0260 - accuracy: 0.9930\n",
      "Epoch 24: loss did not improve from 0.02313\n",
      "5/5 [==============================] - 1s 278ms/step - loss: 0.0260 - accuracy: 0.9930\n",
      "Epoch 25/5000\n",
      "5/5 [==============================] - ETA: 0s - loss: 0.0405 - accuracy: 0.9860\n",
      "Epoch 25: loss did not improve from 0.02313\n",
      "5/5 [==============================] - 1s 235ms/step - loss: 0.0405 - accuracy: 0.9860\n",
      "Epoch 26/5000\n",
      "5/5 [==============================] - ETA: 0s - loss: 0.0311 - accuracy: 0.9895\n",
      "Epoch 26: loss did not improve from 0.02313\n",
      "5/5 [==============================] - 1s 274ms/step - loss: 0.0311 - accuracy: 0.9895\n",
      "Epoch 27/5000\n",
      "5/5 [==============================] - ETA: 0s - loss: 0.0300 - accuracy: 0.9930\n",
      "Epoch 27: loss did not improve from 0.02313\n",
      "5/5 [==============================] - 1s 246ms/step - loss: 0.0300 - accuracy: 0.9930\n",
      "Epoch 28/5000\n",
      "5/5 [==============================] - ETA: 0s - loss: 0.0387 - accuracy: 0.9895\n",
      "Epoch 28: loss did not improve from 0.02313\n",
      "5/5 [==============================] - 1s 262ms/step - loss: 0.0387 - accuracy: 0.9895\n",
      "Epoch 29/5000\n",
      "5/5 [==============================] - ETA: 0s - loss: 0.0388 - accuracy: 0.9912\n",
      "Epoch 29: loss did not improve from 0.02313\n",
      "5/5 [==============================] - 1s 251ms/step - loss: 0.0388 - accuracy: 0.9912\n",
      "Epoch 30/5000\n",
      "5/5 [==============================] - ETA: 0s - loss: 0.0410 - accuracy: 0.9860\n",
      "Epoch 30: loss did not improve from 0.02313\n",
      "5/5 [==============================] - 1s 261ms/step - loss: 0.0410 - accuracy: 0.9860\n",
      "Epoch 31/5000\n",
      "5/5 [==============================] - ETA: 0s - loss: 0.0444 - accuracy: 0.9877\n",
      "Epoch 31: loss did not improve from 0.02313\n",
      "5/5 [==============================] - 1s 278ms/step - loss: 0.0444 - accuracy: 0.9877\n",
      "Epoch 32/5000\n",
      "5/5 [==============================] - ETA: 0s - loss: 0.0387 - accuracy: 0.9877\n",
      "Epoch 32: loss did not improve from 0.02313\n",
      "5/5 [==============================] - 1s 297ms/step - loss: 0.0387 - accuracy: 0.9877\n",
      "Epoch 33/5000\n",
      "5/5 [==============================] - ETA: 0s - loss: 0.0271 - accuracy: 0.9912\n",
      "Epoch 33: loss did not improve from 0.02313\n",
      "5/5 [==============================] - 2s 304ms/step - loss: 0.0271 - accuracy: 0.9912\n",
      "Epoch 34/5000\n",
      "5/5 [==============================] - ETA: 0s - loss: 0.0368 - accuracy: 0.9860\n",
      "Epoch 34: loss did not improve from 0.02313\n",
      "5/5 [==============================] - 1s 277ms/step - loss: 0.0368 - accuracy: 0.9860\n",
      "Epoch 35/5000\n",
      "5/5 [==============================] - ETA: 0s - loss: 0.0305 - accuracy: 0.9877\n",
      "Epoch 35: loss did not improve from 0.02313\n",
      "5/5 [==============================] - 1s 253ms/step - loss: 0.0305 - accuracy: 0.9877\n",
      "Epoch 36/5000\n",
      "5/5 [==============================] - ETA: 0s - loss: 0.0579 - accuracy: 0.9807\n",
      "Epoch 36: loss did not improve from 0.02313\n",
      "5/5 [==============================] - 1s 253ms/step - loss: 0.0579 - accuracy: 0.9807\n",
      "Epoch 37/5000\n"
     ]
    },
    {
     "name": "stdout",
     "output_type": "stream",
     "text": [
      "5/5 [==============================] - ETA: 0s - loss: 0.0375 - accuracy: 0.9860\n",
      "Epoch 37: loss did not improve from 0.02313\n",
      "5/5 [==============================] - 1s 251ms/step - loss: 0.0375 - accuracy: 0.9860\n",
      "Epoch 38/5000\n",
      "5/5 [==============================] - ETA: 0s - loss: 0.0487 - accuracy: 0.9825\n",
      "Epoch 38: loss did not improve from 0.02313\n",
      "5/5 [==============================] - 1s 241ms/step - loss: 0.0487 - accuracy: 0.9825\n",
      "Epoch 39/5000\n",
      "5/5 [==============================] - ETA: 0s - loss: 0.0479 - accuracy: 0.9825\n",
      "Epoch 39: loss did not improve from 0.02313\n",
      "5/5 [==============================] - 1s 256ms/step - loss: 0.0479 - accuracy: 0.9825\n",
      "Epoch 40/5000\n",
      "5/5 [==============================] - ETA: 0s - loss: 0.0425 - accuracy: 0.9877\n",
      "Epoch 40: loss did not improve from 0.02313\n",
      "5/5 [==============================] - 1s 253ms/step - loss: 0.0425 - accuracy: 0.9877\n",
      "Epoch 41/5000\n",
      "5/5 [==============================] - ETA: 0s - loss: 0.0400 - accuracy: 0.9860\n",
      "Epoch 41: loss did not improve from 0.02313\n",
      "5/5 [==============================] - 1s 254ms/step - loss: 0.0400 - accuracy: 0.9860\n",
      "Epoch 42/5000\n",
      "5/5 [==============================] - ETA: 0s - loss: 0.0518 - accuracy: 0.9825\n",
      "Epoch 42: loss did not improve from 0.02313\n",
      "5/5 [==============================] - 1s 250ms/step - loss: 0.0518 - accuracy: 0.9825\n",
      "Epoch 43/5000\n",
      "5/5 [==============================] - ETA: 0s - loss: 0.0587 - accuracy: 0.9737\n",
      "Epoch 43: loss did not improve from 0.02313\n",
      "5/5 [==============================] - 1s 246ms/step - loss: 0.0587 - accuracy: 0.9737\n",
      "Epoch 44/5000\n",
      "5/5 [==============================] - ETA: 0s - loss: 0.0474 - accuracy: 0.9860\n",
      "Epoch 44: loss did not improve from 0.02313\n",
      "5/5 [==============================] - 1s 272ms/step - loss: 0.0474 - accuracy: 0.9860\n",
      "Epoch 45/5000\n",
      "5/5 [==============================] - ETA: 0s - loss: 0.0501 - accuracy: 0.9842\n",
      "Epoch 45: loss did not improve from 0.02313\n",
      "5/5 [==============================] - 1s 268ms/step - loss: 0.0501 - accuracy: 0.9842\n",
      "Epoch 46/5000\n",
      "5/5 [==============================] - ETA: 0s - loss: 0.0541 - accuracy: 0.9754\n",
      "Epoch 46: loss did not improve from 0.02313\n",
      "5/5 [==============================] - 1s 293ms/step - loss: 0.0541 - accuracy: 0.9754\n",
      "Epoch 47/5000\n",
      "5/5 [==============================] - ETA: 0s - loss: 0.0394 - accuracy: 0.9842\n",
      "Epoch 47: loss did not improve from 0.02313\n",
      "5/5 [==============================] - 1s 265ms/step - loss: 0.0394 - accuracy: 0.9842\n",
      "Epoch 48/5000\n",
      "5/5 [==============================] - ETA: 0s - loss: 0.0328 - accuracy: 0.9912\n",
      "Epoch 48: loss did not improve from 0.02313\n",
      "5/5 [==============================] - 1s 258ms/step - loss: 0.0328 - accuracy: 0.9912\n",
      "Epoch 49/5000\n",
      "5/5 [==============================] - ETA: 0s - loss: 0.0416 - accuracy: 0.9842\n",
      "Epoch 49: loss did not improve from 0.02313\n",
      "5/5 [==============================] - 1s 278ms/step - loss: 0.0416 - accuracy: 0.9842\n",
      "Epoch 50/5000\n",
      "5/5 [==============================] - ETA: 0s - loss: 0.0438 - accuracy: 0.9860\n",
      "Epoch 50: loss did not improve from 0.02313\n",
      "5/5 [==============================] - 2s 302ms/step - loss: 0.0438 - accuracy: 0.9860\n",
      "Epoch 51/5000\n",
      "5/5 [==============================] - ETA: 0s - loss: 0.0333 - accuracy: 0.9895\n",
      "Epoch 51: loss did not improve from 0.02313\n",
      "5/5 [==============================] - 1s 281ms/step - loss: 0.0333 - accuracy: 0.9895\n",
      "Epoch 52/5000\n",
      "5/5 [==============================] - ETA: 0s - loss: 0.0281 - accuracy: 0.9947\n",
      "Epoch 52: loss did not improve from 0.02313\n",
      "5/5 [==============================] - 2s 299ms/step - loss: 0.0281 - accuracy: 0.9947\n",
      "Epoch 53/5000\n",
      "5/5 [==============================] - ETA: 0s - loss: 0.0333 - accuracy: 0.9912\n",
      "Epoch 53: loss did not improve from 0.02313\n",
      "5/5 [==============================] - 1s 279ms/step - loss: 0.0333 - accuracy: 0.9912\n",
      "Epoch 54/5000\n",
      "5/5 [==============================] - ETA: 0s - loss: 0.0612 - accuracy: 0.9772\n",
      "Epoch 54: loss did not improve from 0.02313\n",
      "5/5 [==============================] - 1s 269ms/step - loss: 0.0612 - accuracy: 0.9772\n",
      "Epoch 55/5000\n",
      "5/5 [==============================] - ETA: 0s - loss: 0.0612 - accuracy: 0.9719\n",
      "Epoch 55: loss did not improve from 0.02313\n",
      "5/5 [==============================] - 1s 284ms/step - loss: 0.0612 - accuracy: 0.9719\n",
      "Epoch 56/5000\n",
      "5/5 [==============================] - ETA: 0s - loss: 0.0837 - accuracy: 0.9702\n",
      "Epoch 56: loss did not improve from 0.02313\n",
      "5/5 [==============================] - 1s 273ms/step - loss: 0.0837 - accuracy: 0.9702\n",
      "Epoch 57/5000\n",
      "5/5 [==============================] - ETA: 0s - loss: 0.0523 - accuracy: 0.9807\n",
      "Epoch 57: loss did not improve from 0.02313\n",
      "5/5 [==============================] - 1s 251ms/step - loss: 0.0523 - accuracy: 0.9807\n",
      "Epoch 58/5000\n",
      "5/5 [==============================] - ETA: 0s - loss: 0.0718 - accuracy: 0.9719\n",
      "Epoch 58: loss did not improve from 0.02313\n",
      "5/5 [==============================] - 1s 261ms/step - loss: 0.0718 - accuracy: 0.9719\n",
      "Epoch 59/5000\n",
      "5/5 [==============================] - ETA: 0s - loss: 0.0819 - accuracy: 0.9719\n",
      "Epoch 59: loss did not improve from 0.02313\n",
      "5/5 [==============================] - 1s 254ms/step - loss: 0.0819 - accuracy: 0.9719\n",
      "Epoch 60/5000\n",
      "5/5 [==============================] - ETA: 0s - loss: 0.0841 - accuracy: 0.9702\n",
      "Epoch 60: loss did not improve from 0.02313\n",
      "5/5 [==============================] - 1s 267ms/step - loss: 0.0841 - accuracy: 0.9702\n",
      "Epoch 61/5000\n",
      "5/5 [==============================] - ETA: 0s - loss: 0.0513 - accuracy: 0.9860\n",
      "Epoch 61: loss did not improve from 0.02313\n",
      "5/5 [==============================] - 1s 254ms/step - loss: 0.0513 - accuracy: 0.9860\n",
      "Epoch 62/5000\n",
      "5/5 [==============================] - ETA: 0s - loss: 0.0471 - accuracy: 0.9912\n",
      "Epoch 62: loss did not improve from 0.02313\n",
      "5/5 [==============================] - 1s 254ms/step - loss: 0.0471 - accuracy: 0.9912\n",
      "Epoch 63/5000\n",
      "5/5 [==============================] - ETA: 0s - loss: 0.0682 - accuracy: 0.9807\n",
      "Epoch 63: loss did not improve from 0.02313\n",
      "5/5 [==============================] - 1s 256ms/step - loss: 0.0682 - accuracy: 0.9807\n",
      "Epoch 64/5000\n",
      "5/5 [==============================] - ETA: 0s - loss: 0.0301 - accuracy: 0.9895\n",
      "Epoch 64: loss did not improve from 0.02313\n",
      "5/5 [==============================] - 1s 253ms/step - loss: 0.0301 - accuracy: 0.9895\n",
      "Epoch 65/5000\n",
      "5/5 [==============================] - ETA: 0s - loss: 0.0633 - accuracy: 0.9754\n",
      "Epoch 65: loss did not improve from 0.02313\n",
      "5/5 [==============================] - 1s 262ms/step - loss: 0.0633 - accuracy: 0.9754\n",
      "Epoch 66/5000\n",
      "5/5 [==============================] - ETA: 0s - loss: 0.0680 - accuracy: 0.9702\n",
      "Epoch 66: loss did not improve from 0.02313\n",
      "5/5 [==============================] - 1s 250ms/step - loss: 0.0680 - accuracy: 0.9702\n",
      "Epoch 67/5000\n",
      "5/5 [==============================] - ETA: 0s - loss: 0.0426 - accuracy: 0.9860\n",
      "Epoch 67: loss did not improve from 0.02313\n",
      "5/5 [==============================] - 1s 272ms/step - loss: 0.0426 - accuracy: 0.9860\n",
      "Epoch 68/5000\n",
      "5/5 [==============================] - ETA: 0s - loss: 0.0434 - accuracy: 0.9825\n",
      "Epoch 68: loss did not improve from 0.02313\n",
      "5/5 [==============================] - 1s 269ms/step - loss: 0.0434 - accuracy: 0.9825\n",
      "Epoch 69/5000\n",
      "5/5 [==============================] - ETA: 0s - loss: 0.0309 - accuracy: 0.9912\n",
      "Epoch 69: loss did not improve from 0.02313\n",
      "5/5 [==============================] - 1s 273ms/step - loss: 0.0309 - accuracy: 0.9912\n",
      "Epoch 70/5000\n",
      "5/5 [==============================] - ETA: 0s - loss: 0.0616 - accuracy: 0.9772\n",
      "Epoch 70: loss did not improve from 0.02313\n",
      "5/5 [==============================] - 1s 284ms/step - loss: 0.0616 - accuracy: 0.9772\n",
      "Epoch 71/5000\n",
      "5/5 [==============================] - ETA: 0s - loss: 0.0404 - accuracy: 0.9842\n",
      "Epoch 71: loss did not improve from 0.02313\n",
      "5/5 [==============================] - 1s 287ms/step - loss: 0.0404 - accuracy: 0.9842\n",
      "Epoch 72/5000\n",
      "5/5 [==============================] - ETA: 0s - loss: 0.0479 - accuracy: 0.9807\n",
      "Epoch 72: loss did not improve from 0.02313\n",
      "5/5 [==============================] - 1s 261ms/step - loss: 0.0479 - accuracy: 0.9807\n",
      "Epoch 73/5000\n"
     ]
    },
    {
     "name": "stdout",
     "output_type": "stream",
     "text": [
      "5/5 [==============================] - ETA: 0s - loss: 0.0388 - accuracy: 0.9877\n",
      "Epoch 73: loss did not improve from 0.02313\n",
      "5/5 [==============================] - 1s 278ms/step - loss: 0.0388 - accuracy: 0.9877\n",
      "Epoch 74/5000\n",
      "5/5 [==============================] - ETA: 0s - loss: 0.0338 - accuracy: 0.9877\n",
      "Epoch 74: loss did not improve from 0.02313\n",
      "5/5 [==============================] - 1s 270ms/step - loss: 0.0338 - accuracy: 0.9877\n"
     ]
    }
   ],
   "source": [
    "history = model.fit(X_train, y_train, epochs=5000, batch_size=128, shuffle=True,\n",
    "                    validation_data=(X_test,y_test), callbacks=callbacks)"
   ]
  },
  {
   "cell_type": "code",
   "execution_count": 72,
   "id": "75ef7aa9",
   "metadata": {
    "colab": {
     "base_uri": "https://localhost:8080/",
     "height": 424
    },
    "execution": {
     "iopub.execute_input": "2021-11-09T08:24:46.325426Z",
     "iopub.status.busy": "2021-11-09T08:24:46.324389Z",
     "iopub.status.idle": "2021-11-09T08:24:46.568908Z",
     "shell.execute_reply": "2021-11-09T08:24:46.569365Z",
     "shell.execute_reply.started": "2021-11-09T07:54:23.288972Z"
    },
    "id": "75ef7aa9",
    "outputId": "7f914584-d0c3-4305-c3a1-8772a515cfe9",
    "papermill": {
     "duration": 0.46139,
     "end_time": "2021-11-09T08:24:46.569557",
     "exception": false,
     "start_time": "2021-11-09T08:24:46.108167",
     "status": "completed"
    },
    "tags": []
   },
   "outputs": [
    {
     "data": {
      "image/png": "[encoded data removed]",
      "text/plain": [
       "<Figure size 1152x504 with 1 Axes>"
      ]
     },
     "metadata": {},
     "output_type": "display_data"
    }
   ],
   "source": [
    "plt.figure(figsize=(16,7))\n",
    "plt.plot(history.history['loss'], label='train')\n",
    "\n",
    "# plt.plot(history.history['val_loss'], label='test')\n",
    "plt.legend()\n",
    "plt.show()"
   ]
  },
  {
   "cell_type": "code",
   "execution_count": null,
   "id": "421e5382",
   "metadata": {},
   "outputs": [],
   "source": []
  }
 ],
 "metadata": {
  "colab": {
   "collapsed_sections": [
    "H1F56lS_93TS",
    "HfXgO1eM90Iq",
    "rqK_xrJWVuck",
    "lLbwlWzN8P6-",
    "2JHDgEvC8Jzr",
    "RbESQNif7sFE"
   ],
   "name": "btc V0.2 (priceLog tp priceLog).ipynb",
   "provenance": []
  },
  "kernelspec": {
   "display_name": "Python 3 (ipykernel)",
   "language": "python",
   "name": "python3"
  },
  "language_info": {
   "codemirror_mode": {
    "name": "ipython",
    "version": 3
   },
   "file_extension": ".py",
   "mimetype": "text/x-python",
   "name": "python",
   "nbconvert_exporter": "python",
   "pygments_lexer": "ipython3",
   "version": "3.9.7"
  },
  "papermill": {
   "default_parameters": {},
   "duration": 155.774638,
   "end_time": "2021-11-09T08:24:56.343239",
   "environment_variables": {},
   "exception": null,
   "input_path": "__notebook__.ipynb",
   "output_path": "__notebook__.ipynb",
   "parameters": {},
   "start_time": "2021-11-09T08:22:20.568601",
   "version": "2.3.3"
  }
 },
 "nbformat": 4,
 "nbformat_minor": 5
}
